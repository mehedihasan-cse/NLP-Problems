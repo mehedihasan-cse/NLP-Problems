{
  "cells": [
    {
      "cell_type": "markdown",
      "metadata": {
        "id": "view-in-github",
        "colab_type": "text"
      },
      "source": [
        "<a href=\"https://colab.research.google.com/github/mehedihasan-cse/NLP-Problems/blob/main/Exam_Question_02.ipynb\" target=\"_parent\"><img src=\"https://colab.research.google.com/assets/colab-badge.svg\" alt=\"Open In Colab\"/></a>"
      ]
    },
    {
      "cell_type": "markdown",
      "id": "c7a17d64",
      "metadata": {
        "id": "c7a17d64"
      },
      "source": [
        "## Natural Language Processing"
      ]
    },
    {
      "cell_type": "markdown",
      "id": "802a0edf",
      "metadata": {
        "id": "802a0edf"
      },
      "source": [
        "#### Libraries need to be installed\n",
        "1) pip install nltk\n",
        "2) pip install banglanltk"
      ]
    },
    {
      "cell_type": "code",
      "source": [
        "!pip install banglanltk\n"
      ],
      "metadata": {
        "colab": {
          "base_uri": "https://localhost:8080/"
        },
        "id": "vIttS9XdYNFv",
        "outputId": "7cd25656-eeb4-4a30-f8fc-d2f2fd6fcce3"
      },
      "id": "vIttS9XdYNFv",
      "execution_count": 11,
      "outputs": [
        {
          "output_type": "stream",
          "name": "stdout",
          "text": [
            "Requirement already satisfied: banglanltk in /usr/local/lib/python3.10/dist-packages (0.0.4)\n"
          ]
        }
      ]
    },
    {
      "cell_type": "markdown",
      "id": "9b083403",
      "metadata": {
        "id": "9b083403"
      },
      "source": [
        "#### Import libraries"
      ]
    },
    {
      "cell_type": "code",
      "execution_count": 21,
      "id": "49d73427",
      "metadata": {
        "colab": {
          "base_uri": "https://localhost:8080/"
        },
        "id": "49d73427",
        "outputId": "64690341-513a-475f-e76b-5c62d05f987e"
      },
      "outputs": [
        {
          "output_type": "stream",
          "name": "stderr",
          "text": [
            "[nltk_data] Downloading package punkt to /root/nltk_data...\n",
            "[nltk_data]   Unzipping tokenizers/punkt.zip.\n"
          ]
        },
        {
          "output_type": "execute_result",
          "data": {
            "text/plain": [
              "True"
            ]
          },
          "metadata": {},
          "execution_count": 21
        }
      ],
      "source": [
        "import nltk\n",
        "import banglanltk as bn\n",
        "import re\n",
        "nltk.download('punkt')"
      ]
    },
    {
      "cell_type": "markdown",
      "id": "98eab400",
      "metadata": {
        "id": "98eab400"
      },
      "source": [
        "##### Use this data for further processing\n",
        "গতকাল ডিএসইতে ১ হাজার ১৯০ কোটি ২৬ লাখ টাকার শেয়ার লেনদেন হয়েছে। যা আগের দিন থেকে ৫ কোটি ১৫ লাখ! টাকা কম! গতকাল ডি.এসইতে ১ হাজার ১৯৫ কোটি ৪১ লাখ টাকার শেয়ার লেনদেন হয়েছিল। এর আগের দিন মঙ্গলবার ১ হাজার ১৮৩ কোটি টাকা শেয়ার লেনদেন হয়েছিল। বাজার বিশ্লেষণে দেখা যায় ডিএসই প্রধান সূচক ডিএসইএক্স ১২ পয়েন্ট বেড়ে অবস্হান করছে ৬ হাজার ৩১২ পয়েন্টে। অন্য সূচকগুলোর মধ্যে ডিএসইএস বা শরিয়াহ সূচক ৪ পয়েন্ট বেড়ে অবস্হান করছে ১ হাজার ৩৭৫ পয়েন্টে। এছাড়া ডিএস৩০ সূচক ৬ পয়েন্ট বেড়ে দাঁড়িয়েছে ২ হাজার ২৬৫ পয়েন্টে। দেশের প্রধান এই শেয়ারবাজারে গতকাল ৩৮১টি কোম্পানি ও মিউচুয়াল ফান্ডের শেয়ার লেনদেন হয়েছে। এর মধ্যে দর বেড়েছে ১২৯টির। কমেছে ১৯৯টির এবং অপরিবর্তিত রয়েছে ৫৩টির। অপর বাজার চট্টগ্রাম স্টক  এক্সচেঞ্জে সিএসই সিএসই সার্বিক সূচক সিএসপিআই ৭৮ point বেড়েছে। লেনদেন হয়েছে 21 core টাকার শেয়ার।"
      ]
    },
    {
      "cell_type": "code",
      "execution_count": 22,
      "id": "91510354",
      "metadata": {
        "id": "91510354"
      },
      "outputs": [],
      "source": [
        "para= \"গতকাল ডিএসইতে ১ হাজার ১৯০ কোটি ২৬ লাখ টাকার শেয়ার লেনদেন হয়েছে। যা আগের দিন থেকে ৫ কোটি ১৫ লাখ টাকা কম! গতকাল ডি.এসইতে ১ হাজার ১৯৫ কোটি ৪১ লাখ টাকার শেয়ার লেনদেন হয়েছিল। এর আগের দিন মঙ্গলবার ১ হাজার ১৮৩ কোটি টাকা শেয়ার লেনদেন হয়েছিল। বাজার বিশ্লেষণে দেখা যায় ডিএসই প্রধান সূচক ডিএসইএক্স ১২ পয়েন্ট বেড়ে অবস্হান করছে ৬ হাজার ৩১২ পয়েন্টে। অন্য সূচকগুলোর মধ্যে ডিএসইএস বা শরিয়াহ সূচক ৪ পয়েন্ট বেড়ে অবস্হান করছে ১ হাজার ৩৭৫ পয়েন্টে। এছাড়া ডিএস৩০ সূচক ৬ পয়েন্ট বেড়ে দাঁড়িয়েছে ২ হাজার ২৬৫ পয়েন্টে। দেশের প্রধান এই শেয়ারবাজারে গতকাল ৩৮১টি কোম্পানি ও মিউচুয়াল ফান্ডের শেয়ার লেনদেন হয়েছে। এর মধ্যে দর বেড়েছে ১২৯টির। কমেছে ১৯৯টির এবং অপরিবর্তিত রয়েছে ৫৩টির। অপর বাজার চট্টগ্রাম স্টক  এক্সচেঞ্জে সিএসই সিএসই সার্বিক সূচক সিএসপিআই ৭৮ point বেড়েছে। লেনদেন হয়েছে 21 core টাকার শেয়ার।\""
      ]
    },
    {
      "cell_type": "code",
      "source": [
        "print(para)"
      ],
      "metadata": {
        "colab": {
          "base_uri": "https://localhost:8080/"
        },
        "id": "Whiq5wdqZTOt",
        "outputId": "4c971880-7555-4732-9db1-51b93146644f"
      },
      "id": "Whiq5wdqZTOt",
      "execution_count": 23,
      "outputs": [
        {
          "output_type": "stream",
          "name": "stdout",
          "text": [
            "গতকাল ডিএসইতে ১ হাজার ১৯০ কোটি ২৬ লাখ টাকার শেয়ার লেনদেন হয়েছে। যা আগের দিন থেকে ৫ কোটি ১৫ লাখ টাকা কম! গতকাল ডি.এসইতে ১ হাজার ১৯৫ কোটি ৪১ লাখ টাকার শেয়ার লেনদেন হয়েছিল। এর আগের দিন মঙ্গলবার ১ হাজার ১৮৩ কোটি টাকা শেয়ার লেনদেন হয়েছিল। বাজার বিশ্লেষণে দেখা যায় ডিএসই প্রধান সূচক ডিএসইএক্স ১২ পয়েন্ট বেড়ে অবস্হান করছে ৬ হাজার ৩১২ পয়েন্টে। অন্য সূচকগুলোর মধ্যে ডিএসইএস বা শরিয়াহ সূচক ৪ পয়েন্ট বেড়ে অবস্হান করছে ১ হাজার ৩৭৫ পয়েন্টে। এছাড়া ডিএস৩০ সূচক ৬ পয়েন্ট বেড়ে দাঁড়িয়েছে ২ হাজার ২৬৫ পয়েন্টে। দেশের প্রধান এই শেয়ারবাজারে গতকাল ৩৮১টি কোম্পানি ও মিউচুয়াল ফান্ডের শেয়ার লেনদেন হয়েছে। এর মধ্যে দর বেড়েছে ১২৯টির। কমেছে ১৯৯টির এবং অপরিবর্তিত রয়েছে ৫৩টির। অপর বাজার চট্টগ্রাম স্টক  এক্সচেঞ্জে সিএসই সিএসই সার্বিক সূচক সিএসপিআই ৭৮ point বেড়েছে। লেনদেন হয়েছে 21 core টাকার শেয়ার।\n"
          ]
        }
      ]
    },
    {
      "cell_type": "markdown",
      "id": "ae8c701f",
      "metadata": {
        "id": "ae8c701f"
      },
      "source": [
        "#### Tokenizing the words and provide the length  (use banglanltk library)"
      ]
    },
    {
      "cell_type": "code",
      "execution_count": null,
      "id": "407aa5af",
      "metadata": {
        "id": "407aa5af"
      },
      "outputs": [],
      "source": [
        "# Word Tokenize\n",
        "from nltk.tokenize import word_tokenize\n",
        "tokenized_word=word_tokenize(para)\n",
        "word_tokenize(para)\n"
      ]
    },
    {
      "cell_type": "code",
      "execution_count": null,
      "id": "bab9782d",
      "metadata": {
        "id": "bab9782d"
      },
      "outputs": [],
      "source": [
        "# Tokenize Words length\n",
        "\n",
        "for w in tokenized_word:\n",
        "  print(w, len(w))\n",
        "\n"
      ]
    },
    {
      "cell_type": "markdown",
      "id": "2a4bccd6",
      "metadata": {
        "id": "2a4bccd6"
      },
      "source": [
        "**Expected output 133**"
      ]
    },
    {
      "cell_type": "markdown",
      "id": "3a9a2cb6",
      "metadata": {
        "id": "3a9a2cb6"
      },
      "source": [
        "#### Tokenizing the Sentences and provide the length  (use banglanltk library)"
      ]
    },
    {
      "cell_type": "code",
      "execution_count": null,
      "id": "3723ef7a",
      "metadata": {
        "id": "3723ef7a"
      },
      "outputs": [],
      "source": [
        "# Sentence Tokenize\n",
        "from banglanltk import sent_tokenize\n",
        "tokenized_sent = sent_tokenize(para)\n",
        "sent_tokenize(para)\n",
        "\n",
        "# bn.sent_tokenize(para)\n"
      ]
    },
    {
      "cell_type": "code",
      "execution_count": 51,
      "id": "adc134cc",
      "metadata": {
        "colab": {
          "base_uri": "https://localhost:8080/"
        },
        "id": "adc134cc",
        "outputId": "83fcbb2b-e728-40c9-a892-4b5a3cf1f19c"
      },
      "outputs": [
        {
          "output_type": "stream",
          "name": "stdout",
          "text": [
            "গতকাল ডিএসইতে ১ হাজার ১৯০ কোটি ২৬ লাখ টাকার শেয়ার লেনদেন হয়েছে 63\n",
            "যা আগের দিন থেকে ৫ কোটি ১৫ লাখ টাকা কম  40\n",
            "গতকাল ডিএসইতে ১ হাজার ১৯৫ কোটি ৪১ লাখ টাকার শেয়ার লেনদেন হয়েছিল 64\n",
            "এর আগের দিন মঙ্গলবার ১ হাজার ১৮৩ কোটি টাকা শেয়ার লেনদেন হয়েছিল 63\n",
            "বাজার বিশ্লেষণে দেখা যায় ডিএসই প্রধান সূচক ডিএসইএক্স ১২ পয়েন্ট বেড়ে অবস্হান করছে ৬ হাজার ৩১২ পয়েন্টে 101\n",
            "অন্য সূচকগুলোর মধ্যে ডিএসইএস বা শরিয়াহ সূচক ৪ পয়েন্ট বেড়ে অবস্হান করছে ১ হাজার ৩৭৫ পয়েন্টে 92\n",
            "এছাড়া ডিএস৩০ সূচক ৬ পয়েন্ট বেড়ে দাঁড়িয়েছে ২ হাজার ২৬৫ পয়েন্টে 64\n",
            "দেশের প্রধান এই শেয়ারবাজারে গতকাল ৩৮১টি কোম্পানি ও মিউচুয়াল ফান্ডের শেয়ার লেনদেন হয়েছে 87\n",
            "এর মধ্যে দর বেড়েছে ১২৯টির 26\n",
            "কমেছে ১৯৯টির এবং অপরিবর্তিত রয়েছে ৫৩টির 39\n",
            "অপর বাজার চট্টগ্রাম স্টক এক্সচেঞ্জে সিএসই সিএসই সার্বিক সূচক সিএসপিআই ৭৮ point বেড়েছে 86\n",
            "লেনদেন হয়েছে 21 core টাকার শেয়ার 32\n"
          ]
        }
      ],
      "source": [
        "# Tokenize Sentences length\n",
        "for w in tokenized_sent:\n",
        "  print(w, len(w))\n"
      ]
    },
    {
      "cell_type": "markdown",
      "id": "5abb6af5",
      "metadata": {
        "id": "5abb6af5"
      },
      "source": [
        "**Expected output 12**"
      ]
    },
    {
      "cell_type": "markdown",
      "id": "04a26a91",
      "metadata": {
        "id": "04a26a91"
      },
      "source": [
        "#### Apply stopwords and stemmer in the tokenized sentences.\n",
        "###### Use stopwords from \"from nltk.corpus import stopwords\" and stremmer from  \"banglanltk\" package"
      ]
    },
    {
      "cell_type": "code",
      "execution_count": null,
      "id": "0d06ca7f",
      "metadata": {
        "id": "0d06ca7f"
      },
      "outputs": [],
      "source": [
        ""
      ]
    },
    {
      "cell_type": "markdown",
      "id": "1ddd7b8e",
      "metadata": {
        "id": "1ddd7b8e"
      },
      "source": [
        "#### Again tokenize the words in sentences that get after applying stopwords and stemming. And provide the length of the tokenize words."
      ]
    },
    {
      "cell_type": "code",
      "execution_count": null,
      "id": "6a853972",
      "metadata": {
        "id": "6a853972"
      },
      "outputs": [],
      "source": [
        "# Word Tokenize\n"
      ]
    },
    {
      "cell_type": "code",
      "execution_count": null,
      "id": "fedeb7c4",
      "metadata": {
        "id": "fedeb7c4",
        "outputId": "32dbad7f-d63a-49b5-9a0d-85c506770843"
      },
      "outputs": [
        {
          "data": {
            "text/plain": [
              "111"
            ]
          },
          "execution_count": 206,
          "metadata": {},
          "output_type": "execute_result"
        }
      ],
      "source": [
        "# Tokenize Words length\n"
      ]
    },
    {
      "cell_type": "markdown",
      "id": "36c50539",
      "metadata": {
        "id": "36c50539"
      },
      "source": [
        "**Expected output 111**"
      ]
    },
    {
      "cell_type": "markdown",
      "id": "c705a5f7",
      "metadata": {
        "id": "c705a5f7"
      },
      "source": [
        "### Stemmer Vs Lemamtization\n",
        "Stemming and lemmatization are both techniques used in natural language processing (NLP) and text mining to reduce words to their base or root form."
      ]
    },
    {
      "cell_type": "code",
      "execution_count": null,
      "id": "b8aa4639",
      "metadata": {
        "id": "b8aa4639"
      },
      "outputs": [],
      "source": [
        "# What are the differences between Stemmer and Lemmatization(Provive atleast 2 points)\n"
      ]
    },
    {
      "cell_type": "markdown",
      "id": "35ffe090",
      "metadata": {
        "id": "35ffe090"
      },
      "source": [
        "Suppose there are some application where we will use Stemming and Lemmatization text processing technique. Tell Us which text processing technique suitable for these applications. Provide answer like **(# Content Filtering -> Stemming)**"
      ]
    },
    {
      "cell_type": "code",
      "execution_count": null,
      "id": "11f2fd67",
      "metadata": {
        "id": "11f2fd67"
      },
      "outputs": [],
      "source": [
        "# Sentiment analysis ->\n",
        "# Chatbots application ->\n",
        "# Gmail spam classification ->\n",
        "# Question answer ->"
      ]
    },
    {
      "cell_type": "markdown",
      "id": "d7ff066d",
      "metadata": {
        "id": "d7ff066d"
      },
      "source": [
        "### Create Bag of words\n",
        "**1.** Step 1: Cleaning the text that not contain any numeric value, any punctuations etc.(In the give text)\n",
        "\n",
        "**2.** Step 2: Apply stopwords and stemmer again in the clean data.\n",
        "\n",
        "**3.** Step 3: Create Bag of Words (Use \"from sklearn.feature_extraction.text import CountVectorizer\")"
      ]
    },
    {
      "cell_type": "code",
      "execution_count": null,
      "id": "7d57715a",
      "metadata": {
        "id": "7d57715a"
      },
      "outputs": [],
      "source": []
    },
    {
      "cell_type": "code",
      "execution_count": null,
      "id": "02dd0948",
      "metadata": {
        "id": "02dd0948"
      },
      "outputs": [],
      "source": []
    },
    {
      "cell_type": "code",
      "execution_count": null,
      "id": "2e5277f1",
      "metadata": {
        "id": "2e5277f1"
      },
      "outputs": [],
      "source": []
    },
    {
      "cell_type": "markdown",
      "id": "3bba0866",
      "metadata": {
        "id": "3bba0866"
      },
      "source": [
        "###### Expected output\n",
        "array(['অপর', 'অপরিবর্তিত', 'অবস্হা', 'আগের', 'এক্সচেঞ্জ', 'এছাড়া', 'কম',\n",
        "       'কমেছ', 'কে', 'কোম্', 'গতকাল', 'চট্টগ্রাম', 'টাকা', 'টাকার',\n",
        "       'ডিএস', 'ডিএসই', 'ডিএসইএক্স', 'ডিএসইএস', 'ডিএসইত', 'দর', 'দাঁড়',\n",
        "       'দেশের', 'প্রধা', 'পয়েন্ট', 'ফান্ডের', 'বাজার', 'বিশ্লেষণ', 'বেড়',\n",
        "       'বেড়েছ', 'মঙ্গলবার', 'মিউচুয়াল', 'যায়', 'রয়', 'লাখ', 'লেনদে',\n",
        "       'শরিয়াহ', 'শেয়ার', 'শেয়ারবাজার', 'সার্ব', 'সিএসই', 'সিএসপিআই',\n",
        "       'সূচক', 'সূচকগুলোর', 'স্টক', 'হয়'], dtype=object)"
      ]
    }
  ],
  "metadata": {
    "kernelspec": {
      "display_name": "Python 3 (ipykernel)",
      "language": "python",
      "name": "python3"
    },
    "language_info": {
      "codemirror_mode": {
        "name": "ipython",
        "version": 3
      },
      "file_extension": ".py",
      "mimetype": "text/x-python",
      "name": "python",
      "nbconvert_exporter": "python",
      "pygments_lexer": "ipython3",
      "version": "3.8.18"
    },
    "colab": {
      "provenance": [],
      "include_colab_link": true
    }
  },
  "nbformat": 4,
  "nbformat_minor": 5
}