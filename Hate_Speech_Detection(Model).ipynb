{
  "nbformat": 4,
  "nbformat_minor": 0,
  "metadata": {
    "colab": {
      "provenance": [],
      "include_colab_link": true
    },
    "kernelspec": {
      "name": "python3",
      "display_name": "Python 3"
    },
    "language_info": {
      "name": "python"
    }
  },
  "cells": [
    {
      "cell_type": "markdown",
      "metadata": {
        "id": "view-in-github",
        "colab_type": "text"
      },
      "source": [
        "<a href=\"https://colab.research.google.com/github/mehedihasan-cse/NLP-Problems/blob/main/Hate_Speech_Detection(Model).ipynb\" target=\"_parent\"><img src=\"https://colab.research.google.com/assets/colab-badge.svg\" alt=\"Open In Colab\"/></a>"
      ]
    },
    {
      "cell_type": "code",
      "execution_count": 922,
      "metadata": {
        "id": "oUb_Ymeu0Erc",
        "colab": {
          "base_uri": "https://localhost:8080/"
        },
        "outputId": "4626c58c-700a-4e68-e898-d030fe7051a0"
      },
      "outputs": [
        {
          "output_type": "stream",
          "name": "stdout",
          "text": [
            "\u001b[31mERROR: Could not find a version that satisfies the requirement sklearn.metrics (from versions: none)\u001b[0m\u001b[31m\n",
            "\u001b[0m\u001b[31mERROR: No matching distribution found for sklearn.metrics\u001b[0m\u001b[31m\n",
            "\u001b[0m"
          ]
        }
      ],
      "source": [
        "import numpy as np  #To work with multi-dimentional array and matrix\n",
        "import pandas as pd  #Data Manipulation, Data strcutre\n",
        "import matplotlib.pyplot as plt #Data Visualization\n",
        "import seaborn as sns\n",
        "import nltk\n",
        "import string\n",
        "!pip install sklearn.metrics\n",
        "from sklearn.model_selection import train_test_split\n",
        "from sklearn.metrics import confusion_matrix\n",
        "from sklearn.metrics import accuracy_score\n",
        "import seaborn as sns; sns.set()\n",
        "from sklearn.metrics import roc_auc_score\n",
        "from sklearn.metrics import roc_curve\n",
        "%matplotlib inline"
      ]
    },
    {
      "cell_type": "code",
      "source": [
        "df = pd.read_csv(\"/content/modified_data (1).csv\")"
      ],
      "metadata": {
        "id": "183GZFkyQGmh"
      },
      "execution_count": 923,
      "outputs": []
    },
    {
      "cell_type": "code",
      "source": [
        "df.head()"
      ],
      "metadata": {
        "colab": {
          "base_uri": "https://localhost:8080/",
          "height": 206
        },
        "id": "T0Q81LE4Ql1Z",
        "outputId": "764cbf01-091f-4ca0-e66e-82ac8701fb7b"
      },
      "execution_count": 924,
      "outputs": [
        {
          "output_type": "execute_result",
          "data": {
            "text/plain": [
              "                                             Content  Target\n",
              "0                     ভারতীয় দূতাবাস ঘেরাও দুপুর ২টা       1\n",
              "1            আল্লাহ এর বিচারে হাসার সুযোগ ও পাবি না🫤       1\n",
              "2  একজন চাওয়ালার থেকে আর কি আশা করা যায় কখনো ধর...       1\n",
              "3  ফেরাউন কেও পানিতেই ডুবে মরতে হয়ে ছিলো। যাই হোক...       1\n",
              "4  ভারতে বন্যা হয় কেনআল্লাহর গজববাংলাদেশে বন্যা হ...       1"
            ],
            "text/html": [
              "\n",
              "  <div id=\"df-61553f9c-e681-4f62-92ef-5bbd04c6a319\" class=\"colab-df-container\">\n",
              "    <div>\n",
              "<style scoped>\n",
              "    .dataframe tbody tr th:only-of-type {\n",
              "        vertical-align: middle;\n",
              "    }\n",
              "\n",
              "    .dataframe tbody tr th {\n",
              "        vertical-align: top;\n",
              "    }\n",
              "\n",
              "    .dataframe thead th {\n",
              "        text-align: right;\n",
              "    }\n",
              "</style>\n",
              "<table border=\"1\" class=\"dataframe\">\n",
              "  <thead>\n",
              "    <tr style=\"text-align: right;\">\n",
              "      <th></th>\n",
              "      <th>Content</th>\n",
              "      <th>Target</th>\n",
              "    </tr>\n",
              "  </thead>\n",
              "  <tbody>\n",
              "    <tr>\n",
              "      <th>0</th>\n",
              "      <td>ভারতীয় দূতাবাস ঘেরাও দুপুর ২টা</td>\n",
              "      <td>1</td>\n",
              "    </tr>\n",
              "    <tr>\n",
              "      <th>1</th>\n",
              "      <td>আল্লাহ এর বিচারে হাসার সুযোগ ও পাবি না🫤</td>\n",
              "      <td>1</td>\n",
              "    </tr>\n",
              "    <tr>\n",
              "      <th>2</th>\n",
              "      <td>একজন চাওয়ালার থেকে আর কি আশা করা যায় কখনো ধর...</td>\n",
              "      <td>1</td>\n",
              "    </tr>\n",
              "    <tr>\n",
              "      <th>3</th>\n",
              "      <td>ফেরাউন কেও পানিতেই ডুবে মরতে হয়ে ছিলো। যাই হোক...</td>\n",
              "      <td>1</td>\n",
              "    </tr>\n",
              "    <tr>\n",
              "      <th>4</th>\n",
              "      <td>ভারতে বন্যা হয় কেনআল্লাহর গজববাংলাদেশে বন্যা হ...</td>\n",
              "      <td>1</td>\n",
              "    </tr>\n",
              "  </tbody>\n",
              "</table>\n",
              "</div>\n",
              "    <div class=\"colab-df-buttons\">\n",
              "\n",
              "  <div class=\"colab-df-container\">\n",
              "    <button class=\"colab-df-convert\" onclick=\"convertToInteractive('df-61553f9c-e681-4f62-92ef-5bbd04c6a319')\"\n",
              "            title=\"Convert this dataframe to an interactive table.\"\n",
              "            style=\"display:none;\">\n",
              "\n",
              "  <svg xmlns=\"http://www.w3.org/2000/svg\" height=\"24px\" viewBox=\"0 -960 960 960\">\n",
              "    <path d=\"M120-120v-720h720v720H120Zm60-500h600v-160H180v160Zm220 220h160v-160H400v160Zm0 220h160v-160H400v160ZM180-400h160v-160H180v160Zm440 0h160v-160H620v160ZM180-180h160v-160H180v160Zm440 0h160v-160H620v160Z\"/>\n",
              "  </svg>\n",
              "    </button>\n",
              "\n",
              "  <style>\n",
              "    .colab-df-container {\n",
              "      display:flex;\n",
              "      gap: 12px;\n",
              "    }\n",
              "\n",
              "    .colab-df-convert {\n",
              "      background-color: #E8F0FE;\n",
              "      border: none;\n",
              "      border-radius: 50%;\n",
              "      cursor: pointer;\n",
              "      display: none;\n",
              "      fill: #1967D2;\n",
              "      height: 32px;\n",
              "      padding: 0 0 0 0;\n",
              "      width: 32px;\n",
              "    }\n",
              "\n",
              "    .colab-df-convert:hover {\n",
              "      background-color: #E2EBFA;\n",
              "      box-shadow: 0px 1px 2px rgba(60, 64, 67, 0.3), 0px 1px 3px 1px rgba(60, 64, 67, 0.15);\n",
              "      fill: #174EA6;\n",
              "    }\n",
              "\n",
              "    .colab-df-buttons div {\n",
              "      margin-bottom: 4px;\n",
              "    }\n",
              "\n",
              "    [theme=dark] .colab-df-convert {\n",
              "      background-color: #3B4455;\n",
              "      fill: #D2E3FC;\n",
              "    }\n",
              "\n",
              "    [theme=dark] .colab-df-convert:hover {\n",
              "      background-color: #434B5C;\n",
              "      box-shadow: 0px 1px 3px 1px rgba(0, 0, 0, 0.15);\n",
              "      filter: drop-shadow(0px 1px 2px rgba(0, 0, 0, 0.3));\n",
              "      fill: #FFFFFF;\n",
              "    }\n",
              "  </style>\n",
              "\n",
              "    <script>\n",
              "      const buttonEl =\n",
              "        document.querySelector('#df-61553f9c-e681-4f62-92ef-5bbd04c6a319 button.colab-df-convert');\n",
              "      buttonEl.style.display =\n",
              "        google.colab.kernel.accessAllowed ? 'block' : 'none';\n",
              "\n",
              "      async function convertToInteractive(key) {\n",
              "        const element = document.querySelector('#df-61553f9c-e681-4f62-92ef-5bbd04c6a319');\n",
              "        const dataTable =\n",
              "          await google.colab.kernel.invokeFunction('convertToInteractive',\n",
              "                                                    [key], {});\n",
              "        if (!dataTable) return;\n",
              "\n",
              "        const docLinkHtml = 'Like what you see? Visit the ' +\n",
              "          '<a target=\"_blank\" href=https://colab.research.google.com/notebooks/data_table.ipynb>data table notebook</a>'\n",
              "          + ' to learn more about interactive tables.';\n",
              "        element.innerHTML = '';\n",
              "        dataTable['output_type'] = 'display_data';\n",
              "        await google.colab.output.renderOutput(dataTable, element);\n",
              "        const docLink = document.createElement('div');\n",
              "        docLink.innerHTML = docLinkHtml;\n",
              "        element.appendChild(docLink);\n",
              "      }\n",
              "    </script>\n",
              "  </div>\n",
              "\n",
              "\n",
              "<div id=\"df-59d89c36-fd60-4f83-ac69-5929bbd8fac6\">\n",
              "  <button class=\"colab-df-quickchart\" onclick=\"quickchart('df-59d89c36-fd60-4f83-ac69-5929bbd8fac6')\"\n",
              "            title=\"Suggest charts\"\n",
              "            style=\"display:none;\">\n",
              "\n",
              "<svg xmlns=\"http://www.w3.org/2000/svg\" height=\"24px\"viewBox=\"0 0 24 24\"\n",
              "     width=\"24px\">\n",
              "    <g>\n",
              "        <path d=\"M19 3H5c-1.1 0-2 .9-2 2v14c0 1.1.9 2 2 2h14c1.1 0 2-.9 2-2V5c0-1.1-.9-2-2-2zM9 17H7v-7h2v7zm4 0h-2V7h2v10zm4 0h-2v-4h2v4z\"/>\n",
              "    </g>\n",
              "</svg>\n",
              "  </button>\n",
              "\n",
              "<style>\n",
              "  .colab-df-quickchart {\n",
              "      --bg-color: #E8F0FE;\n",
              "      --fill-color: #1967D2;\n",
              "      --hover-bg-color: #E2EBFA;\n",
              "      --hover-fill-color: #174EA6;\n",
              "      --disabled-fill-color: #AAA;\n",
              "      --disabled-bg-color: #DDD;\n",
              "  }\n",
              "\n",
              "  [theme=dark] .colab-df-quickchart {\n",
              "      --bg-color: #3B4455;\n",
              "      --fill-color: #D2E3FC;\n",
              "      --hover-bg-color: #434B5C;\n",
              "      --hover-fill-color: #FFFFFF;\n",
              "      --disabled-bg-color: #3B4455;\n",
              "      --disabled-fill-color: #666;\n",
              "  }\n",
              "\n",
              "  .colab-df-quickchart {\n",
              "    background-color: var(--bg-color);\n",
              "    border: none;\n",
              "    border-radius: 50%;\n",
              "    cursor: pointer;\n",
              "    display: none;\n",
              "    fill: var(--fill-color);\n",
              "    height: 32px;\n",
              "    padding: 0;\n",
              "    width: 32px;\n",
              "  }\n",
              "\n",
              "  .colab-df-quickchart:hover {\n",
              "    background-color: var(--hover-bg-color);\n",
              "    box-shadow: 0 1px 2px rgba(60, 64, 67, 0.3), 0 1px 3px 1px rgba(60, 64, 67, 0.15);\n",
              "    fill: var(--button-hover-fill-color);\n",
              "  }\n",
              "\n",
              "  .colab-df-quickchart-complete:disabled,\n",
              "  .colab-df-quickchart-complete:disabled:hover {\n",
              "    background-color: var(--disabled-bg-color);\n",
              "    fill: var(--disabled-fill-color);\n",
              "    box-shadow: none;\n",
              "  }\n",
              "\n",
              "  .colab-df-spinner {\n",
              "    border: 2px solid var(--fill-color);\n",
              "    border-color: transparent;\n",
              "    border-bottom-color: var(--fill-color);\n",
              "    animation:\n",
              "      spin 1s steps(1) infinite;\n",
              "  }\n",
              "\n",
              "  @keyframes spin {\n",
              "    0% {\n",
              "      border-color: transparent;\n",
              "      border-bottom-color: var(--fill-color);\n",
              "      border-left-color: var(--fill-color);\n",
              "    }\n",
              "    20% {\n",
              "      border-color: transparent;\n",
              "      border-left-color: var(--fill-color);\n",
              "      border-top-color: var(--fill-color);\n",
              "    }\n",
              "    30% {\n",
              "      border-color: transparent;\n",
              "      border-left-color: var(--fill-color);\n",
              "      border-top-color: var(--fill-color);\n",
              "      border-right-color: var(--fill-color);\n",
              "    }\n",
              "    40% {\n",
              "      border-color: transparent;\n",
              "      border-right-color: var(--fill-color);\n",
              "      border-top-color: var(--fill-color);\n",
              "    }\n",
              "    60% {\n",
              "      border-color: transparent;\n",
              "      border-right-color: var(--fill-color);\n",
              "    }\n",
              "    80% {\n",
              "      border-color: transparent;\n",
              "      border-right-color: var(--fill-color);\n",
              "      border-bottom-color: var(--fill-color);\n",
              "    }\n",
              "    90% {\n",
              "      border-color: transparent;\n",
              "      border-bottom-color: var(--fill-color);\n",
              "    }\n",
              "  }\n",
              "</style>\n",
              "\n",
              "  <script>\n",
              "    async function quickchart(key) {\n",
              "      const quickchartButtonEl =\n",
              "        document.querySelector('#' + key + ' button');\n",
              "      quickchartButtonEl.disabled = true;  // To prevent multiple clicks.\n",
              "      quickchartButtonEl.classList.add('colab-df-spinner');\n",
              "      try {\n",
              "        const charts = await google.colab.kernel.invokeFunction(\n",
              "            'suggestCharts', [key], {});\n",
              "      } catch (error) {\n",
              "        console.error('Error during call to suggestCharts:', error);\n",
              "      }\n",
              "      quickchartButtonEl.classList.remove('colab-df-spinner');\n",
              "      quickchartButtonEl.classList.add('colab-df-quickchart-complete');\n",
              "    }\n",
              "    (() => {\n",
              "      let quickchartButtonEl =\n",
              "        document.querySelector('#df-59d89c36-fd60-4f83-ac69-5929bbd8fac6 button');\n",
              "      quickchartButtonEl.style.display =\n",
              "        google.colab.kernel.accessAllowed ? 'block' : 'none';\n",
              "    })();\n",
              "  </script>\n",
              "</div>\n",
              "\n",
              "    </div>\n",
              "  </div>\n"
            ],
            "application/vnd.google.colaboratory.intrinsic+json": {
              "type": "dataframe",
              "variable_name": "df",
              "summary": "{\n  \"name\": \"df\",\n  \"rows\": 131,\n  \"fields\": [\n    {\n      \"column\": \"Content\",\n      \"properties\": {\n        \"dtype\": \"string\",\n        \"num_unique_values\": 130,\n        \"samples\": [\n          \"\\u09b8\\u0982\\u0996\\u09cd\\u09af\\u09be\\u09b2\\u0998\\u09c1 \\u09b0\\u09be \\u098f\\u0996\\u09a8 \\u0987\\u09a8\\u09cd\\u09a1\\u09bf\\u09df\\u09be \\u098f\\u09b0 \\u09aa\\u09be\\u09a8\\u09bf \\u09a6\\u09c7\\u0996\\u09a4\\u09c7 \\u09aa\\u09be\\u09b0\\u09c7\\u099b\\u09c7 \\u09a8\\u09be\\u09b9\\u0964\",\n          \"\\u099c\\u09be\\u09a8\\u09cb\\u09df\\u09be\\u09b0\",\n          \"\\u09a4\\u09be\\u09a6\\u09c7\\u09b0 \\u09a6\\u09c7\\u09b6\\u09c7\\u09b0 \\u09ae\\u09cc\\u09ae\\u09bf\\u09a4\\u09be\\u09b0 \\u099c\\u09a8\\u09cd\\u09af \\u0986\\u09ae\\u09b0\\u09be \\u09b8\\u09ac\\u09be\\u0987 \\u0995\\u09be\\u0981\\u09a6\\u09a4\\u09c7\\u099b\\u09bf\\u09b2\\u09be\\u09ae \\u0986\\u09b0 \\u09a4\\u09be\\u09b0\\u09be \\u0986\\u09ae\\u09be\\u09b0 \\u09a6\\u09c7\\u09b6\\u09c7\\u09b0 \\u09ac\\u09a8\\u09cd\\u09af\\u09be\\u09df \\u0986\\u099f\\u0995\\u09be \\u09ae\\u09be\\u09a8\\u09c1\\u09b7 \\u09a6\\u09c7\\u0996\\u09c7 \\u09b9\\u09be\\u09b8\\u099b\\u09c7\\u0964\\u09ae\\u09be\\u09a8\\u09c1\\u09b7 \\u0986\\u09b0 \\u0985\\u09ae\\u09be\\u09a8\\u09c1\\u09b7 \\u098f\\u09b0 \\u09aa\\u09be\\u09b0\\u09cd\\u09a5\\u0995\\u09cd\\u09af \\u09ae\\u09be\\u09a8\\u09ac\\u09bf\\u0995\\u09a4\\u09be\\u09b0\"\n        ],\n        \"semantic_type\": \"\",\n        \"description\": \"\"\n      }\n    },\n    {\n      \"column\": \"Target\",\n      \"properties\": {\n        \"dtype\": \"number\",\n        \"std\": 0,\n        \"min\": 0,\n        \"max\": 1,\n        \"num_unique_values\": 2,\n        \"samples\": [\n          0,\n          1\n        ],\n        \"semantic_type\": \"\",\n        \"description\": \"\"\n      }\n    }\n  ]\n}"
            }
          },
          "metadata": {},
          "execution_count": 924
        }
      ]
    },
    {
      "cell_type": "code",
      "source": [
        "df.columns.values"
      ],
      "metadata": {
        "colab": {
          "base_uri": "https://localhost:8080/"
        },
        "id": "XzRu8DYzQw-1",
        "outputId": "cb381656-5931-45f1-ec36-6da00ac726dc"
      },
      "execution_count": 925,
      "outputs": [
        {
          "output_type": "execute_result",
          "data": {
            "text/plain": [
              "array(['Content', 'Target'], dtype=object)"
            ]
          },
          "metadata": {},
          "execution_count": 925
        }
      ]
    },
    {
      "cell_type": "code",
      "source": [
        "df.value_counts()"
      ],
      "metadata": {
        "colab": {
          "base_uri": "https://localhost:8080/",
          "height": 646
        },
        "collapsed": true,
        "id": "wU9dS_nlHtFK",
        "outputId": "ad0a6202-59d0-45dd-dfbf-d98650058d8d"
      },
      "execution_count": 926,
      "outputs": [
        {
          "output_type": "execute_result",
          "data": {
            "text/plain": [
              "Content                                                                                                                                                                                                                                                                                                                                                                                                                                                                                          Target\n",
              "অভিনন্দন                                                                                                                                                                                                                                                                                                                                                                                                                                                                                         0         1\n",
              "মাদারবোর্ড মোদী💯💥🙂                                                                                                                                                                                                                                                                                                                                                                                                                                                                               1         1\n",
              "মডি বাইনচুদ 😡                                                                                                                                                                                                                                                                                                                                                                                                                                                                                    1         1\n",
              "ভারতের রাষ্ট্রধুতকে তলব করে নিন্দা জানান।আমরা একা নয়                                                                                                                                                                                                                                                                                                                                                                                                                                             1         1\n",
              "ভারতের দূতাবাস ঘেরাও দূতকে তলব এবং আন্তর্জাতিক আদালতে মামলা করা উচিত। এরপরেও ঠিক না হলে সাইবার অ্যাটাক করে তাদের সাইবার স্পেস তছনছ করে দেওয়া উচিত ২০১২ এর মতো।                                                                                                                                                                                                                                                                                                                                   1         1\n",
              "                                                                                                                                                                                                                                                                                                                                                                                                                                                                                                          ..\n",
              "গতকাল প্রবল বর্ষণে ভারতের তিস্তা নদীর জলবিদ্যুত প্রকল্প ভেঙে ধসে যাওয়ার সংবাদে কিছু মানুষ আলহামদুলিল্লাহ্‌ লিখেছিলো খুশি হয়েছিলো। অথচ এটা বোঝেনা তোমরা ভাটির দেশের মানুষ। ঐ জল গড়িয়ে বাংলাদেশের উপর দিয়েই প্রবাহিত হবে। ত্রিপুরার ডুম্বুর গেট খুলে দিতে বাধ্য হয়েছে ভারত তারা গতকাল সারাদিন অপেক্ষা করেছে। রাতে অবস্থা এতটাই খারাপের দিকে যাচ্ছিলো যে গেট খুলে না দিলে জলের তীব্র স্রোতে গেট ভেঙে জল বাংলাদেশে প্রবেশ করত। এতে ক্ষয়ক্ষতির পরিমাণ হতো আরো বেশী। বাংলাদেশ মানেই অশিক্ষার অন্ধকার।  1         1\n",
              "কেন গতকাল যখন ভারতের একটা বাধ ভেঙে গেলো তখন তো আলহামদুলিল্লাহ বলছেন আজ যখন সেই পানি এসে দেশে বন্যা হচ্ছে তখন ইন্না নিল্লাহ পড়তাছেন সরকার বন্যা নিয়ন্ত্রণ করতে না পড়ে এখন ভারতীয় ষড়যন্ত্র বলে চালিয়ে দিচ্ছে।                                                                                                                                                                                                                                                                                      1         1\n",
              "কুত্তা                                                                                                                                                                                                                                                                                                                                                                                                                                                                                           1         1\n",
              "কাপুরুষের কাজই এইটা। সরাসরি না পারলে মেয়ে মানুষের মতো এমন আঁচড় দিবে। ইনশাআল্লাহ এইবার বাচতে দেন ভারতের   মরবো না।                                                                                                                                                                                                                                                                                                                                                                                1         1\n",
              "🥰🥰❣️💯⬅️⬅️                                                                                                                                                                                                                                                                                                                                                                                                                                                                                        0         1\n",
              "Name: count, Length: 130, dtype: int64"
            ],
            "text/html": [
              "<div>\n",
              "<style scoped>\n",
              "    .dataframe tbody tr th:only-of-type {\n",
              "        vertical-align: middle;\n",
              "    }\n",
              "\n",
              "    .dataframe tbody tr th {\n",
              "        vertical-align: top;\n",
              "    }\n",
              "\n",
              "    .dataframe thead th {\n",
              "        text-align: right;\n",
              "    }\n",
              "</style>\n",
              "<table border=\"1\" class=\"dataframe\">\n",
              "  <thead>\n",
              "    <tr style=\"text-align: right;\">\n",
              "      <th></th>\n",
              "      <th></th>\n",
              "      <th>count</th>\n",
              "    </tr>\n",
              "    <tr>\n",
              "      <th>Content</th>\n",
              "      <th>Target</th>\n",
              "      <th></th>\n",
              "    </tr>\n",
              "  </thead>\n",
              "  <tbody>\n",
              "    <tr>\n",
              "      <th>অভিনন্দন</th>\n",
              "      <th>0</th>\n",
              "      <td>1</td>\n",
              "    </tr>\n",
              "    <tr>\n",
              "      <th>মাদারবোর্ড মোদী💯💥🙂</th>\n",
              "      <th>1</th>\n",
              "      <td>1</td>\n",
              "    </tr>\n",
              "    <tr>\n",
              "      <th>মডি বাইনচুদ 😡</th>\n",
              "      <th>1</th>\n",
              "      <td>1</td>\n",
              "    </tr>\n",
              "    <tr>\n",
              "      <th>ভারতের রাষ্ট্রধুতকে তলব করে নিন্দা জানান।আমরা একা নয়</th>\n",
              "      <th>1</th>\n",
              "      <td>1</td>\n",
              "    </tr>\n",
              "    <tr>\n",
              "      <th>ভারতের দূতাবাস ঘেরাও দূতকে তলব এবং আন্তর্জাতিক আদালতে মামলা করা উচিত। এরপরেও ঠিক না হলে সাইবার অ্যাটাক করে তাদের সাইবার স্পেস তছনছ করে দেওয়া উচিত ২০১২ এর মতো।</th>\n",
              "      <th>1</th>\n",
              "      <td>1</td>\n",
              "    </tr>\n",
              "    <tr>\n",
              "      <th>...</th>\n",
              "      <th>...</th>\n",
              "      <td>...</td>\n",
              "    </tr>\n",
              "    <tr>\n",
              "      <th>গতকাল প্রবল বর্ষণে ভারতের তিস্তা নদীর জলবিদ্যুত প্রকল্প ভেঙে ধসে যাওয়ার সংবাদে কিছু মানুষ আলহামদুলিল্লাহ্‌ লিখেছিলো খুশি হয়েছিলো। অথচ এটা বোঝেনা তোমরা ভাটির দেশের মানুষ। ঐ জল গড়িয়ে বাংলাদেশের উপর দিয়েই প্রবাহিত হবে। ত্রিপুরার ডুম্বুর গেট খুলে দিতে বাধ্য হয়েছে ভারত তারা গতকাল সারাদিন অপেক্ষা করেছে। রাতে অবস্থা এতটাই খারাপের দিকে যাচ্ছিলো যে গেট খুলে না দিলে জলের তীব্র স্রোতে গেট ভেঙে জল বাংলাদেশে প্রবেশ করত। এতে ক্ষয়ক্ষতির পরিমাণ হতো আরো বেশী। বাংলাদেশ মানেই অশিক্ষার অন্ধকার।</th>\n",
              "      <th>1</th>\n",
              "      <td>1</td>\n",
              "    </tr>\n",
              "    <tr>\n",
              "      <th>কেন গতকাল যখন ভারতের একটা বাধ ভেঙে গেলো তখন তো আলহামদুলিল্লাহ বলছেন আজ যখন সেই পানি এসে দেশে বন্যা হচ্ছে তখন ইন্না নিল্লাহ পড়তাছেন সরকার বন্যা নিয়ন্ত্রণ করতে না পড়ে এখন ভারতীয় ষড়যন্ত্র বলে চালিয়ে দিচ্ছে।</th>\n",
              "      <th>1</th>\n",
              "      <td>1</td>\n",
              "    </tr>\n",
              "    <tr>\n",
              "      <th>কুত্তা</th>\n",
              "      <th>1</th>\n",
              "      <td>1</td>\n",
              "    </tr>\n",
              "    <tr>\n",
              "      <th>কাপুরুষের কাজই এইটা। সরাসরি না পারলে মেয়ে মানুষের মতো এমন আঁচড় দিবে। ইনশাআল্লাহ এইবার বাচতে দেন ভারতের   মরবো না।</th>\n",
              "      <th>1</th>\n",
              "      <td>1</td>\n",
              "    </tr>\n",
              "    <tr>\n",
              "      <th>🥰🥰❣️💯⬅️⬅️</th>\n",
              "      <th>0</th>\n",
              "      <td>1</td>\n",
              "    </tr>\n",
              "  </tbody>\n",
              "</table>\n",
              "<p>130 rows × 1 columns</p>\n",
              "</div><br><label><b>dtype:</b> int64</label>"
            ]
          },
          "metadata": {},
          "execution_count": 926
        }
      ]
    },
    {
      "cell_type": "markdown",
      "source": [
        "# **Data Pre-Processing**"
      ],
      "metadata": {
        "id": "qPceAwwBUo0H"
      }
    },
    {
      "cell_type": "code",
      "source": [
        "df.drop_duplicates(inplace =True)\n",
        "df = df.replace('\\n','',regex= True)\n",
        "df = df.replace(',,',',',regex= True)"
      ],
      "metadata": {
        "id": "K_fzkgS4HpIM"
      },
      "execution_count": 927,
      "outputs": []
    },
    {
      "cell_type": "code",
      "source": [
        "df"
      ],
      "metadata": {
        "colab": {
          "base_uri": "https://localhost:8080/",
          "height": 423
        },
        "collapsed": true,
        "id": "K3jxXty-H3JL",
        "outputId": "f583dbb8-32dd-4048-8a34-983bf7a75e54"
      },
      "execution_count": 928,
      "outputs": [
        {
          "output_type": "execute_result",
          "data": {
            "text/plain": [
              "                                               Content  Target\n",
              "0                       ভারতীয় দূতাবাস ঘেরাও দুপুর ২টা       1\n",
              "1              আল্লাহ এর বিচারে হাসার সুযোগ ও পাবি না🫤       1\n",
              "2    একজন চাওয়ালার থেকে আর কি আশা করা যায় কখনো ধর...       1\n",
              "3    ফেরাউন কেও পানিতেই ডুবে মরতে হয়ে ছিলো। যাই হোক...       1\n",
              "4    ভারতে বন্যা হয় কেনআল্লাহর গজববাংলাদেশে বন্যা হ...       1\n",
              "..                                                 ...     ...\n",
              "126                                                  💕       0\n",
              "127  না ভাই আপনার এটা ভুল ধারণা পৃথিবীর মধ্যে শ্রেষ...       0\n",
              "128                        দিনাজপুরে আসার আহ্বান থাকবে       0\n",
              "129                                                😍😍😍       0\n",
              "130  পৃথীবির মধ্যে সবচেয়ে প্রিয় জায়গা কক্সবাজার ...       0\n",
              "\n",
              "[131 rows x 2 columns]"
            ],
            "text/html": [
              "\n",
              "  <div id=\"df-f4876acb-69e8-441e-a36e-5789adce4010\" class=\"colab-df-container\">\n",
              "    <div>\n",
              "<style scoped>\n",
              "    .dataframe tbody tr th:only-of-type {\n",
              "        vertical-align: middle;\n",
              "    }\n",
              "\n",
              "    .dataframe tbody tr th {\n",
              "        vertical-align: top;\n",
              "    }\n",
              "\n",
              "    .dataframe thead th {\n",
              "        text-align: right;\n",
              "    }\n",
              "</style>\n",
              "<table border=\"1\" class=\"dataframe\">\n",
              "  <thead>\n",
              "    <tr style=\"text-align: right;\">\n",
              "      <th></th>\n",
              "      <th>Content</th>\n",
              "      <th>Target</th>\n",
              "    </tr>\n",
              "  </thead>\n",
              "  <tbody>\n",
              "    <tr>\n",
              "      <th>0</th>\n",
              "      <td>ভারতীয় দূতাবাস ঘেরাও দুপুর ২টা</td>\n",
              "      <td>1</td>\n",
              "    </tr>\n",
              "    <tr>\n",
              "      <th>1</th>\n",
              "      <td>আল্লাহ এর বিচারে হাসার সুযোগ ও পাবি না🫤</td>\n",
              "      <td>1</td>\n",
              "    </tr>\n",
              "    <tr>\n",
              "      <th>2</th>\n",
              "      <td>একজন চাওয়ালার থেকে আর কি আশা করা যায় কখনো ধর...</td>\n",
              "      <td>1</td>\n",
              "    </tr>\n",
              "    <tr>\n",
              "      <th>3</th>\n",
              "      <td>ফেরাউন কেও পানিতেই ডুবে মরতে হয়ে ছিলো। যাই হোক...</td>\n",
              "      <td>1</td>\n",
              "    </tr>\n",
              "    <tr>\n",
              "      <th>4</th>\n",
              "      <td>ভারতে বন্যা হয় কেনআল্লাহর গজববাংলাদেশে বন্যা হ...</td>\n",
              "      <td>1</td>\n",
              "    </tr>\n",
              "    <tr>\n",
              "      <th>...</th>\n",
              "      <td>...</td>\n",
              "      <td>...</td>\n",
              "    </tr>\n",
              "    <tr>\n",
              "      <th>126</th>\n",
              "      <td>💕</td>\n",
              "      <td>0</td>\n",
              "    </tr>\n",
              "    <tr>\n",
              "      <th>127</th>\n",
              "      <td>না ভাই আপনার এটা ভুল ধারণা পৃথিবীর মধ্যে শ্রেষ...</td>\n",
              "      <td>0</td>\n",
              "    </tr>\n",
              "    <tr>\n",
              "      <th>128</th>\n",
              "      <td>দিনাজপুরে আসার আহ্বান থাকবে</td>\n",
              "      <td>0</td>\n",
              "    </tr>\n",
              "    <tr>\n",
              "      <th>129</th>\n",
              "      <td>😍😍😍</td>\n",
              "      <td>0</td>\n",
              "    </tr>\n",
              "    <tr>\n",
              "      <th>130</th>\n",
              "      <td>পৃথীবির মধ্যে সবচেয়ে প্রিয় জায়গা কক্সবাজার ...</td>\n",
              "      <td>0</td>\n",
              "    </tr>\n",
              "  </tbody>\n",
              "</table>\n",
              "<p>131 rows × 2 columns</p>\n",
              "</div>\n",
              "    <div class=\"colab-df-buttons\">\n",
              "\n",
              "  <div class=\"colab-df-container\">\n",
              "    <button class=\"colab-df-convert\" onclick=\"convertToInteractive('df-f4876acb-69e8-441e-a36e-5789adce4010')\"\n",
              "            title=\"Convert this dataframe to an interactive table.\"\n",
              "            style=\"display:none;\">\n",
              "\n",
              "  <svg xmlns=\"http://www.w3.org/2000/svg\" height=\"24px\" viewBox=\"0 -960 960 960\">\n",
              "    <path d=\"M120-120v-720h720v720H120Zm60-500h600v-160H180v160Zm220 220h160v-160H400v160Zm0 220h160v-160H400v160ZM180-400h160v-160H180v160Zm440 0h160v-160H620v160ZM180-180h160v-160H180v160Zm440 0h160v-160H620v160Z\"/>\n",
              "  </svg>\n",
              "    </button>\n",
              "\n",
              "  <style>\n",
              "    .colab-df-container {\n",
              "      display:flex;\n",
              "      gap: 12px;\n",
              "    }\n",
              "\n",
              "    .colab-df-convert {\n",
              "      background-color: #E8F0FE;\n",
              "      border: none;\n",
              "      border-radius: 50%;\n",
              "      cursor: pointer;\n",
              "      display: none;\n",
              "      fill: #1967D2;\n",
              "      height: 32px;\n",
              "      padding: 0 0 0 0;\n",
              "      width: 32px;\n",
              "    }\n",
              "\n",
              "    .colab-df-convert:hover {\n",
              "      background-color: #E2EBFA;\n",
              "      box-shadow: 0px 1px 2px rgba(60, 64, 67, 0.3), 0px 1px 3px 1px rgba(60, 64, 67, 0.15);\n",
              "      fill: #174EA6;\n",
              "    }\n",
              "\n",
              "    .colab-df-buttons div {\n",
              "      margin-bottom: 4px;\n",
              "    }\n",
              "\n",
              "    [theme=dark] .colab-df-convert {\n",
              "      background-color: #3B4455;\n",
              "      fill: #D2E3FC;\n",
              "    }\n",
              "\n",
              "    [theme=dark] .colab-df-convert:hover {\n",
              "      background-color: #434B5C;\n",
              "      box-shadow: 0px 1px 3px 1px rgba(0, 0, 0, 0.15);\n",
              "      filter: drop-shadow(0px 1px 2px rgba(0, 0, 0, 0.3));\n",
              "      fill: #FFFFFF;\n",
              "    }\n",
              "  </style>\n",
              "\n",
              "    <script>\n",
              "      const buttonEl =\n",
              "        document.querySelector('#df-f4876acb-69e8-441e-a36e-5789adce4010 button.colab-df-convert');\n",
              "      buttonEl.style.display =\n",
              "        google.colab.kernel.accessAllowed ? 'block' : 'none';\n",
              "\n",
              "      async function convertToInteractive(key) {\n",
              "        const element = document.querySelector('#df-f4876acb-69e8-441e-a36e-5789adce4010');\n",
              "        const dataTable =\n",
              "          await google.colab.kernel.invokeFunction('convertToInteractive',\n",
              "                                                    [key], {});\n",
              "        if (!dataTable) return;\n",
              "\n",
              "        const docLinkHtml = 'Like what you see? Visit the ' +\n",
              "          '<a target=\"_blank\" href=https://colab.research.google.com/notebooks/data_table.ipynb>data table notebook</a>'\n",
              "          + ' to learn more about interactive tables.';\n",
              "        element.innerHTML = '';\n",
              "        dataTable['output_type'] = 'display_data';\n",
              "        await google.colab.output.renderOutput(dataTable, element);\n",
              "        const docLink = document.createElement('div');\n",
              "        docLink.innerHTML = docLinkHtml;\n",
              "        element.appendChild(docLink);\n",
              "      }\n",
              "    </script>\n",
              "  </div>\n",
              "\n",
              "\n",
              "<div id=\"df-55d5862d-f176-472b-a86c-f46393023fa3\">\n",
              "  <button class=\"colab-df-quickchart\" onclick=\"quickchart('df-55d5862d-f176-472b-a86c-f46393023fa3')\"\n",
              "            title=\"Suggest charts\"\n",
              "            style=\"display:none;\">\n",
              "\n",
              "<svg xmlns=\"http://www.w3.org/2000/svg\" height=\"24px\"viewBox=\"0 0 24 24\"\n",
              "     width=\"24px\">\n",
              "    <g>\n",
              "        <path d=\"M19 3H5c-1.1 0-2 .9-2 2v14c0 1.1.9 2 2 2h14c1.1 0 2-.9 2-2V5c0-1.1-.9-2-2-2zM9 17H7v-7h2v7zm4 0h-2V7h2v10zm4 0h-2v-4h2v4z\"/>\n",
              "    </g>\n",
              "</svg>\n",
              "  </button>\n",
              "\n",
              "<style>\n",
              "  .colab-df-quickchart {\n",
              "      --bg-color: #E8F0FE;\n",
              "      --fill-color: #1967D2;\n",
              "      --hover-bg-color: #E2EBFA;\n",
              "      --hover-fill-color: #174EA6;\n",
              "      --disabled-fill-color: #AAA;\n",
              "      --disabled-bg-color: #DDD;\n",
              "  }\n",
              "\n",
              "  [theme=dark] .colab-df-quickchart {\n",
              "      --bg-color: #3B4455;\n",
              "      --fill-color: #D2E3FC;\n",
              "      --hover-bg-color: #434B5C;\n",
              "      --hover-fill-color: #FFFFFF;\n",
              "      --disabled-bg-color: #3B4455;\n",
              "      --disabled-fill-color: #666;\n",
              "  }\n",
              "\n",
              "  .colab-df-quickchart {\n",
              "    background-color: var(--bg-color);\n",
              "    border: none;\n",
              "    border-radius: 50%;\n",
              "    cursor: pointer;\n",
              "    display: none;\n",
              "    fill: var(--fill-color);\n",
              "    height: 32px;\n",
              "    padding: 0;\n",
              "    width: 32px;\n",
              "  }\n",
              "\n",
              "  .colab-df-quickchart:hover {\n",
              "    background-color: var(--hover-bg-color);\n",
              "    box-shadow: 0 1px 2px rgba(60, 64, 67, 0.3), 0 1px 3px 1px rgba(60, 64, 67, 0.15);\n",
              "    fill: var(--button-hover-fill-color);\n",
              "  }\n",
              "\n",
              "  .colab-df-quickchart-complete:disabled,\n",
              "  .colab-df-quickchart-complete:disabled:hover {\n",
              "    background-color: var(--disabled-bg-color);\n",
              "    fill: var(--disabled-fill-color);\n",
              "    box-shadow: none;\n",
              "  }\n",
              "\n",
              "  .colab-df-spinner {\n",
              "    border: 2px solid var(--fill-color);\n",
              "    border-color: transparent;\n",
              "    border-bottom-color: var(--fill-color);\n",
              "    animation:\n",
              "      spin 1s steps(1) infinite;\n",
              "  }\n",
              "\n",
              "  @keyframes spin {\n",
              "    0% {\n",
              "      border-color: transparent;\n",
              "      border-bottom-color: var(--fill-color);\n",
              "      border-left-color: var(--fill-color);\n",
              "    }\n",
              "    20% {\n",
              "      border-color: transparent;\n",
              "      border-left-color: var(--fill-color);\n",
              "      border-top-color: var(--fill-color);\n",
              "    }\n",
              "    30% {\n",
              "      border-color: transparent;\n",
              "      border-left-color: var(--fill-color);\n",
              "      border-top-color: var(--fill-color);\n",
              "      border-right-color: var(--fill-color);\n",
              "    }\n",
              "    40% {\n",
              "      border-color: transparent;\n",
              "      border-right-color: var(--fill-color);\n",
              "      border-top-color: var(--fill-color);\n",
              "    }\n",
              "    60% {\n",
              "      border-color: transparent;\n",
              "      border-right-color: var(--fill-color);\n",
              "    }\n",
              "    80% {\n",
              "      border-color: transparent;\n",
              "      border-right-color: var(--fill-color);\n",
              "      border-bottom-color: var(--fill-color);\n",
              "    }\n",
              "    90% {\n",
              "      border-color: transparent;\n",
              "      border-bottom-color: var(--fill-color);\n",
              "    }\n",
              "  }\n",
              "</style>\n",
              "\n",
              "  <script>\n",
              "    async function quickchart(key) {\n",
              "      const quickchartButtonEl =\n",
              "        document.querySelector('#' + key + ' button');\n",
              "      quickchartButtonEl.disabled = true;  // To prevent multiple clicks.\n",
              "      quickchartButtonEl.classList.add('colab-df-spinner');\n",
              "      try {\n",
              "        const charts = await google.colab.kernel.invokeFunction(\n",
              "            'suggestCharts', [key], {});\n",
              "      } catch (error) {\n",
              "        console.error('Error during call to suggestCharts:', error);\n",
              "      }\n",
              "      quickchartButtonEl.classList.remove('colab-df-spinner');\n",
              "      quickchartButtonEl.classList.add('colab-df-quickchart-complete');\n",
              "    }\n",
              "    (() => {\n",
              "      let quickchartButtonEl =\n",
              "        document.querySelector('#df-55d5862d-f176-472b-a86c-f46393023fa3 button');\n",
              "      quickchartButtonEl.style.display =\n",
              "        google.colab.kernel.accessAllowed ? 'block' : 'none';\n",
              "    })();\n",
              "  </script>\n",
              "</div>\n",
              "\n",
              "  <div id=\"id_795a148f-4745-45c6-8ee1-59eda639f4e7\">\n",
              "    <style>\n",
              "      .colab-df-generate {\n",
              "        background-color: #E8F0FE;\n",
              "        border: none;\n",
              "        border-radius: 50%;\n",
              "        cursor: pointer;\n",
              "        display: none;\n",
              "        fill: #1967D2;\n",
              "        height: 32px;\n",
              "        padding: 0 0 0 0;\n",
              "        width: 32px;\n",
              "      }\n",
              "\n",
              "      .colab-df-generate:hover {\n",
              "        background-color: #E2EBFA;\n",
              "        box-shadow: 0px 1px 2px rgba(60, 64, 67, 0.3), 0px 1px 3px 1px rgba(60, 64, 67, 0.15);\n",
              "        fill: #174EA6;\n",
              "      }\n",
              "\n",
              "      [theme=dark] .colab-df-generate {\n",
              "        background-color: #3B4455;\n",
              "        fill: #D2E3FC;\n",
              "      }\n",
              "\n",
              "      [theme=dark] .colab-df-generate:hover {\n",
              "        background-color: #434B5C;\n",
              "        box-shadow: 0px 1px 3px 1px rgba(0, 0, 0, 0.15);\n",
              "        filter: drop-shadow(0px 1px 2px rgba(0, 0, 0, 0.3));\n",
              "        fill: #FFFFFF;\n",
              "      }\n",
              "    </style>\n",
              "    <button class=\"colab-df-generate\" onclick=\"generateWithVariable('df')\"\n",
              "            title=\"Generate code using this dataframe.\"\n",
              "            style=\"display:none;\">\n",
              "\n",
              "  <svg xmlns=\"http://www.w3.org/2000/svg\" height=\"24px\"viewBox=\"0 0 24 24\"\n",
              "       width=\"24px\">\n",
              "    <path d=\"M7,19H8.4L18.45,9,17,7.55,7,17.6ZM5,21V16.75L18.45,3.32a2,2,0,0,1,2.83,0l1.4,1.43a1.91,1.91,0,0,1,.58,1.4,1.91,1.91,0,0,1-.58,1.4L9.25,21ZM18.45,9,17,7.55Zm-12,3A5.31,5.31,0,0,0,4.9,8.1,5.31,5.31,0,0,0,1,6.5,5.31,5.31,0,0,0,4.9,4.9,5.31,5.31,0,0,0,6.5,1,5.31,5.31,0,0,0,8.1,4.9,5.31,5.31,0,0,0,12,6.5,5.46,5.46,0,0,0,6.5,12Z\"/>\n",
              "  </svg>\n",
              "    </button>\n",
              "    <script>\n",
              "      (() => {\n",
              "      const buttonEl =\n",
              "        document.querySelector('#id_795a148f-4745-45c6-8ee1-59eda639f4e7 button.colab-df-generate');\n",
              "      buttonEl.style.display =\n",
              "        google.colab.kernel.accessAllowed ? 'block' : 'none';\n",
              "\n",
              "      buttonEl.onclick = () => {\n",
              "        google.colab.notebook.generateWithVariable('df');\n",
              "      }\n",
              "      })();\n",
              "    </script>\n",
              "  </div>\n",
              "\n",
              "    </div>\n",
              "  </div>\n"
            ],
            "application/vnd.google.colaboratory.intrinsic+json": {
              "type": "dataframe",
              "variable_name": "df",
              "summary": "{\n  \"name\": \"df\",\n  \"rows\": 131,\n  \"fields\": [\n    {\n      \"column\": \"Content\",\n      \"properties\": {\n        \"dtype\": \"string\",\n        \"num_unique_values\": 130,\n        \"samples\": [\n          \"\\u09b8\\u0982\\u0996\\u09cd\\u09af\\u09be\\u09b2\\u0998\\u09c1 \\u09b0\\u09be \\u098f\\u0996\\u09a8 \\u0987\\u09a8\\u09cd\\u09a1\\u09bf\\u09df\\u09be \\u098f\\u09b0 \\u09aa\\u09be\\u09a8\\u09bf \\u09a6\\u09c7\\u0996\\u09a4\\u09c7 \\u09aa\\u09be\\u09b0\\u09c7\\u099b\\u09c7 \\u09a8\\u09be\\u09b9\\u0964\",\n          \"\\u099c\\u09be\\u09a8\\u09cb\\u09df\\u09be\\u09b0\",\n          \"\\u09a4\\u09be\\u09a6\\u09c7\\u09b0 \\u09a6\\u09c7\\u09b6\\u09c7\\u09b0 \\u09ae\\u09cc\\u09ae\\u09bf\\u09a4\\u09be\\u09b0 \\u099c\\u09a8\\u09cd\\u09af \\u0986\\u09ae\\u09b0\\u09be \\u09b8\\u09ac\\u09be\\u0987 \\u0995\\u09be\\u0981\\u09a6\\u09a4\\u09c7\\u099b\\u09bf\\u09b2\\u09be\\u09ae \\u0986\\u09b0 \\u09a4\\u09be\\u09b0\\u09be \\u0986\\u09ae\\u09be\\u09b0 \\u09a6\\u09c7\\u09b6\\u09c7\\u09b0 \\u09ac\\u09a8\\u09cd\\u09af\\u09be\\u09df \\u0986\\u099f\\u0995\\u09be \\u09ae\\u09be\\u09a8\\u09c1\\u09b7 \\u09a6\\u09c7\\u0996\\u09c7 \\u09b9\\u09be\\u09b8\\u099b\\u09c7\\u0964\\u09ae\\u09be\\u09a8\\u09c1\\u09b7 \\u0986\\u09b0 \\u0985\\u09ae\\u09be\\u09a8\\u09c1\\u09b7 \\u098f\\u09b0 \\u09aa\\u09be\\u09b0\\u09cd\\u09a5\\u0995\\u09cd\\u09af \\u09ae\\u09be\\u09a8\\u09ac\\u09bf\\u0995\\u09a4\\u09be\\u09b0\"\n        ],\n        \"semantic_type\": \"\",\n        \"description\": \"\"\n      }\n    },\n    {\n      \"column\": \"Target\",\n      \"properties\": {\n        \"dtype\": \"number\",\n        \"std\": 0,\n        \"min\": 0,\n        \"max\": 1,\n        \"num_unique_values\": 2,\n        \"samples\": [\n          0,\n          1\n        ],\n        \"semantic_type\": \"\",\n        \"description\": \"\"\n      }\n    }\n  ]\n}"
            }
          },
          "metadata": {},
          "execution_count": 928
        }
      ]
    },
    {
      "cell_type": "code",
      "source": [
        "punct=string.punctuation"
      ],
      "metadata": {
        "id": "AQOu8BM9H_gx"
      },
      "execution_count": 929,
      "outputs": []
    },
    {
      "cell_type": "code",
      "source": [
        "def remove_punct(x):\n",
        "    if isinstance(x, str):  # Check if x is a string\n",
        "        return x.translate(str.maketrans(\"\", \"\", punct))\n",
        "    else:\n",
        "        return x  # Return the original value if it's not a string\n",
        "\n",
        "df['Content'] = df['Content'].apply(lambda x: remove_punct(x))"
      ],
      "metadata": {
        "id": "n8qeUkDOPgA3"
      },
      "execution_count": 930,
      "outputs": []
    },
    {
      "cell_type": "code",
      "source": [
        "df"
      ],
      "metadata": {
        "collapsed": true,
        "colab": {
          "base_uri": "https://localhost:8080/",
          "height": 423
        },
        "id": "u0MWx1CDPnm7",
        "outputId": "1bce2597-2072-4014-a82c-9a8cb34c09ed"
      },
      "execution_count": 931,
      "outputs": [
        {
          "output_type": "execute_result",
          "data": {
            "text/plain": [
              "                                               Content  Target\n",
              "0                       ভারতীয় দূতাবাস ঘেরাও দুপুর ২টা       1\n",
              "1              আল্লাহ এর বিচারে হাসার সুযোগ ও পাবি না🫤       1\n",
              "2    একজন চাওয়ালার থেকে আর কি আশা করা যায় কখনো ধর...       1\n",
              "3    ফেরাউন কেও পানিতেই ডুবে মরতে হয়ে ছিলো। যাই হোক...       1\n",
              "4    ভারতে বন্যা হয় কেনআল্লাহর গজববাংলাদেশে বন্যা হ...       1\n",
              "..                                                 ...     ...\n",
              "126                                                  💕       0\n",
              "127  না ভাই আপনার এটা ভুল ধারণা পৃথিবীর মধ্যে শ্রেষ...       0\n",
              "128                        দিনাজপুরে আসার আহ্বান থাকবে       0\n",
              "129                                                😍😍😍       0\n",
              "130  পৃথীবির মধ্যে সবচেয়ে প্রিয় জায়গা কক্সবাজার ...       0\n",
              "\n",
              "[131 rows x 2 columns]"
            ],
            "text/html": [
              "\n",
              "  <div id=\"df-ea08f6a1-8fdf-4809-82d9-d9ff042fcf0c\" class=\"colab-df-container\">\n",
              "    <div>\n",
              "<style scoped>\n",
              "    .dataframe tbody tr th:only-of-type {\n",
              "        vertical-align: middle;\n",
              "    }\n",
              "\n",
              "    .dataframe tbody tr th {\n",
              "        vertical-align: top;\n",
              "    }\n",
              "\n",
              "    .dataframe thead th {\n",
              "        text-align: right;\n",
              "    }\n",
              "</style>\n",
              "<table border=\"1\" class=\"dataframe\">\n",
              "  <thead>\n",
              "    <tr style=\"text-align: right;\">\n",
              "      <th></th>\n",
              "      <th>Content</th>\n",
              "      <th>Target</th>\n",
              "    </tr>\n",
              "  </thead>\n",
              "  <tbody>\n",
              "    <tr>\n",
              "      <th>0</th>\n",
              "      <td>ভারতীয় দূতাবাস ঘেরাও দুপুর ২টা</td>\n",
              "      <td>1</td>\n",
              "    </tr>\n",
              "    <tr>\n",
              "      <th>1</th>\n",
              "      <td>আল্লাহ এর বিচারে হাসার সুযোগ ও পাবি না🫤</td>\n",
              "      <td>1</td>\n",
              "    </tr>\n",
              "    <tr>\n",
              "      <th>2</th>\n",
              "      <td>একজন চাওয়ালার থেকে আর কি আশা করা যায় কখনো ধর...</td>\n",
              "      <td>1</td>\n",
              "    </tr>\n",
              "    <tr>\n",
              "      <th>3</th>\n",
              "      <td>ফেরাউন কেও পানিতেই ডুবে মরতে হয়ে ছিলো। যাই হোক...</td>\n",
              "      <td>1</td>\n",
              "    </tr>\n",
              "    <tr>\n",
              "      <th>4</th>\n",
              "      <td>ভারতে বন্যা হয় কেনআল্লাহর গজববাংলাদেশে বন্যা হ...</td>\n",
              "      <td>1</td>\n",
              "    </tr>\n",
              "    <tr>\n",
              "      <th>...</th>\n",
              "      <td>...</td>\n",
              "      <td>...</td>\n",
              "    </tr>\n",
              "    <tr>\n",
              "      <th>126</th>\n",
              "      <td>💕</td>\n",
              "      <td>0</td>\n",
              "    </tr>\n",
              "    <tr>\n",
              "      <th>127</th>\n",
              "      <td>না ভাই আপনার এটা ভুল ধারণা পৃথিবীর মধ্যে শ্রেষ...</td>\n",
              "      <td>0</td>\n",
              "    </tr>\n",
              "    <tr>\n",
              "      <th>128</th>\n",
              "      <td>দিনাজপুরে আসার আহ্বান থাকবে</td>\n",
              "      <td>0</td>\n",
              "    </tr>\n",
              "    <tr>\n",
              "      <th>129</th>\n",
              "      <td>😍😍😍</td>\n",
              "      <td>0</td>\n",
              "    </tr>\n",
              "    <tr>\n",
              "      <th>130</th>\n",
              "      <td>পৃথীবির মধ্যে সবচেয়ে প্রিয় জায়গা কক্সবাজার ...</td>\n",
              "      <td>0</td>\n",
              "    </tr>\n",
              "  </tbody>\n",
              "</table>\n",
              "<p>131 rows × 2 columns</p>\n",
              "</div>\n",
              "    <div class=\"colab-df-buttons\">\n",
              "\n",
              "  <div class=\"colab-df-container\">\n",
              "    <button class=\"colab-df-convert\" onclick=\"convertToInteractive('df-ea08f6a1-8fdf-4809-82d9-d9ff042fcf0c')\"\n",
              "            title=\"Convert this dataframe to an interactive table.\"\n",
              "            style=\"display:none;\">\n",
              "\n",
              "  <svg xmlns=\"http://www.w3.org/2000/svg\" height=\"24px\" viewBox=\"0 -960 960 960\">\n",
              "    <path d=\"M120-120v-720h720v720H120Zm60-500h600v-160H180v160Zm220 220h160v-160H400v160Zm0 220h160v-160H400v160ZM180-400h160v-160H180v160Zm440 0h160v-160H620v160ZM180-180h160v-160H180v160Zm440 0h160v-160H620v160Z\"/>\n",
              "  </svg>\n",
              "    </button>\n",
              "\n",
              "  <style>\n",
              "    .colab-df-container {\n",
              "      display:flex;\n",
              "      gap: 12px;\n",
              "    }\n",
              "\n",
              "    .colab-df-convert {\n",
              "      background-color: #E8F0FE;\n",
              "      border: none;\n",
              "      border-radius: 50%;\n",
              "      cursor: pointer;\n",
              "      display: none;\n",
              "      fill: #1967D2;\n",
              "      height: 32px;\n",
              "      padding: 0 0 0 0;\n",
              "      width: 32px;\n",
              "    }\n",
              "\n",
              "    .colab-df-convert:hover {\n",
              "      background-color: #E2EBFA;\n",
              "      box-shadow: 0px 1px 2px rgba(60, 64, 67, 0.3), 0px 1px 3px 1px rgba(60, 64, 67, 0.15);\n",
              "      fill: #174EA6;\n",
              "    }\n",
              "\n",
              "    .colab-df-buttons div {\n",
              "      margin-bottom: 4px;\n",
              "    }\n",
              "\n",
              "    [theme=dark] .colab-df-convert {\n",
              "      background-color: #3B4455;\n",
              "      fill: #D2E3FC;\n",
              "    }\n",
              "\n",
              "    [theme=dark] .colab-df-convert:hover {\n",
              "      background-color: #434B5C;\n",
              "      box-shadow: 0px 1px 3px 1px rgba(0, 0, 0, 0.15);\n",
              "      filter: drop-shadow(0px 1px 2px rgba(0, 0, 0, 0.3));\n",
              "      fill: #FFFFFF;\n",
              "    }\n",
              "  </style>\n",
              "\n",
              "    <script>\n",
              "      const buttonEl =\n",
              "        document.querySelector('#df-ea08f6a1-8fdf-4809-82d9-d9ff042fcf0c button.colab-df-convert');\n",
              "      buttonEl.style.display =\n",
              "        google.colab.kernel.accessAllowed ? 'block' : 'none';\n",
              "\n",
              "      async function convertToInteractive(key) {\n",
              "        const element = document.querySelector('#df-ea08f6a1-8fdf-4809-82d9-d9ff042fcf0c');\n",
              "        const dataTable =\n",
              "          await google.colab.kernel.invokeFunction('convertToInteractive',\n",
              "                                                    [key], {});\n",
              "        if (!dataTable) return;\n",
              "\n",
              "        const docLinkHtml = 'Like what you see? Visit the ' +\n",
              "          '<a target=\"_blank\" href=https://colab.research.google.com/notebooks/data_table.ipynb>data table notebook</a>'\n",
              "          + ' to learn more about interactive tables.';\n",
              "        element.innerHTML = '';\n",
              "        dataTable['output_type'] = 'display_data';\n",
              "        await google.colab.output.renderOutput(dataTable, element);\n",
              "        const docLink = document.createElement('div');\n",
              "        docLink.innerHTML = docLinkHtml;\n",
              "        element.appendChild(docLink);\n",
              "      }\n",
              "    </script>\n",
              "  </div>\n",
              "\n",
              "\n",
              "<div id=\"df-e27850d0-4a3d-4a98-ac96-06070d36fc09\">\n",
              "  <button class=\"colab-df-quickchart\" onclick=\"quickchart('df-e27850d0-4a3d-4a98-ac96-06070d36fc09')\"\n",
              "            title=\"Suggest charts\"\n",
              "            style=\"display:none;\">\n",
              "\n",
              "<svg xmlns=\"http://www.w3.org/2000/svg\" height=\"24px\"viewBox=\"0 0 24 24\"\n",
              "     width=\"24px\">\n",
              "    <g>\n",
              "        <path d=\"M19 3H5c-1.1 0-2 .9-2 2v14c0 1.1.9 2 2 2h14c1.1 0 2-.9 2-2V5c0-1.1-.9-2-2-2zM9 17H7v-7h2v7zm4 0h-2V7h2v10zm4 0h-2v-4h2v4z\"/>\n",
              "    </g>\n",
              "</svg>\n",
              "  </button>\n",
              "\n",
              "<style>\n",
              "  .colab-df-quickchart {\n",
              "      --bg-color: #E8F0FE;\n",
              "      --fill-color: #1967D2;\n",
              "      --hover-bg-color: #E2EBFA;\n",
              "      --hover-fill-color: #174EA6;\n",
              "      --disabled-fill-color: #AAA;\n",
              "      --disabled-bg-color: #DDD;\n",
              "  }\n",
              "\n",
              "  [theme=dark] .colab-df-quickchart {\n",
              "      --bg-color: #3B4455;\n",
              "      --fill-color: #D2E3FC;\n",
              "      --hover-bg-color: #434B5C;\n",
              "      --hover-fill-color: #FFFFFF;\n",
              "      --disabled-bg-color: #3B4455;\n",
              "      --disabled-fill-color: #666;\n",
              "  }\n",
              "\n",
              "  .colab-df-quickchart {\n",
              "    background-color: var(--bg-color);\n",
              "    border: none;\n",
              "    border-radius: 50%;\n",
              "    cursor: pointer;\n",
              "    display: none;\n",
              "    fill: var(--fill-color);\n",
              "    height: 32px;\n",
              "    padding: 0;\n",
              "    width: 32px;\n",
              "  }\n",
              "\n",
              "  .colab-df-quickchart:hover {\n",
              "    background-color: var(--hover-bg-color);\n",
              "    box-shadow: 0 1px 2px rgba(60, 64, 67, 0.3), 0 1px 3px 1px rgba(60, 64, 67, 0.15);\n",
              "    fill: var(--button-hover-fill-color);\n",
              "  }\n",
              "\n",
              "  .colab-df-quickchart-complete:disabled,\n",
              "  .colab-df-quickchart-complete:disabled:hover {\n",
              "    background-color: var(--disabled-bg-color);\n",
              "    fill: var(--disabled-fill-color);\n",
              "    box-shadow: none;\n",
              "  }\n",
              "\n",
              "  .colab-df-spinner {\n",
              "    border: 2px solid var(--fill-color);\n",
              "    border-color: transparent;\n",
              "    border-bottom-color: var(--fill-color);\n",
              "    animation:\n",
              "      spin 1s steps(1) infinite;\n",
              "  }\n",
              "\n",
              "  @keyframes spin {\n",
              "    0% {\n",
              "      border-color: transparent;\n",
              "      border-bottom-color: var(--fill-color);\n",
              "      border-left-color: var(--fill-color);\n",
              "    }\n",
              "    20% {\n",
              "      border-color: transparent;\n",
              "      border-left-color: var(--fill-color);\n",
              "      border-top-color: var(--fill-color);\n",
              "    }\n",
              "    30% {\n",
              "      border-color: transparent;\n",
              "      border-left-color: var(--fill-color);\n",
              "      border-top-color: var(--fill-color);\n",
              "      border-right-color: var(--fill-color);\n",
              "    }\n",
              "    40% {\n",
              "      border-color: transparent;\n",
              "      border-right-color: var(--fill-color);\n",
              "      border-top-color: var(--fill-color);\n",
              "    }\n",
              "    60% {\n",
              "      border-color: transparent;\n",
              "      border-right-color: var(--fill-color);\n",
              "    }\n",
              "    80% {\n",
              "      border-color: transparent;\n",
              "      border-right-color: var(--fill-color);\n",
              "      border-bottom-color: var(--fill-color);\n",
              "    }\n",
              "    90% {\n",
              "      border-color: transparent;\n",
              "      border-bottom-color: var(--fill-color);\n",
              "    }\n",
              "  }\n",
              "</style>\n",
              "\n",
              "  <script>\n",
              "    async function quickchart(key) {\n",
              "      const quickchartButtonEl =\n",
              "        document.querySelector('#' + key + ' button');\n",
              "      quickchartButtonEl.disabled = true;  // To prevent multiple clicks.\n",
              "      quickchartButtonEl.classList.add('colab-df-spinner');\n",
              "      try {\n",
              "        const charts = await google.colab.kernel.invokeFunction(\n",
              "            'suggestCharts', [key], {});\n",
              "      } catch (error) {\n",
              "        console.error('Error during call to suggestCharts:', error);\n",
              "      }\n",
              "      quickchartButtonEl.classList.remove('colab-df-spinner');\n",
              "      quickchartButtonEl.classList.add('colab-df-quickchart-complete');\n",
              "    }\n",
              "    (() => {\n",
              "      let quickchartButtonEl =\n",
              "        document.querySelector('#df-e27850d0-4a3d-4a98-ac96-06070d36fc09 button');\n",
              "      quickchartButtonEl.style.display =\n",
              "        google.colab.kernel.accessAllowed ? 'block' : 'none';\n",
              "    })();\n",
              "  </script>\n",
              "</div>\n",
              "\n",
              "  <div id=\"id_f0738fc3-23a6-479a-94f7-2d84d274711f\">\n",
              "    <style>\n",
              "      .colab-df-generate {\n",
              "        background-color: #E8F0FE;\n",
              "        border: none;\n",
              "        border-radius: 50%;\n",
              "        cursor: pointer;\n",
              "        display: none;\n",
              "        fill: #1967D2;\n",
              "        height: 32px;\n",
              "        padding: 0 0 0 0;\n",
              "        width: 32px;\n",
              "      }\n",
              "\n",
              "      .colab-df-generate:hover {\n",
              "        background-color: #E2EBFA;\n",
              "        box-shadow: 0px 1px 2px rgba(60, 64, 67, 0.3), 0px 1px 3px 1px rgba(60, 64, 67, 0.15);\n",
              "        fill: #174EA6;\n",
              "      }\n",
              "\n",
              "      [theme=dark] .colab-df-generate {\n",
              "        background-color: #3B4455;\n",
              "        fill: #D2E3FC;\n",
              "      }\n",
              "\n",
              "      [theme=dark] .colab-df-generate:hover {\n",
              "        background-color: #434B5C;\n",
              "        box-shadow: 0px 1px 3px 1px rgba(0, 0, 0, 0.15);\n",
              "        filter: drop-shadow(0px 1px 2px rgba(0, 0, 0, 0.3));\n",
              "        fill: #FFFFFF;\n",
              "      }\n",
              "    </style>\n",
              "    <button class=\"colab-df-generate\" onclick=\"generateWithVariable('df')\"\n",
              "            title=\"Generate code using this dataframe.\"\n",
              "            style=\"display:none;\">\n",
              "\n",
              "  <svg xmlns=\"http://www.w3.org/2000/svg\" height=\"24px\"viewBox=\"0 0 24 24\"\n",
              "       width=\"24px\">\n",
              "    <path d=\"M7,19H8.4L18.45,9,17,7.55,7,17.6ZM5,21V16.75L18.45,3.32a2,2,0,0,1,2.83,0l1.4,1.43a1.91,1.91,0,0,1,.58,1.4,1.91,1.91,0,0,1-.58,1.4L9.25,21ZM18.45,9,17,7.55Zm-12,3A5.31,5.31,0,0,0,4.9,8.1,5.31,5.31,0,0,0,1,6.5,5.31,5.31,0,0,0,4.9,4.9,5.31,5.31,0,0,0,6.5,1,5.31,5.31,0,0,0,8.1,4.9,5.31,5.31,0,0,0,12,6.5,5.46,5.46,0,0,0,6.5,12Z\"/>\n",
              "  </svg>\n",
              "    </button>\n",
              "    <script>\n",
              "      (() => {\n",
              "      const buttonEl =\n",
              "        document.querySelector('#id_f0738fc3-23a6-479a-94f7-2d84d274711f button.colab-df-generate');\n",
              "      buttonEl.style.display =\n",
              "        google.colab.kernel.accessAllowed ? 'block' : 'none';\n",
              "\n",
              "      buttonEl.onclick = () => {\n",
              "        google.colab.notebook.generateWithVariable('df');\n",
              "      }\n",
              "      })();\n",
              "    </script>\n",
              "  </div>\n",
              "\n",
              "    </div>\n",
              "  </div>\n"
            ],
            "application/vnd.google.colaboratory.intrinsic+json": {
              "type": "dataframe",
              "variable_name": "df",
              "summary": "{\n  \"name\": \"df\",\n  \"rows\": 131,\n  \"fields\": [\n    {\n      \"column\": \"Content\",\n      \"properties\": {\n        \"dtype\": \"string\",\n        \"num_unique_values\": 130,\n        \"samples\": [\n          \"\\u09b8\\u0982\\u0996\\u09cd\\u09af\\u09be\\u09b2\\u0998\\u09c1 \\u09b0\\u09be \\u098f\\u0996\\u09a8 \\u0987\\u09a8\\u09cd\\u09a1\\u09bf\\u09df\\u09be \\u098f\\u09b0 \\u09aa\\u09be\\u09a8\\u09bf \\u09a6\\u09c7\\u0996\\u09a4\\u09c7 \\u09aa\\u09be\\u09b0\\u09c7\\u099b\\u09c7 \\u09a8\\u09be\\u09b9\\u0964\",\n          \"\\u099c\\u09be\\u09a8\\u09cb\\u09df\\u09be\\u09b0\",\n          \"\\u09a4\\u09be\\u09a6\\u09c7\\u09b0 \\u09a6\\u09c7\\u09b6\\u09c7\\u09b0 \\u09ae\\u09cc\\u09ae\\u09bf\\u09a4\\u09be\\u09b0 \\u099c\\u09a8\\u09cd\\u09af \\u0986\\u09ae\\u09b0\\u09be \\u09b8\\u09ac\\u09be\\u0987 \\u0995\\u09be\\u0981\\u09a6\\u09a4\\u09c7\\u099b\\u09bf\\u09b2\\u09be\\u09ae \\u0986\\u09b0 \\u09a4\\u09be\\u09b0\\u09be \\u0986\\u09ae\\u09be\\u09b0 \\u09a6\\u09c7\\u09b6\\u09c7\\u09b0 \\u09ac\\u09a8\\u09cd\\u09af\\u09be\\u09df \\u0986\\u099f\\u0995\\u09be \\u09ae\\u09be\\u09a8\\u09c1\\u09b7 \\u09a6\\u09c7\\u0996\\u09c7 \\u09b9\\u09be\\u09b8\\u099b\\u09c7\\u0964\\u09ae\\u09be\\u09a8\\u09c1\\u09b7 \\u0986\\u09b0 \\u0985\\u09ae\\u09be\\u09a8\\u09c1\\u09b7 \\u098f\\u09b0 \\u09aa\\u09be\\u09b0\\u09cd\\u09a5\\u0995\\u09cd\\u09af \\u09ae\\u09be\\u09a8\\u09ac\\u09bf\\u0995\\u09a4\\u09be\\u09b0\"\n        ],\n        \"semantic_type\": \"\",\n        \"description\": \"\"\n      }\n    },\n    {\n      \"column\": \"Target\",\n      \"properties\": {\n        \"dtype\": \"number\",\n        \"std\": 0,\n        \"min\": 0,\n        \"max\": 1,\n        \"num_unique_values\": 2,\n        \"samples\": [\n          0,\n          1\n        ],\n        \"semantic_type\": \"\",\n        \"description\": \"\"\n      }\n    }\n  ]\n}"
            }
          },
          "metadata": {},
          "execution_count": 931
        }
      ]
    },
    {
      "cell_type": "code",
      "source": [
        "df.isna().sum()"
      ],
      "metadata": {
        "id": "ZO21nE45cZaU",
        "outputId": "8bf10ffa-82e3-4a6c-b061-6f66600a3391",
        "colab": {
          "base_uri": "https://localhost:8080/",
          "height": 146
        }
      },
      "execution_count": 932,
      "outputs": [
        {
          "output_type": "execute_result",
          "data": {
            "text/plain": [
              "Content    1\n",
              "Target     0\n",
              "dtype: int64"
            ],
            "text/html": [
              "<div>\n",
              "<style scoped>\n",
              "    .dataframe tbody tr th:only-of-type {\n",
              "        vertical-align: middle;\n",
              "    }\n",
              "\n",
              "    .dataframe tbody tr th {\n",
              "        vertical-align: top;\n",
              "    }\n",
              "\n",
              "    .dataframe thead th {\n",
              "        text-align: right;\n",
              "    }\n",
              "</style>\n",
              "<table border=\"1\" class=\"dataframe\">\n",
              "  <thead>\n",
              "    <tr style=\"text-align: right;\">\n",
              "      <th></th>\n",
              "      <th>0</th>\n",
              "    </tr>\n",
              "  </thead>\n",
              "  <tbody>\n",
              "    <tr>\n",
              "      <th>Content</th>\n",
              "      <td>1</td>\n",
              "    </tr>\n",
              "    <tr>\n",
              "      <th>Target</th>\n",
              "      <td>0</td>\n",
              "    </tr>\n",
              "  </tbody>\n",
              "</table>\n",
              "</div><br><label><b>dtype:</b> int64</label>"
            ]
          },
          "metadata": {},
          "execution_count": 932
        }
      ]
    },
    {
      "cell_type": "code",
      "source": [
        "df.dropna(inplace=True)"
      ],
      "metadata": {
        "id": "nYoc7yUmcr9h"
      },
      "execution_count": 933,
      "outputs": []
    },
    {
      "cell_type": "code",
      "source": [
        "df.isna().sum()"
      ],
      "metadata": {
        "colab": {
          "base_uri": "https://localhost:8080/",
          "height": 146
        },
        "id": "pkLjha1iS88h",
        "outputId": "32a64506-3f69-45e4-a8eb-517a85fcff33"
      },
      "execution_count": 934,
      "outputs": [
        {
          "output_type": "execute_result",
          "data": {
            "text/plain": [
              "Content    0\n",
              "Target     0\n",
              "dtype: int64"
            ],
            "text/html": [
              "<div>\n",
              "<style scoped>\n",
              "    .dataframe tbody tr th:only-of-type {\n",
              "        vertical-align: middle;\n",
              "    }\n",
              "\n",
              "    .dataframe tbody tr th {\n",
              "        vertical-align: top;\n",
              "    }\n",
              "\n",
              "    .dataframe thead th {\n",
              "        text-align: right;\n",
              "    }\n",
              "</style>\n",
              "<table border=\"1\" class=\"dataframe\">\n",
              "  <thead>\n",
              "    <tr style=\"text-align: right;\">\n",
              "      <th></th>\n",
              "      <th>0</th>\n",
              "    </tr>\n",
              "  </thead>\n",
              "  <tbody>\n",
              "    <tr>\n",
              "      <th>Content</th>\n",
              "      <td>0</td>\n",
              "    </tr>\n",
              "    <tr>\n",
              "      <th>Target</th>\n",
              "      <td>0</td>\n",
              "    </tr>\n",
              "  </tbody>\n",
              "</table>\n",
              "</div><br><label><b>dtype:</b> int64</label>"
            ]
          },
          "metadata": {},
          "execution_count": 934
        }
      ]
    },
    {
      "cell_type": "code",
      "source": [
        "x = df.Content.values\n",
        "y = df.Target.values"
      ],
      "metadata": {
        "id": "72PA2UF0UoyP"
      },
      "execution_count": 935,
      "outputs": []
    },
    {
      "cell_type": "code",
      "source": [
        "xtrain, xtest, ytrain, ytest = train_test_split(x, y, test_size=0.3, random_state=42)"
      ],
      "metadata": {
        "id": "uHqxvzndH9gE"
      },
      "execution_count": 936,
      "outputs": []
    },
    {
      "cell_type": "code",
      "source": [
        "def evaluate_model(model, xtest, ytest):\n",
        "    y_pred = model.predict(xtest)\n",
        "    accuracy = accuracy_score(ytest, y_pred)\n",
        "    cm = confusion_matrix(ytest, y_pred)\n",
        "    return {\n",
        "        'Accuracy': accuracy,\n",
        "        'Confusion Matrix': cm,\n",
        "    }"
      ],
      "metadata": {
        "id": "AvT64qTNIQvw"
      },
      "execution_count": 937,
      "outputs": []
    },
    {
      "source": [
        "vectorizer = TfidfVectorizer()\n",
        "xtrain = vectorizer.fit_transform(xtrain)\n",
        "xtest = vectorizer.transform(xtest)\n",
        "\n",
        "mnb_model = MultinomialNB(alpha=1.0, fit_prior=True, class_prior=None)\n",
        "mnb_model.fit(xtrain, ytrain)"
      ],
      "cell_type": "code",
      "metadata": {
        "colab": {
          "base_uri": "https://localhost:8080/",
          "height": 74
        },
        "id": "OYqCgQcgMk-k",
        "outputId": "f5a55944-d829-4e0e-8efa-628432639d13"
      },
      "execution_count": 938,
      "outputs": [
        {
          "output_type": "execute_result",
          "data": {
            "text/plain": [
              "MultinomialNB()"
            ],
            "text/html": [
              "<style>#sk-container-id-83 {color: black;}#sk-container-id-83 pre{padding: 0;}#sk-container-id-83 div.sk-toggleable {background-color: white;}#sk-container-id-83 label.sk-toggleable__label {cursor: pointer;display: block;width: 100%;margin-bottom: 0;padding: 0.3em;box-sizing: border-box;text-align: center;}#sk-container-id-83 label.sk-toggleable__label-arrow:before {content: \"▸\";float: left;margin-right: 0.25em;color: #696969;}#sk-container-id-83 label.sk-toggleable__label-arrow:hover:before {color: black;}#sk-container-id-83 div.sk-estimator:hover label.sk-toggleable__label-arrow:before {color: black;}#sk-container-id-83 div.sk-toggleable__content {max-height: 0;max-width: 0;overflow: hidden;text-align: left;background-color: #f0f8ff;}#sk-container-id-83 div.sk-toggleable__content pre {margin: 0.2em;color: black;border-radius: 0.25em;background-color: #f0f8ff;}#sk-container-id-83 input.sk-toggleable__control:checked~div.sk-toggleable__content {max-height: 200px;max-width: 100%;overflow: auto;}#sk-container-id-83 input.sk-toggleable__control:checked~label.sk-toggleable__label-arrow:before {content: \"▾\";}#sk-container-id-83 div.sk-estimator input.sk-toggleable__control:checked~label.sk-toggleable__label {background-color: #d4ebff;}#sk-container-id-83 div.sk-label input.sk-toggleable__control:checked~label.sk-toggleable__label {background-color: #d4ebff;}#sk-container-id-83 input.sk-hidden--visually {border: 0;clip: rect(1px 1px 1px 1px);clip: rect(1px, 1px, 1px, 1px);height: 1px;margin: -1px;overflow: hidden;padding: 0;position: absolute;width: 1px;}#sk-container-id-83 div.sk-estimator {font-family: monospace;background-color: #f0f8ff;border: 1px dotted black;border-radius: 0.25em;box-sizing: border-box;margin-bottom: 0.5em;}#sk-container-id-83 div.sk-estimator:hover {background-color: #d4ebff;}#sk-container-id-83 div.sk-parallel-item::after {content: \"\";width: 100%;border-bottom: 1px solid gray;flex-grow: 1;}#sk-container-id-83 div.sk-label:hover label.sk-toggleable__label {background-color: #d4ebff;}#sk-container-id-83 div.sk-serial::before {content: \"\";position: absolute;border-left: 1px solid gray;box-sizing: border-box;top: 0;bottom: 0;left: 50%;z-index: 0;}#sk-container-id-83 div.sk-serial {display: flex;flex-direction: column;align-items: center;background-color: white;padding-right: 0.2em;padding-left: 0.2em;position: relative;}#sk-container-id-83 div.sk-item {position: relative;z-index: 1;}#sk-container-id-83 div.sk-parallel {display: flex;align-items: stretch;justify-content: center;background-color: white;position: relative;}#sk-container-id-83 div.sk-item::before, #sk-container-id-83 div.sk-parallel-item::before {content: \"\";position: absolute;border-left: 1px solid gray;box-sizing: border-box;top: 0;bottom: 0;left: 50%;z-index: -1;}#sk-container-id-83 div.sk-parallel-item {display: flex;flex-direction: column;z-index: 1;position: relative;background-color: white;}#sk-container-id-83 div.sk-parallel-item:first-child::after {align-self: flex-end;width: 50%;}#sk-container-id-83 div.sk-parallel-item:last-child::after {align-self: flex-start;width: 50%;}#sk-container-id-83 div.sk-parallel-item:only-child::after {width: 0;}#sk-container-id-83 div.sk-dashed-wrapped {border: 1px dashed gray;margin: 0 0.4em 0.5em 0.4em;box-sizing: border-box;padding-bottom: 0.4em;background-color: white;}#sk-container-id-83 div.sk-label label {font-family: monospace;font-weight: bold;display: inline-block;line-height: 1.2em;}#sk-container-id-83 div.sk-label-container {text-align: center;}#sk-container-id-83 div.sk-container {/* jupyter's `normalize.less` sets `[hidden] { display: none; }` but bootstrap.min.css set `[hidden] { display: none !important; }` so we also need the `!important` here to be able to override the default hidden behavior on the sphinx rendered scikit-learn.org. See: https://github.com/scikit-learn/scikit-learn/issues/21755 */display: inline-block !important;position: relative;}#sk-container-id-83 div.sk-text-repr-fallback {display: none;}</style><div id=\"sk-container-id-83\" class=\"sk-top-container\"><div class=\"sk-text-repr-fallback\"><pre>MultinomialNB()</pre><b>In a Jupyter environment, please rerun this cell to show the HTML representation or trust the notebook. <br />On GitHub, the HTML representation is unable to render, please try loading this page with nbviewer.org.</b></div><div class=\"sk-container\" hidden><div class=\"sk-item\"><div class=\"sk-estimator sk-toggleable\"><input class=\"sk-toggleable__control sk-hidden--visually\" id=\"sk-estimator-id-83\" type=\"checkbox\" checked><label for=\"sk-estimator-id-83\" class=\"sk-toggleable__label sk-toggleable__label-arrow\">MultinomialNB</label><div class=\"sk-toggleable__content\"><pre>MultinomialNB()</pre></div></div></div></div></div>"
            ]
          },
          "metadata": {},
          "execution_count": 938
        }
      ]
    },
    {
      "cell_type": "code",
      "source": [
        "from sklearn.metrics import precision_recall_curve, auc"
      ],
      "metadata": {
        "id": "jjqd3LQCMzJt"
      },
      "execution_count": 939,
      "outputs": []
    },
    {
      "cell_type": "code",
      "source": [
        "nb_results = evaluate_model(mnb_model, xtest, ytest)\n",
        "nb_results"
      ],
      "metadata": {
        "colab": {
          "base_uri": "https://localhost:8080/"
        },
        "id": "ShNevpzkM0Ou",
        "outputId": "4868dce1-d861-45da-a4b2-f7ca41fb1d70"
      },
      "execution_count": 940,
      "outputs": [
        {
          "output_type": "execute_result",
          "data": {
            "text/plain": [
              "{'Accuracy': 0.8974358974358975,\n",
              " 'Confusion Matrix': array([[ 2,  4],\n",
              "        [ 0, 33]])}"
            ]
          },
          "metadata": {},
          "execution_count": 940
        }
      ]
    },
    {
      "cell_type": "code",
      "source": [
        "cm = confusion_matrix(ytest, mnb_model.predict(xtest))\n",
        "cm"
      ],
      "metadata": {
        "colab": {
          "base_uri": "https://localhost:8080/"
        },
        "id": "vQkEDII3M50U",
        "outputId": "94d11454-3f8e-4217-9cd3-4559477f0524"
      },
      "execution_count": 941,
      "outputs": [
        {
          "output_type": "execute_result",
          "data": {
            "text/plain": [
              "array([[ 2,  4],\n",
              "       [ 0, 33]])"
            ]
          },
          "metadata": {},
          "execution_count": 941
        }
      ]
    },
    {
      "cell_type": "code",
      "source": [
        "plt.figure(figsize=(8, 6))\n",
        "sns.heatmap(cm, annot=True, fmt='d', cmap='Blues',\n",
        "            xticklabels=['Predicted 0', 'Predicted 1'],\n",
        "            yticklabels=['Actual 0', 'Actual 1'])\n",
        "plt.xlabel('Predicted')\n",
        "plt.ylabel('Actual')\n",
        "plt.title('Confusion Matrix')\n",
        "plt.show()"
      ],
      "metadata": {
        "colab": {
          "base_uri": "https://localhost:8080/",
          "height": 573
        },
        "id": "S_zXWBJjM9qt",
        "outputId": "49ad1278-3344-4220-a0b5-7f58f15ae52d"
      },
      "execution_count": 942,
      "outputs": [
        {
          "output_type": "display_data",
          "data": {
            "text/plain": [
              "<Figure size 800x600 with 2 Axes>"
            ],
            "image/png": "[encoded data removed]"
          },
          "metadata": {}
        }
      ]
    },
    {
      "cell_type": "code",
      "source": [
        "print(classification_report(ytest, mnb_model.predict(xtest)))"
      ],
      "metadata": {
        "colab": {
          "base_uri": "https://localhost:8080/"
        },
        "id": "pkprHZhJNN1X",
        "outputId": "3cc8144c-777d-497f-8696-617150c1d4b6"
      },
      "execution_count": 943,
      "outputs": [
        {
          "output_type": "stream",
          "name": "stdout",
          "text": [
            "              precision    recall  f1-score   support\n",
            "\n",
            "           0       1.00      0.33      0.50         6\n",
            "           1       0.89      1.00      0.94        33\n",
            "\n",
            "    accuracy                           0.90        39\n",
            "   macro avg       0.95      0.67      0.72        39\n",
            "weighted avg       0.91      0.90      0.87        39\n",
            "\n"
          ]
        }
      ]
    },
    {
      "cell_type": "code",
      "source": [
        "from sklearn.metrics import RocCurveDisplay"
      ],
      "metadata": {
        "id": "wcjPkKqTODxp"
      },
      "execution_count": 944,
      "outputs": []
    },
    {
      "cell_type": "code",
      "source": [
        "RocCurveDisplay.from_estimator(mnb_model, xtest, ytest)\n",
        "plt.plot([0,1],[0,1])"
      ],
      "metadata": {
        "colab": {
          "base_uri": "https://localhost:8080/",
          "height": 475
        },
        "id": "aWoAKMngNmKM",
        "outputId": "bd64d4ee-83ba-4682-c4b9-2db118e53554"
      },
      "execution_count": 945,
      "outputs": [
        {
          "output_type": "execute_result",
          "data": {
            "text/plain": [
              "[<matplotlib.lines.Line2D at 0x78401bd66110>]"
            ]
          },
          "metadata": {},
          "execution_count": 945
        },
        {
          "output_type": "display_data",
          "data": {
            "text/plain": [
              "<Figure size 640x480 with 1 Axes>"
            ],
            "image/png": "[encoded data removed]"
          },
          "metadata": {}
        }
      ]
    },
    {
      "cell_type": "code",
      "source": [
        "\n",
        "#Drop column --> axis= 1 ; row --> axis= 0\n",
        "#x = df.drop(columns = ['target','label'], axis= 1)\n",
        "#y = df[['target','label']]\n",
        "x= df.Content.values\n",
        "y= df.Target.values"
      ],
      "metadata": {
        "id": "l3q4uuCgMebY"
      },
      "execution_count": 946,
      "outputs": []
    },
    {
      "cell_type": "markdown",
      "source": [
        "# Train-Test"
      ],
      "metadata": {
        "id": "MOC3YlbU1vGH"
      }
    },
    {
      "cell_type": "code",
      "source": [
        "from sklearn.model_selection import train_test_split"
      ],
      "metadata": {
        "id": "w_66YljStoRI"
      },
      "execution_count": 947,
      "outputs": []
    },
    {
      "cell_type": "code",
      "source": [
        "xtrain,xtest,ytrain,ytest = train_test_split(x,y,test_size=0.3)"
      ],
      "metadata": {
        "id": "ypbljK2nt1Qe"
      },
      "execution_count": 948,
      "outputs": []
    },
    {
      "cell_type": "markdown",
      "source": [
        "*Vectorizer*"
      ],
      "metadata": {
        "id": "WrvPlzla2I0V"
      }
    },
    {
      "cell_type": "code",
      "source": [
        "from sklearn.feature_extraction.text import CountVectorizer"
      ],
      "metadata": {
        "id": "k2ftjTAFuJtl"
      },
      "execution_count": 949,
      "outputs": []
    },
    {
      "cell_type": "code",
      "source": [
        "cv= CountVectorizer()\n",
        "x_train = cv.fit_transform(xtrain)\n",
        "x_test = cv.transform(xtest)"
      ],
      "metadata": {
        "id": "vHFu9TGMuhhE"
      },
      "execution_count": 950,
      "outputs": []
    },
    {
      "cell_type": "markdown",
      "source": [
        "## **Model Algorithm**"
      ],
      "metadata": {
        "id": "DcXnohfkThUP"
      }
    },
    {
      "cell_type": "code",
      "source": [
        "from sklearn.naive_bayes import MultinomialNB"
      ],
      "metadata": {
        "id": "ObqVI6mb2FzH"
      },
      "execution_count": 951,
      "outputs": []
    },
    {
      "cell_type": "code",
      "source": [
        "mnb_model = MultinomialNB()\n",
        "mnb_model.fit(x_train,ytrain)"
      ],
      "metadata": {
        "colab": {
          "base_uri": "https://localhost:8080/",
          "height": 74
        },
        "collapsed": true,
        "id": "yz2sO2Dj3Uva",
        "outputId": "b069cf39-a905-407d-d830-276310bd7807"
      },
      "execution_count": 952,
      "outputs": [
        {
          "output_type": "execute_result",
          "data": {
            "text/plain": [
              "MultinomialNB()"
            ],
            "text/html": [
              "<style>#sk-container-id-84 {color: black;}#sk-container-id-84 pre{padding: 0;}#sk-container-id-84 div.sk-toggleable {background-color: white;}#sk-container-id-84 label.sk-toggleable__label {cursor: pointer;display: block;width: 100%;margin-bottom: 0;padding: 0.3em;box-sizing: border-box;text-align: center;}#sk-container-id-84 label.sk-toggleable__label-arrow:before {content: \"▸\";float: left;margin-right: 0.25em;color: #696969;}#sk-container-id-84 label.sk-toggleable__label-arrow:hover:before {color: black;}#sk-container-id-84 div.sk-estimator:hover label.sk-toggleable__label-arrow:before {color: black;}#sk-container-id-84 div.sk-toggleable__content {max-height: 0;max-width: 0;overflow: hidden;text-align: left;background-color: #f0f8ff;}#sk-container-id-84 div.sk-toggleable__content pre {margin: 0.2em;color: black;border-radius: 0.25em;background-color: #f0f8ff;}#sk-container-id-84 input.sk-toggleable__control:checked~div.sk-toggleable__content {max-height: 200px;max-width: 100%;overflow: auto;}#sk-container-id-84 input.sk-toggleable__control:checked~label.sk-toggleable__label-arrow:before {content: \"▾\";}#sk-container-id-84 div.sk-estimator input.sk-toggleable__control:checked~label.sk-toggleable__label {background-color: #d4ebff;}#sk-container-id-84 div.sk-label input.sk-toggleable__control:checked~label.sk-toggleable__label {background-color: #d4ebff;}#sk-container-id-84 input.sk-hidden--visually {border: 0;clip: rect(1px 1px 1px 1px);clip: rect(1px, 1px, 1px, 1px);height: 1px;margin: -1px;overflow: hidden;padding: 0;position: absolute;width: 1px;}#sk-container-id-84 div.sk-estimator {font-family: monospace;background-color: #f0f8ff;border: 1px dotted black;border-radius: 0.25em;box-sizing: border-box;margin-bottom: 0.5em;}#sk-container-id-84 div.sk-estimator:hover {background-color: #d4ebff;}#sk-container-id-84 div.sk-parallel-item::after {content: \"\";width: 100%;border-bottom: 1px solid gray;flex-grow: 1;}#sk-container-id-84 div.sk-label:hover label.sk-toggleable__label {background-color: #d4ebff;}#sk-container-id-84 div.sk-serial::before {content: \"\";position: absolute;border-left: 1px solid gray;box-sizing: border-box;top: 0;bottom: 0;left: 50%;z-index: 0;}#sk-container-id-84 div.sk-serial {display: flex;flex-direction: column;align-items: center;background-color: white;padding-right: 0.2em;padding-left: 0.2em;position: relative;}#sk-container-id-84 div.sk-item {position: relative;z-index: 1;}#sk-container-id-84 div.sk-parallel {display: flex;align-items: stretch;justify-content: center;background-color: white;position: relative;}#sk-container-id-84 div.sk-item::before, #sk-container-id-84 div.sk-parallel-item::before {content: \"\";position: absolute;border-left: 1px solid gray;box-sizing: border-box;top: 0;bottom: 0;left: 50%;z-index: -1;}#sk-container-id-84 div.sk-parallel-item {display: flex;flex-direction: column;z-index: 1;position: relative;background-color: white;}#sk-container-id-84 div.sk-parallel-item:first-child::after {align-self: flex-end;width: 50%;}#sk-container-id-84 div.sk-parallel-item:last-child::after {align-self: flex-start;width: 50%;}#sk-container-id-84 div.sk-parallel-item:only-child::after {width: 0;}#sk-container-id-84 div.sk-dashed-wrapped {border: 1px dashed gray;margin: 0 0.4em 0.5em 0.4em;box-sizing: border-box;padding-bottom: 0.4em;background-color: white;}#sk-container-id-84 div.sk-label label {font-family: monospace;font-weight: bold;display: inline-block;line-height: 1.2em;}#sk-container-id-84 div.sk-label-container {text-align: center;}#sk-container-id-84 div.sk-container {/* jupyter's `normalize.less` sets `[hidden] { display: none; }` but bootstrap.min.css set `[hidden] { display: none !important; }` so we also need the `!important` here to be able to override the default hidden behavior on the sphinx rendered scikit-learn.org. See: https://github.com/scikit-learn/scikit-learn/issues/21755 */display: inline-block !important;position: relative;}#sk-container-id-84 div.sk-text-repr-fallback {display: none;}</style><div id=\"sk-container-id-84\" class=\"sk-top-container\"><div class=\"sk-text-repr-fallback\"><pre>MultinomialNB()</pre><b>In a Jupyter environment, please rerun this cell to show the HTML representation or trust the notebook. <br />On GitHub, the HTML representation is unable to render, please try loading this page with nbviewer.org.</b></div><div class=\"sk-container\" hidden><div class=\"sk-item\"><div class=\"sk-estimator sk-toggleable\"><input class=\"sk-toggleable__control sk-hidden--visually\" id=\"sk-estimator-id-84\" type=\"checkbox\" checked><label for=\"sk-estimator-id-84\" class=\"sk-toggleable__label sk-toggleable__label-arrow\">MultinomialNB</label><div class=\"sk-toggleable__content\"><pre>MultinomialNB()</pre></div></div></div></div></div>"
            ]
          },
          "metadata": {},
          "execution_count": 952
        }
      ]
    },
    {
      "cell_type": "code",
      "source": [
        "labels = mnb_model.score(x_test, ytest)\n",
        "print(labels)"
      ],
      "metadata": {
        "colab": {
          "base_uri": "https://localhost:8080/"
        },
        "id": "WTNNaZ8SKaGb",
        "outputId": "63677833-cf42-4f35-8431-df2bca2f102e"
      },
      "execution_count": 953,
      "outputs": [
        {
          "output_type": "stream",
          "name": "stdout",
          "text": [
            "0.9230769230769231\n"
          ]
        }
      ]
    },
    {
      "cell_type": "code",
      "source": [
        "from sklearn.linear_model import LogisticRegression"
      ],
      "metadata": {
        "id": "ZC8u2WaH2X5I"
      },
      "execution_count": 954,
      "outputs": []
    },
    {
      "cell_type": "code",
      "source": [
        "model = LogisticRegression()\n",
        "model.fit(x_train, ytrain)"
      ],
      "metadata": {
        "colab": {
          "base_uri": "https://localhost:8080/",
          "height": 74
        },
        "id": "t_UvQc7j2adL",
        "outputId": "54cd718d-896f-4a84-e299-94a5d7baefd9"
      },
      "execution_count": 955,
      "outputs": [
        {
          "output_type": "execute_result",
          "data": {
            "text/plain": [
              "LogisticRegression()"
            ],
            "text/html": [
              "<style>#sk-container-id-85 {color: black;}#sk-container-id-85 pre{padding: 0;}#sk-container-id-85 div.sk-toggleable {background-color: white;}#sk-container-id-85 label.sk-toggleable__label {cursor: pointer;display: block;width: 100%;margin-bottom: 0;padding: 0.3em;box-sizing: border-box;text-align: center;}#sk-container-id-85 label.sk-toggleable__label-arrow:before {content: \"▸\";float: left;margin-right: 0.25em;color: #696969;}#sk-container-id-85 label.sk-toggleable__label-arrow:hover:before {color: black;}#sk-container-id-85 div.sk-estimator:hover label.sk-toggleable__label-arrow:before {color: black;}#sk-container-id-85 div.sk-toggleable__content {max-height: 0;max-width: 0;overflow: hidden;text-align: left;background-color: #f0f8ff;}#sk-container-id-85 div.sk-toggleable__content pre {margin: 0.2em;color: black;border-radius: 0.25em;background-color: #f0f8ff;}#sk-container-id-85 input.sk-toggleable__control:checked~div.sk-toggleable__content {max-height: 200px;max-width: 100%;overflow: auto;}#sk-container-id-85 input.sk-toggleable__control:checked~label.sk-toggleable__label-arrow:before {content: \"▾\";}#sk-container-id-85 div.sk-estimator input.sk-toggleable__control:checked~label.sk-toggleable__label {background-color: #d4ebff;}#sk-container-id-85 div.sk-label input.sk-toggleable__control:checked~label.sk-toggleable__label {background-color: #d4ebff;}#sk-container-id-85 input.sk-hidden--visually {border: 0;clip: rect(1px 1px 1px 1px);clip: rect(1px, 1px, 1px, 1px);height: 1px;margin: -1px;overflow: hidden;padding: 0;position: absolute;width: 1px;}#sk-container-id-85 div.sk-estimator {font-family: monospace;background-color: #f0f8ff;border: 1px dotted black;border-radius: 0.25em;box-sizing: border-box;margin-bottom: 0.5em;}#sk-container-id-85 div.sk-estimator:hover {background-color: #d4ebff;}#sk-container-id-85 div.sk-parallel-item::after {content: \"\";width: 100%;border-bottom: 1px solid gray;flex-grow: 1;}#sk-container-id-85 div.sk-label:hover label.sk-toggleable__label {background-color: #d4ebff;}#sk-container-id-85 div.sk-serial::before {content: \"\";position: absolute;border-left: 1px solid gray;box-sizing: border-box;top: 0;bottom: 0;left: 50%;z-index: 0;}#sk-container-id-85 div.sk-serial {display: flex;flex-direction: column;align-items: center;background-color: white;padding-right: 0.2em;padding-left: 0.2em;position: relative;}#sk-container-id-85 div.sk-item {position: relative;z-index: 1;}#sk-container-id-85 div.sk-parallel {display: flex;align-items: stretch;justify-content: center;background-color: white;position: relative;}#sk-container-id-85 div.sk-item::before, #sk-container-id-85 div.sk-parallel-item::before {content: \"\";position: absolute;border-left: 1px solid gray;box-sizing: border-box;top: 0;bottom: 0;left: 50%;z-index: -1;}#sk-container-id-85 div.sk-parallel-item {display: flex;flex-direction: column;z-index: 1;position: relative;background-color: white;}#sk-container-id-85 div.sk-parallel-item:first-child::after {align-self: flex-end;width: 50%;}#sk-container-id-85 div.sk-parallel-item:last-child::after {align-self: flex-start;width: 50%;}#sk-container-id-85 div.sk-parallel-item:only-child::after {width: 0;}#sk-container-id-85 div.sk-dashed-wrapped {border: 1px dashed gray;margin: 0 0.4em 0.5em 0.4em;box-sizing: border-box;padding-bottom: 0.4em;background-color: white;}#sk-container-id-85 div.sk-label label {font-family: monospace;font-weight: bold;display: inline-block;line-height: 1.2em;}#sk-container-id-85 div.sk-label-container {text-align: center;}#sk-container-id-85 div.sk-container {/* jupyter's `normalize.less` sets `[hidden] { display: none; }` but bootstrap.min.css set `[hidden] { display: none !important; }` so we also need the `!important` here to be able to override the default hidden behavior on the sphinx rendered scikit-learn.org. See: https://github.com/scikit-learn/scikit-learn/issues/21755 */display: inline-block !important;position: relative;}#sk-container-id-85 div.sk-text-repr-fallback {display: none;}</style><div id=\"sk-container-id-85\" class=\"sk-top-container\"><div class=\"sk-text-repr-fallback\"><pre>LogisticRegression()</pre><b>In a Jupyter environment, please rerun this cell to show the HTML representation or trust the notebook. <br />On GitHub, the HTML representation is unable to render, please try loading this page with nbviewer.org.</b></div><div class=\"sk-container\" hidden><div class=\"sk-item\"><div class=\"sk-estimator sk-toggleable\"><input class=\"sk-toggleable__control sk-hidden--visually\" id=\"sk-estimator-id-85\" type=\"checkbox\" checked><label for=\"sk-estimator-id-85\" class=\"sk-toggleable__label sk-toggleable__label-arrow\">LogisticRegression</label><div class=\"sk-toggleable__content\"><pre>LogisticRegression()</pre></div></div></div></div></div>"
            ]
          },
          "metadata": {},
          "execution_count": 955
        }
      ]
    },
    {
      "cell_type": "code",
      "source": [
        "lr_results = model.score(x_test, ytest)\n",
        "print(lr_results)"
      ],
      "metadata": {
        "colab": {
          "base_uri": "https://localhost:8080/"
        },
        "id": "jaLcUtWL2e3g",
        "outputId": "e1d085e3-a90a-43e2-c478-ccff11fca0d7"
      },
      "execution_count": 956,
      "outputs": [
        {
          "output_type": "stream",
          "name": "stdout",
          "text": [
            "0.8717948717948718\n"
          ]
        }
      ]
    },
    {
      "cell_type": "code",
      "source": [
        "def plot_histogram(metric_values, model_names, metric_name):\n",
        "    fig, ax = plt.subplots(figsize=(10, 5))\n",
        "    bars = plt.bar(model_names, metric_values)\n",
        "    plt.xlabel('Models')\n",
        "    plt.ylabel(metric_name)\n",
        "    plt.title(f'{metric_name} for Different Models')\n",
        "\n",
        "    for bar in bars:\n",
        "        yval = bar.get_height()\n",
        "        ax.text(bar.get_x() + bar.get_width()/2, yval, round(yval, 3), ha='center', va='bottom', color='black', fontweight='bold')\n",
        "\n",
        "    plt.show()\n",
        "\n",
        "accuracy_values = [nb_results['Accuracy'], labels, lr_results]\n",
        "model_names = ['Multinomial Naive Bayes', 'Bernoulli Naive Bayes', 'Logistic Regression']\n",
        "plot_histogram(accuracy_values, model_names, 'Accuracy')"
      ],
      "metadata": {
        "id": "w078naqjk56f",
        "outputId": "3c030186-75d2-408c-d0f0-34ed0aff7339",
        "colab": {
          "base_uri": "https://localhost:8080/",
          "height": 496
        }
      },
      "execution_count": 957,
      "outputs": [
        {
          "output_type": "display_data",
          "data": {
            "text/plain": [
              "<Figure size 1000x500 with 1 Axes>"
            ],
            "image/png": "[encoded data removed]"
          },
          "metadata": {}
        }
      ]
    },
    {
      "cell_type": "markdown",
      "source": [
        "# **Draft Code**"
      ],
      "metadata": {
        "id": "iYZtadhdUDux"
      }
    },
    {
      "cell_type": "markdown",
      "source": [
        "pip install bnlp_toolkit\n",
        "from wordcloud import WordCloud\n",
        "from bnlp import NLTKTokenizer\n",
        "\n",
        "category_column = 'text'\n",
        "\n",
        "text_data = ' '.join(df[category_column].dropna().astype(str))\n",
        "\n",
        "# Initialize the tokenizer\n",
        "bnltk = NLTKTokenizer()\n",
        "\n",
        "# Tokenize the text data\n",
        "words = bnltk.word_tokenize(text_data)\n",
        "\n",
        "# Join the tokenized words back into a single string\n",
        "processed_text_data = ' '.join(words)\n",
        "\n",
        "bengali_font_path = '/content/SutonnyMJ Regular.ttf'\n",
        "\n",
        "wordcloud = WordCloud(font_path=bengali_font_path, width=800, height=400, background_color='white').generate(text_data)\n",
        "\n",
        "# Display the word cloud using matplotlib\n",
        "\n",
        "plt.figure(figsize=(10, 5))\n",
        "plt.imshow(wordcloud, interpolation='bilinear')\n",
        "plt.axis('off')\n",
        "plt.show()\n",
        "\n",
        "\n",
        "  prob = model.predict_proba(xtest)[:, 1]\n",
        "    roc_auc = roc_auc_score(ytest, prob)\n",
        "    fpr, tpr, thresholds = roc_curve(ytest, prob)\n",
        "    precision, recall, _ = precision_recall_curve(ytest, prob)\n",
        "    pr_auc = auc(recall, precision)"
      ],
      "metadata": {
        "id": "o61BEUb1LWv6"
      }
    }
  ]
}