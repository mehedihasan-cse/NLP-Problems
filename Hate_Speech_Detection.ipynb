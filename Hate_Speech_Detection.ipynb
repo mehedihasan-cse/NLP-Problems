{
  "nbformat": 4,
  "nbformat_minor": 0,
  "metadata": {
    "colab": {
      "provenance": [],
      "include_colab_link": true
    },
    "kernelspec": {
      "name": "python3",
      "display_name": "Python 3"
    },
    "language_info": {
      "name": "python"
    }
  },
  "cells": [
    {
      "cell_type": "markdown",
      "metadata": {
        "id": "view-in-github",
        "colab_type": "text"
      },
      "source": [
        "<a href=\"https://colab.research.google.com/github/mehedihasan-cse/NLP-Problems/blob/main/Hate_Speech_Detection.ipynb\" target=\"_parent\"><img src=\"https://colab.research.google.com/assets/colab-badge.svg\" alt=\"Open In Colab\"/></a>"
      ]
    },
    {
      "cell_type": "code",
      "execution_count": 261,
      "metadata": {
        "id": "oUb_Ymeu0Erc",
        "outputId": "c131d45b-276b-4711-b8b0-c3e9f16fae36",
        "colab": {
          "base_uri": "https://localhost:8080/"
        }
      },
      "outputs": [
        {
          "output_type": "stream",
          "name": "stdout",
          "text": [
            "Requirement already satisfied: pybangla in /usr/local/lib/python3.10/dist-packages (2.0.3)\n",
            "Requirement already satisfied: DateTime in /usr/local/lib/python3.10/dist-packages (from pybangla) (5.5)\n",
            "Requirement already satisfied: num2words in /usr/local/lib/python3.10/dist-packages (from pybangla) (0.5.13)\n",
            "Requirement already satisfied: python-Levenshtein in /usr/local/lib/python3.10/dist-packages (from pybangla) (0.25.1)\n",
            "Requirement already satisfied: fuzzywuzzy in /usr/local/lib/python3.10/dist-packages (from pybangla) (0.18.0)\n",
            "Requirement already satisfied: zope.interface in /usr/local/lib/python3.10/dist-packages (from DateTime->pybangla) (7.0.1)\n",
            "Requirement already satisfied: pytz in /usr/local/lib/python3.10/dist-packages (from DateTime->pybangla) (2024.1)\n",
            "Requirement already satisfied: docopt>=0.6.2 in /usr/local/lib/python3.10/dist-packages (from num2words->pybangla) (0.6.2)\n",
            "Requirement already satisfied: Levenshtein==0.25.1 in /usr/local/lib/python3.10/dist-packages (from python-Levenshtein->pybangla) (0.25.1)\n",
            "Requirement already satisfied: rapidfuzz<4.0.0,>=3.8.0 in /usr/local/lib/python3.10/dist-packages (from Levenshtein==0.25.1->python-Levenshtein->pybangla) (3.9.6)\n",
            "Requirement already satisfied: setuptools in /usr/local/lib/python3.10/dist-packages (from zope.interface->DateTime->pybangla) (71.0.4)\n"
          ]
        }
      ],
      "source": [
        "import numpy as np  #To work with multi-dimentional array and matrix\n",
        "import pandas as pd  #Data Manipulation, Data strcutre\n",
        "import matplotlib.pyplot as plt #Data Visualization\n",
        "import seaborn as sns\n",
        "import nltk\n",
        "import string\n",
        "!pip install pybangla\n",
        "%matplotlib inline\n",
        "import warnings\n",
        "warnings.filterwarnings('ignore')\n"
      ]
    },
    {
      "cell_type": "code",
      "source": [
        "df = pd.read_csv(\"/content/bengali_hate_v2.0.csv\")"
      ],
      "metadata": {
        "id": "183GZFkyQGmh"
      },
      "execution_count": 262,
      "outputs": []
    },
    {
      "cell_type": "code",
      "source": [
        "df.tail(7)"
      ],
      "metadata": {
        "colab": {
          "base_uri": "https://localhost:8080/",
          "height": 269
        },
        "id": "T0Q81LE4Ql1Z",
        "outputId": "3f697561-a285-4ee2-e9cf-54dc002eba9f"
      },
      "execution_count": 263,
      "outputs": [
        {
          "output_type": "execute_result",
          "data": {
            "text/plain": [
              "                                                   text         label  target\n",
              "5691  তুই তো নাস্তিক সেটা আমরা সবাই জানি তুই তো আরো ...     Religious       2\n",
              "5692  সত্যি করে বল ডাইনোসর বিলুপ্ত হয়ে গেছিল নাকি তো...  Geopolitical       3\n",
              "5693  জুতা যতই দামি হোক তার স্থান পায়ে তার স্থান কখ...      Personal       0\n",
              "5694  আমাদের দেশ ছোট বলে ভারতের চেয়ে পিছিয়ে, না হয়...  Geopolitical       3\n",
              "5695  হিন্দুদের মধ্যে এগুলো হয় এটাই তার বাস্তব প্রমা...      Personal       0\n",
              "5696         দেখলে মনে হয় শালী একটা অস্ট্রেলিয়ান গাভী       Personal       0\n",
              "5697  ভাই আমি আপনার সাথে একমত। আর নারী নেতৃত্বে থাকত...     Political       1"
            ],
            "text/html": [
              "\n",
              "  <div id=\"df-9ec5e282-6bbb-4698-85d9-f1c2ffaa32b0\" class=\"colab-df-container\">\n",
              "    <div>\n",
              "<style scoped>\n",
              "    .dataframe tbody tr th:only-of-type {\n",
              "        vertical-align: middle;\n",
              "    }\n",
              "\n",
              "    .dataframe tbody tr th {\n",
              "        vertical-align: top;\n",
              "    }\n",
              "\n",
              "    .dataframe thead th {\n",
              "        text-align: right;\n",
              "    }\n",
              "</style>\n",
              "<table border=\"1\" class=\"dataframe\">\n",
              "  <thead>\n",
              "    <tr style=\"text-align: right;\">\n",
              "      <th></th>\n",
              "      <th>text</th>\n",
              "      <th>label</th>\n",
              "      <th>target</th>\n",
              "    </tr>\n",
              "  </thead>\n",
              "  <tbody>\n",
              "    <tr>\n",
              "      <th>5691</th>\n",
              "      <td>তুই তো নাস্তিক সেটা আমরা সবাই জানি তুই তো আরো ...</td>\n",
              "      <td>Religious</td>\n",
              "      <td>2</td>\n",
              "    </tr>\n",
              "    <tr>\n",
              "      <th>5692</th>\n",
              "      <td>সত্যি করে বল ডাইনোসর বিলুপ্ত হয়ে গেছিল নাকি তো...</td>\n",
              "      <td>Geopolitical</td>\n",
              "      <td>3</td>\n",
              "    </tr>\n",
              "    <tr>\n",
              "      <th>5693</th>\n",
              "      <td>জুতা যতই দামি হোক তার স্থান পায়ে তার স্থান কখ...</td>\n",
              "      <td>Personal</td>\n",
              "      <td>0</td>\n",
              "    </tr>\n",
              "    <tr>\n",
              "      <th>5694</th>\n",
              "      <td>আমাদের দেশ ছোট বলে ভারতের চেয়ে পিছিয়ে, না হয়...</td>\n",
              "      <td>Geopolitical</td>\n",
              "      <td>3</td>\n",
              "    </tr>\n",
              "    <tr>\n",
              "      <th>5695</th>\n",
              "      <td>হিন্দুদের মধ্যে এগুলো হয় এটাই তার বাস্তব প্রমা...</td>\n",
              "      <td>Personal</td>\n",
              "      <td>0</td>\n",
              "    </tr>\n",
              "    <tr>\n",
              "      <th>5696</th>\n",
              "      <td>দেখলে মনে হয় শালী একটা অস্ট্রেলিয়ান গাভী</td>\n",
              "      <td>Personal</td>\n",
              "      <td>0</td>\n",
              "    </tr>\n",
              "    <tr>\n",
              "      <th>5697</th>\n",
              "      <td>ভাই আমি আপনার সাথে একমত। আর নারী নেতৃত্বে থাকত...</td>\n",
              "      <td>Political</td>\n",
              "      <td>1</td>\n",
              "    </tr>\n",
              "  </tbody>\n",
              "</table>\n",
              "</div>\n",
              "    <div class=\"colab-df-buttons\">\n",
              "\n",
              "  <div class=\"colab-df-container\">\n",
              "    <button class=\"colab-df-convert\" onclick=\"convertToInteractive('df-9ec5e282-6bbb-4698-85d9-f1c2ffaa32b0')\"\n",
              "            title=\"Convert this dataframe to an interactive table.\"\n",
              "            style=\"display:none;\">\n",
              "\n",
              "  <svg xmlns=\"http://www.w3.org/2000/svg\" height=\"24px\" viewBox=\"0 -960 960 960\">\n",
              "    <path d=\"M120-120v-720h720v720H120Zm60-500h600v-160H180v160Zm220 220h160v-160H400v160Zm0 220h160v-160H400v160ZM180-400h160v-160H180v160Zm440 0h160v-160H620v160ZM180-180h160v-160H180v160Zm440 0h160v-160H620v160Z\"/>\n",
              "  </svg>\n",
              "    </button>\n",
              "\n",
              "  <style>\n",
              "    .colab-df-container {\n",
              "      display:flex;\n",
              "      gap: 12px;\n",
              "    }\n",
              "\n",
              "    .colab-df-convert {\n",
              "      background-color: #E8F0FE;\n",
              "      border: none;\n",
              "      border-radius: 50%;\n",
              "      cursor: pointer;\n",
              "      display: none;\n",
              "      fill: #1967D2;\n",
              "      height: 32px;\n",
              "      padding: 0 0 0 0;\n",
              "      width: 32px;\n",
              "    }\n",
              "\n",
              "    .colab-df-convert:hover {\n",
              "      background-color: #E2EBFA;\n",
              "      box-shadow: 0px 1px 2px rgba(60, 64, 67, 0.3), 0px 1px 3px 1px rgba(60, 64, 67, 0.15);\n",
              "      fill: #174EA6;\n",
              "    }\n",
              "\n",
              "    .colab-df-buttons div {\n",
              "      margin-bottom: 4px;\n",
              "    }\n",
              "\n",
              "    [theme=dark] .colab-df-convert {\n",
              "      background-color: #3B4455;\n",
              "      fill: #D2E3FC;\n",
              "    }\n",
              "\n",
              "    [theme=dark] .colab-df-convert:hover {\n",
              "      background-color: #434B5C;\n",
              "      box-shadow: 0px 1px 3px 1px rgba(0, 0, 0, 0.15);\n",
              "      filter: drop-shadow(0px 1px 2px rgba(0, 0, 0, 0.3));\n",
              "      fill: #FFFFFF;\n",
              "    }\n",
              "  </style>\n",
              "\n",
              "    <script>\n",
              "      const buttonEl =\n",
              "        document.querySelector('#df-9ec5e282-6bbb-4698-85d9-f1c2ffaa32b0 button.colab-df-convert');\n",
              "      buttonEl.style.display =\n",
              "        google.colab.kernel.accessAllowed ? 'block' : 'none';\n",
              "\n",
              "      async function convertToInteractive(key) {\n",
              "        const element = document.querySelector('#df-9ec5e282-6bbb-4698-85d9-f1c2ffaa32b0');\n",
              "        const dataTable =\n",
              "          await google.colab.kernel.invokeFunction('convertToInteractive',\n",
              "                                                    [key], {});\n",
              "        if (!dataTable) return;\n",
              "\n",
              "        const docLinkHtml = 'Like what you see? Visit the ' +\n",
              "          '<a target=\"_blank\" href=https://colab.research.google.com/notebooks/data_table.ipynb>data table notebook</a>'\n",
              "          + ' to learn more about interactive tables.';\n",
              "        element.innerHTML = '';\n",
              "        dataTable['output_type'] = 'display_data';\n",
              "        await google.colab.output.renderOutput(dataTable, element);\n",
              "        const docLink = document.createElement('div');\n",
              "        docLink.innerHTML = docLinkHtml;\n",
              "        element.appendChild(docLink);\n",
              "      }\n",
              "    </script>\n",
              "  </div>\n",
              "\n",
              "\n",
              "<div id=\"df-cc8283f5-488e-4df9-bd84-8bd3927768ab\">\n",
              "  <button class=\"colab-df-quickchart\" onclick=\"quickchart('df-cc8283f5-488e-4df9-bd84-8bd3927768ab')\"\n",
              "            title=\"Suggest charts\"\n",
              "            style=\"display:none;\">\n",
              "\n",
              "<svg xmlns=\"http://www.w3.org/2000/svg\" height=\"24px\"viewBox=\"0 0 24 24\"\n",
              "     width=\"24px\">\n",
              "    <g>\n",
              "        <path d=\"M19 3H5c-1.1 0-2 .9-2 2v14c0 1.1.9 2 2 2h14c1.1 0 2-.9 2-2V5c0-1.1-.9-2-2-2zM9 17H7v-7h2v7zm4 0h-2V7h2v10zm4 0h-2v-4h2v4z\"/>\n",
              "    </g>\n",
              "</svg>\n",
              "  </button>\n",
              "\n",
              "<style>\n",
              "  .colab-df-quickchart {\n",
              "      --bg-color: #E8F0FE;\n",
              "      --fill-color: #1967D2;\n",
              "      --hover-bg-color: #E2EBFA;\n",
              "      --hover-fill-color: #174EA6;\n",
              "      --disabled-fill-color: #AAA;\n",
              "      --disabled-bg-color: #DDD;\n",
              "  }\n",
              "\n",
              "  [theme=dark] .colab-df-quickchart {\n",
              "      --bg-color: #3B4455;\n",
              "      --fill-color: #D2E3FC;\n",
              "      --hover-bg-color: #434B5C;\n",
              "      --hover-fill-color: #FFFFFF;\n",
              "      --disabled-bg-color: #3B4455;\n",
              "      --disabled-fill-color: #666;\n",
              "  }\n",
              "\n",
              "  .colab-df-quickchart {\n",
              "    background-color: var(--bg-color);\n",
              "    border: none;\n",
              "    border-radius: 50%;\n",
              "    cursor: pointer;\n",
              "    display: none;\n",
              "    fill: var(--fill-color);\n",
              "    height: 32px;\n",
              "    padding: 0;\n",
              "    width: 32px;\n",
              "  }\n",
              "\n",
              "  .colab-df-quickchart:hover {\n",
              "    background-color: var(--hover-bg-color);\n",
              "    box-shadow: 0 1px 2px rgba(60, 64, 67, 0.3), 0 1px 3px 1px rgba(60, 64, 67, 0.15);\n",
              "    fill: var(--button-hover-fill-color);\n",
              "  }\n",
              "\n",
              "  .colab-df-quickchart-complete:disabled,\n",
              "  .colab-df-quickchart-complete:disabled:hover {\n",
              "    background-color: var(--disabled-bg-color);\n",
              "    fill: var(--disabled-fill-color);\n",
              "    box-shadow: none;\n",
              "  }\n",
              "\n",
              "  .colab-df-spinner {\n",
              "    border: 2px solid var(--fill-color);\n",
              "    border-color: transparent;\n",
              "    border-bottom-color: var(--fill-color);\n",
              "    animation:\n",
              "      spin 1s steps(1) infinite;\n",
              "  }\n",
              "\n",
              "  @keyframes spin {\n",
              "    0% {\n",
              "      border-color: transparent;\n",
              "      border-bottom-color: var(--fill-color);\n",
              "      border-left-color: var(--fill-color);\n",
              "    }\n",
              "    20% {\n",
              "      border-color: transparent;\n",
              "      border-left-color: var(--fill-color);\n",
              "      border-top-color: var(--fill-color);\n",
              "    }\n",
              "    30% {\n",
              "      border-color: transparent;\n",
              "      border-left-color: var(--fill-color);\n",
              "      border-top-color: var(--fill-color);\n",
              "      border-right-color: var(--fill-color);\n",
              "    }\n",
              "    40% {\n",
              "      border-color: transparent;\n",
              "      border-right-color: var(--fill-color);\n",
              "      border-top-color: var(--fill-color);\n",
              "    }\n",
              "    60% {\n",
              "      border-color: transparent;\n",
              "      border-right-color: var(--fill-color);\n",
              "    }\n",
              "    80% {\n",
              "      border-color: transparent;\n",
              "      border-right-color: var(--fill-color);\n",
              "      border-bottom-color: var(--fill-color);\n",
              "    }\n",
              "    90% {\n",
              "      border-color: transparent;\n",
              "      border-bottom-color: var(--fill-color);\n",
              "    }\n",
              "  }\n",
              "</style>\n",
              "\n",
              "  <script>\n",
              "    async function quickchart(key) {\n",
              "      const quickchartButtonEl =\n",
              "        document.querySelector('#' + key + ' button');\n",
              "      quickchartButtonEl.disabled = true;  // To prevent multiple clicks.\n",
              "      quickchartButtonEl.classList.add('colab-df-spinner');\n",
              "      try {\n",
              "        const charts = await google.colab.kernel.invokeFunction(\n",
              "            'suggestCharts', [key], {});\n",
              "      } catch (error) {\n",
              "        console.error('Error during call to suggestCharts:', error);\n",
              "      }\n",
              "      quickchartButtonEl.classList.remove('colab-df-spinner');\n",
              "      quickchartButtonEl.classList.add('colab-df-quickchart-complete');\n",
              "    }\n",
              "    (() => {\n",
              "      let quickchartButtonEl =\n",
              "        document.querySelector('#df-cc8283f5-488e-4df9-bd84-8bd3927768ab button');\n",
              "      quickchartButtonEl.style.display =\n",
              "        google.colab.kernel.accessAllowed ? 'block' : 'none';\n",
              "    })();\n",
              "  </script>\n",
              "</div>\n",
              "\n",
              "    </div>\n",
              "  </div>\n"
            ],
            "application/vnd.google.colaboratory.intrinsic+json": {
              "type": "dataframe",
              "summary": "{\n  \"name\": \"df\",\n  \"rows\": 7,\n  \"fields\": [\n    {\n      \"column\": \"text\",\n      \"properties\": {\n        \"dtype\": \"string\",\n        \"num_unique_values\": 7,\n        \"samples\": [\n          \"\\u09a4\\u09c1\\u0987 \\u09a4\\u09cb \\u09a8\\u09be\\u09b8\\u09cd\\u09a4\\u09bf\\u0995 \\u09b8\\u09c7\\u099f\\u09be \\u0986\\u09ae\\u09b0\\u09be \\u09b8\\u09ac\\u09be\\u0987 \\u099c\\u09be\\u09a8\\u09bf \\u09a4\\u09c1\\u0987 \\u09a4\\u09cb \\u0986\\u09b0\\u09cb \\u09a8\\u09be\\u09b8\\u09cd\\u09a4\\u09bf\\u0995\\u09c7\\u09b0 \\u0995\\u09be\\u099b\\u09c7 \\u09ac\\u09bf\\u0995\\u09cd\\u09b0\\u09bf \\u09b9\\u09af\\u09bc\\u09c7 \\u0997\\u09c7\\u099b\\u09bf\\u09b8 \\u09b6\\u09c1\\u09af\\u09bc\\u09cb\\u09b0 \\u0995\\u09cb\\u09a5\\u09be\\u0995\\u09be\\u09b0 \",\n          \"\\u09b8\\u09a4\\u09cd\\u09af\\u09bf \\u0995\\u09b0\\u09c7 \\u09ac\\u09b2 \\u09a1\\u09be\\u0987\\u09a8\\u09cb\\u09b8\\u09b0 \\u09ac\\u09bf\\u09b2\\u09c1\\u09aa\\u09cd\\u09a4 \\u09b9\\u09df\\u09c7 \\u0997\\u09c7\\u099b\\u09bf\\u09b2 \\u09a8\\u09be\\u0995\\u09bf \\u09a4\\u09cb\\u09b0\\u09be \\u0996\\u09c7\\u09df\\u09c7 \\u09ab\\u09c7\\u09b2\\u09c7\\u099b\\u09bf\\u09b2\\u09bf? \",\n          \"\\u09a6\\u09c7\\u0996\\u09b2\\u09c7 \\u09ae\\u09a8\\u09c7 \\u09b9\\u09df \\u09b6\\u09be\\u09b2\\u09c0 \\u098f\\u0995\\u099f\\u09be \\u0985\\u09b8\\u09cd\\u099f\\u09cd\\u09b0\\u09c7\\u09b2\\u09bf\\u09af\\u09bc\\u09be\\u09a8 \\u0997\\u09be\\u09ad\\u09c0 \"\n        ],\n        \"semantic_type\": \"\",\n        \"description\": \"\"\n      }\n    },\n    {\n      \"column\": \"label\",\n      \"properties\": {\n        \"dtype\": \"string\",\n        \"num_unique_values\": 4,\n        \"samples\": [\n          \"Geopolitical\",\n          \"Political\",\n          \"Religious\"\n        ],\n        \"semantic_type\": \"\",\n        \"description\": \"\"\n      }\n    },\n    {\n      \"column\": \"target\",\n      \"properties\": {\n        \"dtype\": \"number\",\n        \"std\": 1,\n        \"min\": 0,\n        \"max\": 3,\n        \"num_unique_values\": 4,\n        \"samples\": [\n          3,\n          1,\n          2\n        ],\n        \"semantic_type\": \"\",\n        \"description\": \"\"\n      }\n    }\n  ]\n}"
            }
          },
          "metadata": {},
          "execution_count": 263
        }
      ]
    },
    {
      "cell_type": "code",
      "source": [
        "df.columns.values"
      ],
      "metadata": {
        "colab": {
          "base_uri": "https://localhost:8080/"
        },
        "id": "XzRu8DYzQw-1",
        "outputId": "810b362c-6c04-4f6b-dc64-2c3fc60741cb"
      },
      "execution_count": 264,
      "outputs": [
        {
          "output_type": "execute_result",
          "data": {
            "text/plain": [
              "array(['text', 'label', 'target'], dtype=object)"
            ]
          },
          "metadata": {},
          "execution_count": 264
        }
      ]
    },
    {
      "cell_type": "code",
      "source": [
        "df.value_counts()"
      ],
      "metadata": {
        "colab": {
          "base_uri": "https://localhost:8080/",
          "height": 628
        },
        "collapsed": true,
        "id": "wU9dS_nlHtFK",
        "outputId": "4c6f0e4a-24e4-4530-95af-a5277c58501e"
      },
      "execution_count": 265,
      "outputs": [
        {
          "output_type": "execute_result",
          "data": {
            "text/plain": [
              "text                                                                                                                                      label         target\n",
              " অন্ন কেহু না সব রেন্ডিয়ার দাদা বাবুরা। চিন্তার কারন নাই।                                                                                 Geopolitical  3         1\n",
              "ভাই আপনি তাকে কেন বলছেন না যে তুমি উর্দুতে কথা বল আমি যেভাবে ধর্ম গ্রন্থ থেকে রেফারেন্স দিয়ে কথা বলতেছি তুমি রেফারেন্সে কথা বল এটা বলুন  Religious     2         1\n",
              "ভাই তোর সাফল্যের রহস্যটা কি? আমি পর্ণ ওয়েবসাইট ব্যান করি নাই                                                                              Personal      0         1\n",
              "ভাই তোর মতো মা চোদা আর দেখিনি                                                                                                             Personal      0         1\n",
              "ভাই তোমারে তো চুরের মত লাগে.                                                                                                              Personal      0         1\n",
              "                                                                                                                                                                 ..\n",
              "কিছু কুচুটে লোকের অসৎ উদ্দেশ্য চরিতার্থ করার জন্য আপনি ভিডিও প্রচার করে যাওয়া থেকে বিরত থাকার অনুরোধ করছিভালো থাকুন                       Personal      0         1\n",
              "কি সব বাল সাল, সোনিকা ধুর ক্ষ্যাত                                                                                                         Personal      0         1\n",
              "কি যে ওর কন্ঠ সুর শুনলে পাড়েই বমি আসে, হিমেশের সালমান খান বেশি ফেমাস হওয়ার জন্য এইসব পাগলদের কে প্রশ্রয় দেয়                           Personal      0         1\n",
              "কি যে আউল ফাউল ইংলিশ বলিস তোরা।বাংলাটাই আগে ঠিক মতো বলা শিখ হারামজাদা                                                                     Personal      0         1\n",
              "৯৫% ধর্ষনের সাথে আওয়ামী লীগের কর্মীরা প্রত্যক্ষ এবং পরোক্ষভাবে জড়িত।                                                                    Political     1         1\n",
              "Name: count, Length: 5698, dtype: int64"
            ],
            "text/html": [
              "<div>\n",
              "<style scoped>\n",
              "    .dataframe tbody tr th:only-of-type {\n",
              "        vertical-align: middle;\n",
              "    }\n",
              "\n",
              "    .dataframe tbody tr th {\n",
              "        vertical-align: top;\n",
              "    }\n",
              "\n",
              "    .dataframe thead th {\n",
              "        text-align: right;\n",
              "    }\n",
              "</style>\n",
              "<table border=\"1\" class=\"dataframe\">\n",
              "  <thead>\n",
              "    <tr style=\"text-align: right;\">\n",
              "      <th></th>\n",
              "      <th></th>\n",
              "      <th></th>\n",
              "      <th>count</th>\n",
              "    </tr>\n",
              "    <tr>\n",
              "      <th>text</th>\n",
              "      <th>label</th>\n",
              "      <th>target</th>\n",
              "      <th></th>\n",
              "    </tr>\n",
              "  </thead>\n",
              "  <tbody>\n",
              "    <tr>\n",
              "      <th>অন্ন কেহু না সব রেন্ডিয়ার দাদা বাবুরা। চিন্তার কারন নাই।</th>\n",
              "      <th>Geopolitical</th>\n",
              "      <th>3</th>\n",
              "      <td>1</td>\n",
              "    </tr>\n",
              "    <tr>\n",
              "      <th>ভাই আপনি তাকে কেন বলছেন না যে তুমি উর্দুতে কথা বল আমি যেভাবে ধর্ম গ্রন্থ থেকে রেফারেন্স দিয়ে কথা বলতেছি তুমি রেফারেন্সে কথা বল এটা বলুন</th>\n",
              "      <th>Religious</th>\n",
              "      <th>2</th>\n",
              "      <td>1</td>\n",
              "    </tr>\n",
              "    <tr>\n",
              "      <th>ভাই তোর সাফল্যের রহস্যটা কি? আমি পর্ণ ওয়েবসাইট ব্যান করি নাই</th>\n",
              "      <th>Personal</th>\n",
              "      <th>0</th>\n",
              "      <td>1</td>\n",
              "    </tr>\n",
              "    <tr>\n",
              "      <th>ভাই তোর মতো মা চোদা আর দেখিনি</th>\n",
              "      <th>Personal</th>\n",
              "      <th>0</th>\n",
              "      <td>1</td>\n",
              "    </tr>\n",
              "    <tr>\n",
              "      <th>ভাই তোমারে তো চুরের মত লাগে.</th>\n",
              "      <th>Personal</th>\n",
              "      <th>0</th>\n",
              "      <td>1</td>\n",
              "    </tr>\n",
              "    <tr>\n",
              "      <th>...</th>\n",
              "      <th>...</th>\n",
              "      <th>...</th>\n",
              "      <td>...</td>\n",
              "    </tr>\n",
              "    <tr>\n",
              "      <th>কিছু কুচুটে লোকের অসৎ উদ্দেশ্য চরিতার্থ করার জন্য আপনি ভিডিও প্রচার করে যাওয়া থেকে বিরত থাকার অনুরোধ করছিভালো থাকুন</th>\n",
              "      <th>Personal</th>\n",
              "      <th>0</th>\n",
              "      <td>1</td>\n",
              "    </tr>\n",
              "    <tr>\n",
              "      <th>কি সব বাল সাল, সোনিকা ধুর ক্ষ্যাত</th>\n",
              "      <th>Personal</th>\n",
              "      <th>0</th>\n",
              "      <td>1</td>\n",
              "    </tr>\n",
              "    <tr>\n",
              "      <th>কি যে ওর কন্ঠ সুর শুনলে পাড়েই বমি আসে, হিমেশের সালমান খান বেশি ফেমাস হওয়ার জন্য এইসব পাগলদের কে প্রশ্রয় দেয়</th>\n",
              "      <th>Personal</th>\n",
              "      <th>0</th>\n",
              "      <td>1</td>\n",
              "    </tr>\n",
              "    <tr>\n",
              "      <th>কি যে আউল ফাউল ইংলিশ বলিস তোরা।বাংলাটাই আগে ঠিক মতো বলা শিখ হারামজাদা</th>\n",
              "      <th>Personal</th>\n",
              "      <th>0</th>\n",
              "      <td>1</td>\n",
              "    </tr>\n",
              "    <tr>\n",
              "      <th>৯৫% ধর্ষনের সাথে আওয়ামী লীগের কর্মীরা প্রত্যক্ষ এবং পরোক্ষভাবে জড়িত।</th>\n",
              "      <th>Political</th>\n",
              "      <th>1</th>\n",
              "      <td>1</td>\n",
              "    </tr>\n",
              "  </tbody>\n",
              "</table>\n",
              "<p>5698 rows × 1 columns</p>\n",
              "</div><br><label><b>dtype:</b> int64</label>"
            ]
          },
          "metadata": {},
          "execution_count": 265
        }
      ]
    },
    {
      "cell_type": "markdown",
      "source": [
        "# **Data Pre-Processing**"
      ],
      "metadata": {
        "id": "qPceAwwBUo0H"
      }
    },
    {
      "cell_type": "code",
      "source": [
        "df.drop_duplicates(inplace =True)\n",
        "df = df.replace('\\n','',regex= True)\n",
        "df = df.replace(',,',',',regex= True)"
      ],
      "metadata": {
        "id": "K_fzkgS4HpIM"
      },
      "execution_count": 266,
      "outputs": []
    },
    {
      "cell_type": "code",
      "source": [
        "df"
      ],
      "metadata": {
        "colab": {
          "base_uri": "https://localhost:8080/",
          "height": 423
        },
        "collapsed": true,
        "id": "K3jxXty-H3JL",
        "outputId": "cdcf78e1-4984-4773-8c65-5e0f44e6138f"
      },
      "execution_count": 267,
      "outputs": [
        {
          "output_type": "execute_result",
          "data": {
            "text/plain": [
              "                                                   text         label  target\n",
              "0     বৌদির দুধ দেকে তো আমার ই চোখ ঠিক ছিলো না - পোল...      Personal       0\n",
              "1     এই সরকার কে যারা নির্লজ্জের মত সাপোর্ট দিয়েছে ...     Political       1\n",
              "2     পিলখানা হত্যাকান্ড বাংলাদেশের প্রতিরক্ষা ব্যবস...  Geopolitical       3\n",
              "3     ভারতের অর্থনীতি নিয়ে আপনাদের ভাবতে হবে না। ভা...  Geopolitical       3\n",
              "4               খানকির পুলা মালায়নদের মেরে সাফা করে ফেল      Personal       0\n",
              "...                                                 ...           ...     ...\n",
              "5693  জুতা যতই দামি হোক তার স্থান পায়ে তার স্থান কখ...      Personal       0\n",
              "5694  আমাদের দেশ ছোট বলে ভারতের চেয়ে পিছিয়ে, না হয়...  Geopolitical       3\n",
              "5695  হিন্দুদের মধ্যে এগুলো হয় এটাই তার বাস্তব প্রমা...      Personal       0\n",
              "5696         দেখলে মনে হয় শালী একটা অস্ট্রেলিয়ান গাভী       Personal       0\n",
              "5697  ভাই আমি আপনার সাথে একমত। আর নারী নেতৃত্বে থাকত...     Political       1\n",
              "\n",
              "[5698 rows x 3 columns]"
            ],
            "text/html": [
              "\n",
              "  <div id=\"df-8b48be42-c014-4bfa-baf1-fc3d3c75529e\" class=\"colab-df-container\">\n",
              "    <div>\n",
              "<style scoped>\n",
              "    .dataframe tbody tr th:only-of-type {\n",
              "        vertical-align: middle;\n",
              "    }\n",
              "\n",
              "    .dataframe tbody tr th {\n",
              "        vertical-align: top;\n",
              "    }\n",
              "\n",
              "    .dataframe thead th {\n",
              "        text-align: right;\n",
              "    }\n",
              "</style>\n",
              "<table border=\"1\" class=\"dataframe\">\n",
              "  <thead>\n",
              "    <tr style=\"text-align: right;\">\n",
              "      <th></th>\n",
              "      <th>text</th>\n",
              "      <th>label</th>\n",
              "      <th>target</th>\n",
              "    </tr>\n",
              "  </thead>\n",
              "  <tbody>\n",
              "    <tr>\n",
              "      <th>0</th>\n",
              "      <td>বৌদির দুধ দেকে তো আমার ই চোখ ঠিক ছিলো না - পোল...</td>\n",
              "      <td>Personal</td>\n",
              "      <td>0</td>\n",
              "    </tr>\n",
              "    <tr>\n",
              "      <th>1</th>\n",
              "      <td>এই সরকার কে যারা নির্লজ্জের মত সাপোর্ট দিয়েছে ...</td>\n",
              "      <td>Political</td>\n",
              "      <td>1</td>\n",
              "    </tr>\n",
              "    <tr>\n",
              "      <th>2</th>\n",
              "      <td>পিলখানা হত্যাকান্ড বাংলাদেশের প্রতিরক্ষা ব্যবস...</td>\n",
              "      <td>Geopolitical</td>\n",
              "      <td>3</td>\n",
              "    </tr>\n",
              "    <tr>\n",
              "      <th>3</th>\n",
              "      <td>ভারতের অর্থনীতি নিয়ে আপনাদের ভাবতে হবে না। ভা...</td>\n",
              "      <td>Geopolitical</td>\n",
              "      <td>3</td>\n",
              "    </tr>\n",
              "    <tr>\n",
              "      <th>4</th>\n",
              "      <td>খানকির পুলা মালায়নদের মেরে সাফা করে ফেল</td>\n",
              "      <td>Personal</td>\n",
              "      <td>0</td>\n",
              "    </tr>\n",
              "    <tr>\n",
              "      <th>...</th>\n",
              "      <td>...</td>\n",
              "      <td>...</td>\n",
              "      <td>...</td>\n",
              "    </tr>\n",
              "    <tr>\n",
              "      <th>5693</th>\n",
              "      <td>জুতা যতই দামি হোক তার স্থান পায়ে তার স্থান কখ...</td>\n",
              "      <td>Personal</td>\n",
              "      <td>0</td>\n",
              "    </tr>\n",
              "    <tr>\n",
              "      <th>5694</th>\n",
              "      <td>আমাদের দেশ ছোট বলে ভারতের চেয়ে পিছিয়ে, না হয়...</td>\n",
              "      <td>Geopolitical</td>\n",
              "      <td>3</td>\n",
              "    </tr>\n",
              "    <tr>\n",
              "      <th>5695</th>\n",
              "      <td>হিন্দুদের মধ্যে এগুলো হয় এটাই তার বাস্তব প্রমা...</td>\n",
              "      <td>Personal</td>\n",
              "      <td>0</td>\n",
              "    </tr>\n",
              "    <tr>\n",
              "      <th>5696</th>\n",
              "      <td>দেখলে মনে হয় শালী একটা অস্ট্রেলিয়ান গাভী</td>\n",
              "      <td>Personal</td>\n",
              "      <td>0</td>\n",
              "    </tr>\n",
              "    <tr>\n",
              "      <th>5697</th>\n",
              "      <td>ভাই আমি আপনার সাথে একমত। আর নারী নেতৃত্বে থাকত...</td>\n",
              "      <td>Political</td>\n",
              "      <td>1</td>\n",
              "    </tr>\n",
              "  </tbody>\n",
              "</table>\n",
              "<p>5698 rows × 3 columns</p>\n",
              "</div>\n",
              "    <div class=\"colab-df-buttons\">\n",
              "\n",
              "  <div class=\"colab-df-container\">\n",
              "    <button class=\"colab-df-convert\" onclick=\"convertToInteractive('df-8b48be42-c014-4bfa-baf1-fc3d3c75529e')\"\n",
              "            title=\"Convert this dataframe to an interactive table.\"\n",
              "            style=\"display:none;\">\n",
              "\n",
              "  <svg xmlns=\"http://www.w3.org/2000/svg\" height=\"24px\" viewBox=\"0 -960 960 960\">\n",
              "    <path d=\"M120-120v-720h720v720H120Zm60-500h600v-160H180v160Zm220 220h160v-160H400v160Zm0 220h160v-160H400v160ZM180-400h160v-160H180v160Zm440 0h160v-160H620v160ZM180-180h160v-160H180v160Zm440 0h160v-160H620v160Z\"/>\n",
              "  </svg>\n",
              "    </button>\n",
              "\n",
              "  <style>\n",
              "    .colab-df-container {\n",
              "      display:flex;\n",
              "      gap: 12px;\n",
              "    }\n",
              "\n",
              "    .colab-df-convert {\n",
              "      background-color: #E8F0FE;\n",
              "      border: none;\n",
              "      border-radius: 50%;\n",
              "      cursor: pointer;\n",
              "      display: none;\n",
              "      fill: #1967D2;\n",
              "      height: 32px;\n",
              "      padding: 0 0 0 0;\n",
              "      width: 32px;\n",
              "    }\n",
              "\n",
              "    .colab-df-convert:hover {\n",
              "      background-color: #E2EBFA;\n",
              "      box-shadow: 0px 1px 2px rgba(60, 64, 67, 0.3), 0px 1px 3px 1px rgba(60, 64, 67, 0.15);\n",
              "      fill: #174EA6;\n",
              "    }\n",
              "\n",
              "    .colab-df-buttons div {\n",
              "      margin-bottom: 4px;\n",
              "    }\n",
              "\n",
              "    [theme=dark] .colab-df-convert {\n",
              "      background-color: #3B4455;\n",
              "      fill: #D2E3FC;\n",
              "    }\n",
              "\n",
              "    [theme=dark] .colab-df-convert:hover {\n",
              "      background-color: #434B5C;\n",
              "      box-shadow: 0px 1px 3px 1px rgba(0, 0, 0, 0.15);\n",
              "      filter: drop-shadow(0px 1px 2px rgba(0, 0, 0, 0.3));\n",
              "      fill: #FFFFFF;\n",
              "    }\n",
              "  </style>\n",
              "\n",
              "    <script>\n",
              "      const buttonEl =\n",
              "        document.querySelector('#df-8b48be42-c014-4bfa-baf1-fc3d3c75529e button.colab-df-convert');\n",
              "      buttonEl.style.display =\n",
              "        google.colab.kernel.accessAllowed ? 'block' : 'none';\n",
              "\n",
              "      async function convertToInteractive(key) {\n",
              "        const element = document.querySelector('#df-8b48be42-c014-4bfa-baf1-fc3d3c75529e');\n",
              "        const dataTable =\n",
              "          await google.colab.kernel.invokeFunction('convertToInteractive',\n",
              "                                                    [key], {});\n",
              "        if (!dataTable) return;\n",
              "\n",
              "        const docLinkHtml = 'Like what you see? Visit the ' +\n",
              "          '<a target=\"_blank\" href=https://colab.research.google.com/notebooks/data_table.ipynb>data table notebook</a>'\n",
              "          + ' to learn more about interactive tables.';\n",
              "        element.innerHTML = '';\n",
              "        dataTable['output_type'] = 'display_data';\n",
              "        await google.colab.output.renderOutput(dataTable, element);\n",
              "        const docLink = document.createElement('div');\n",
              "        docLink.innerHTML = docLinkHtml;\n",
              "        element.appendChild(docLink);\n",
              "      }\n",
              "    </script>\n",
              "  </div>\n",
              "\n",
              "\n",
              "<div id=\"df-8155c5c5-8662-496a-97dd-b2993d734737\">\n",
              "  <button class=\"colab-df-quickchart\" onclick=\"quickchart('df-8155c5c5-8662-496a-97dd-b2993d734737')\"\n",
              "            title=\"Suggest charts\"\n",
              "            style=\"display:none;\">\n",
              "\n",
              "<svg xmlns=\"http://www.w3.org/2000/svg\" height=\"24px\"viewBox=\"0 0 24 24\"\n",
              "     width=\"24px\">\n",
              "    <g>\n",
              "        <path d=\"M19 3H5c-1.1 0-2 .9-2 2v14c0 1.1.9 2 2 2h14c1.1 0 2-.9 2-2V5c0-1.1-.9-2-2-2zM9 17H7v-7h2v7zm4 0h-2V7h2v10zm4 0h-2v-4h2v4z\"/>\n",
              "    </g>\n",
              "</svg>\n",
              "  </button>\n",
              "\n",
              "<style>\n",
              "  .colab-df-quickchart {\n",
              "      --bg-color: #E8F0FE;\n",
              "      --fill-color: #1967D2;\n",
              "      --hover-bg-color: #E2EBFA;\n",
              "      --hover-fill-color: #174EA6;\n",
              "      --disabled-fill-color: #AAA;\n",
              "      --disabled-bg-color: #DDD;\n",
              "  }\n",
              "\n",
              "  [theme=dark] .colab-df-quickchart {\n",
              "      --bg-color: #3B4455;\n",
              "      --fill-color: #D2E3FC;\n",
              "      --hover-bg-color: #434B5C;\n",
              "      --hover-fill-color: #FFFFFF;\n",
              "      --disabled-bg-color: #3B4455;\n",
              "      --disabled-fill-color: #666;\n",
              "  }\n",
              "\n",
              "  .colab-df-quickchart {\n",
              "    background-color: var(--bg-color);\n",
              "    border: none;\n",
              "    border-radius: 50%;\n",
              "    cursor: pointer;\n",
              "    display: none;\n",
              "    fill: var(--fill-color);\n",
              "    height: 32px;\n",
              "    padding: 0;\n",
              "    width: 32px;\n",
              "  }\n",
              "\n",
              "  .colab-df-quickchart:hover {\n",
              "    background-color: var(--hover-bg-color);\n",
              "    box-shadow: 0 1px 2px rgba(60, 64, 67, 0.3), 0 1px 3px 1px rgba(60, 64, 67, 0.15);\n",
              "    fill: var(--button-hover-fill-color);\n",
              "  }\n",
              "\n",
              "  .colab-df-quickchart-complete:disabled,\n",
              "  .colab-df-quickchart-complete:disabled:hover {\n",
              "    background-color: var(--disabled-bg-color);\n",
              "    fill: var(--disabled-fill-color);\n",
              "    box-shadow: none;\n",
              "  }\n",
              "\n",
              "  .colab-df-spinner {\n",
              "    border: 2px solid var(--fill-color);\n",
              "    border-color: transparent;\n",
              "    border-bottom-color: var(--fill-color);\n",
              "    animation:\n",
              "      spin 1s steps(1) infinite;\n",
              "  }\n",
              "\n",
              "  @keyframes spin {\n",
              "    0% {\n",
              "      border-color: transparent;\n",
              "      border-bottom-color: var(--fill-color);\n",
              "      border-left-color: var(--fill-color);\n",
              "    }\n",
              "    20% {\n",
              "      border-color: transparent;\n",
              "      border-left-color: var(--fill-color);\n",
              "      border-top-color: var(--fill-color);\n",
              "    }\n",
              "    30% {\n",
              "      border-color: transparent;\n",
              "      border-left-color: var(--fill-color);\n",
              "      border-top-color: var(--fill-color);\n",
              "      border-right-color: var(--fill-color);\n",
              "    }\n",
              "    40% {\n",
              "      border-color: transparent;\n",
              "      border-right-color: var(--fill-color);\n",
              "      border-top-color: var(--fill-color);\n",
              "    }\n",
              "    60% {\n",
              "      border-color: transparent;\n",
              "      border-right-color: var(--fill-color);\n",
              "    }\n",
              "    80% {\n",
              "      border-color: transparent;\n",
              "      border-right-color: var(--fill-color);\n",
              "      border-bottom-color: var(--fill-color);\n",
              "    }\n",
              "    90% {\n",
              "      border-color: transparent;\n",
              "      border-bottom-color: var(--fill-color);\n",
              "    }\n",
              "  }\n",
              "</style>\n",
              "\n",
              "  <script>\n",
              "    async function quickchart(key) {\n",
              "      const quickchartButtonEl =\n",
              "        document.querySelector('#' + key + ' button');\n",
              "      quickchartButtonEl.disabled = true;  // To prevent multiple clicks.\n",
              "      quickchartButtonEl.classList.add('colab-df-spinner');\n",
              "      try {\n",
              "        const charts = await google.colab.kernel.invokeFunction(\n",
              "            'suggestCharts', [key], {});\n",
              "      } catch (error) {\n",
              "        console.error('Error during call to suggestCharts:', error);\n",
              "      }\n",
              "      quickchartButtonEl.classList.remove('colab-df-spinner');\n",
              "      quickchartButtonEl.classList.add('colab-df-quickchart-complete');\n",
              "    }\n",
              "    (() => {\n",
              "      let quickchartButtonEl =\n",
              "        document.querySelector('#df-8155c5c5-8662-496a-97dd-b2993d734737 button');\n",
              "      quickchartButtonEl.style.display =\n",
              "        google.colab.kernel.accessAllowed ? 'block' : 'none';\n",
              "    })();\n",
              "  </script>\n",
              "</div>\n",
              "\n",
              "  <div id=\"id_18c40a4e-37c6-44e3-b9ba-8a6ec91a8df7\">\n",
              "    <style>\n",
              "      .colab-df-generate {\n",
              "        background-color: #E8F0FE;\n",
              "        border: none;\n",
              "        border-radius: 50%;\n",
              "        cursor: pointer;\n",
              "        display: none;\n",
              "        fill: #1967D2;\n",
              "        height: 32px;\n",
              "        padding: 0 0 0 0;\n",
              "        width: 32px;\n",
              "      }\n",
              "\n",
              "      .colab-df-generate:hover {\n",
              "        background-color: #E2EBFA;\n",
              "        box-shadow: 0px 1px 2px rgba(60, 64, 67, 0.3), 0px 1px 3px 1px rgba(60, 64, 67, 0.15);\n",
              "        fill: #174EA6;\n",
              "      }\n",
              "\n",
              "      [theme=dark] .colab-df-generate {\n",
              "        background-color: #3B4455;\n",
              "        fill: #D2E3FC;\n",
              "      }\n",
              "\n",
              "      [theme=dark] .colab-df-generate:hover {\n",
              "        background-color: #434B5C;\n",
              "        box-shadow: 0px 1px 3px 1px rgba(0, 0, 0, 0.15);\n",
              "        filter: drop-shadow(0px 1px 2px rgba(0, 0, 0, 0.3));\n",
              "        fill: #FFFFFF;\n",
              "      }\n",
              "    </style>\n",
              "    <button class=\"colab-df-generate\" onclick=\"generateWithVariable('df')\"\n",
              "            title=\"Generate code using this dataframe.\"\n",
              "            style=\"display:none;\">\n",
              "\n",
              "  <svg xmlns=\"http://www.w3.org/2000/svg\" height=\"24px\"viewBox=\"0 0 24 24\"\n",
              "       width=\"24px\">\n",
              "    <path d=\"M7,19H8.4L18.45,9,17,7.55,7,17.6ZM5,21V16.75L18.45,3.32a2,2,0,0,1,2.83,0l1.4,1.43a1.91,1.91,0,0,1,.58,1.4,1.91,1.91,0,0,1-.58,1.4L9.25,21ZM18.45,9,17,7.55Zm-12,3A5.31,5.31,0,0,0,4.9,8.1,5.31,5.31,0,0,0,1,6.5,5.31,5.31,0,0,0,4.9,4.9,5.31,5.31,0,0,0,6.5,1,5.31,5.31,0,0,0,8.1,4.9,5.31,5.31,0,0,0,12,6.5,5.46,5.46,0,0,0,6.5,12Z\"/>\n",
              "  </svg>\n",
              "    </button>\n",
              "    <script>\n",
              "      (() => {\n",
              "      const buttonEl =\n",
              "        document.querySelector('#id_18c40a4e-37c6-44e3-b9ba-8a6ec91a8df7 button.colab-df-generate');\n",
              "      buttonEl.style.display =\n",
              "        google.colab.kernel.accessAllowed ? 'block' : 'none';\n",
              "\n",
              "      buttonEl.onclick = () => {\n",
              "        google.colab.notebook.generateWithVariable('df');\n",
              "      }\n",
              "      })();\n",
              "    </script>\n",
              "  </div>\n",
              "\n",
              "    </div>\n",
              "  </div>\n"
            ],
            "application/vnd.google.colaboratory.intrinsic+json": {
              "type": "dataframe",
              "variable_name": "df",
              "summary": "{\n  \"name\": \"df\",\n  \"rows\": 5698,\n  \"fields\": [\n    {\n      \"column\": \"text\",\n      \"properties\": {\n        \"dtype\": \"string\",\n        \"num_unique_values\": 5698,\n        \"samples\": [\n          \"\\u099a\\u09cb\\u09a6\\u09a8\\u09be \\u098f\\u0987\\u099f\\u09be \\u09ac\\u09c1\\u099d\\u09bf \\u09ab\\u09cd\\u09af\\u09be\\u09ae\\u09bf\\u09b2\\u09bf \\u09b6\\u09cb\\u0993 \\u09b0\\u09c7..\",\n          \"\\u09aa\\u09be\\u09af\\u09bc\\u0996\\u09be\\u09a8\\u09be \\u09a6\\u09bf\\u09af\\u09bc\\u09c7 \\u09a6\\u09bf\\u09ac\\u09cb \\u09b0\\u09be\\u09a8\\u09c1 \\u09ae\\u09a8\\u09cd\\u09a1\\u09b2\\u09c7\\u09b0 \\u09ae\\u09c1\\u0996\\u09c7 \",\n          \"\\u098f\\u0987\\u09b8\\u09ac \\u099a\\u09cb\\u09a6\\u09ae\\u09be\\u09b0\\u09be\\u09a8\\u09bf\\u09b0 \\u09aa\\u09cb\\u09b2\\u09be\\u09b0\\u09be \\u098f\\u09a4 \\u09aa\\u099a\\u09be\\u09a8\\u09bf \\u0996\\u09be\\u09df \\u09a4\\u09be\\u0993 \\u09b6\\u09bf\\u0995\\u09cd\\u09b7\\u09be \\u09b9\\u09df \\u09a8\\u09be!\"\n        ],\n        \"semantic_type\": \"\",\n        \"description\": \"\"\n      }\n    },\n    {\n      \"column\": \"label\",\n      \"properties\": {\n        \"dtype\": \"category\",\n        \"num_unique_values\": 4,\n        \"samples\": [\n          \"Political\",\n          \"Religious\",\n          \"Personal\"\n        ],\n        \"semantic_type\": \"\",\n        \"description\": \"\"\n      }\n    },\n    {\n      \"column\": \"target\",\n      \"properties\": {\n        \"dtype\": \"number\",\n        \"std\": 1,\n        \"min\": 0,\n        \"max\": 3,\n        \"num_unique_values\": 4,\n        \"samples\": [\n          1,\n          2,\n          0\n        ],\n        \"semantic_type\": \"\",\n        \"description\": \"\"\n      }\n    }\n  ]\n}"
            }
          },
          "metadata": {},
          "execution_count": 267
        }
      ]
    },
    {
      "cell_type": "code",
      "source": [
        "punct=string.punctuation"
      ],
      "metadata": {
        "id": "AQOu8BM9H_gx"
      },
      "execution_count": 268,
      "outputs": []
    },
    {
      "cell_type": "code",
      "source": [
        "def remove_punct(x):\n",
        "    if isinstance(x, str):  # Check if x is a string\n",
        "        return x.translate(str.maketrans(\"\", \"\", punct))\n",
        "    else:\n",
        "        return x  # Return the original value if it's not a string\n",
        "\n",
        "df['text'] = df['text'].apply(lambda x: remove_punct(x))"
      ],
      "metadata": {
        "id": "n8qeUkDOPgA3"
      },
      "execution_count": 269,
      "outputs": []
    },
    {
      "cell_type": "markdown",
      "source": [
        "### Applying Text-Normalizer"
      ],
      "metadata": {
        "id": "cBS6AO2XlJPU"
      }
    },
    {
      "cell_type": "code",
      "source": [
        "#Before\n",
        "print(df['text'][203])"
      ],
      "metadata": {
        "id": "rxtODBlSiPV-",
        "outputId": "20f274df-b50a-45e1-d6f6-3cdd31df7a60",
        "colab": {
          "base_uri": "https://localhost:8080/"
        }
      },
      "execution_count": 270,
      "outputs": [
        {
          "output_type": "stream",
          "name": "stdout",
          "text": [
            "ওরে বাপরে জান নিয়া পালাই এমনিতেই ৫০ ভোটের অধিকার কেড়ে নিয়েছে আওয়ামীলীগ \n"
          ]
        }
      ]
    },
    {
      "cell_type": "code",
      "source": [
        "import pybangla"
      ],
      "metadata": {
        "collapsed": true,
        "id": "u0MWx1CDPnm7"
      },
      "execution_count": 271,
      "outputs": []
    },
    {
      "cell_type": "code",
      "source": [
        "nrml = pybangla.Normalizer()\n",
        "df['text'] = df['text'].apply(nrml.text_normalizer)"
      ],
      "metadata": {
        "id": "pg0VXFt1iSCX"
      },
      "execution_count": 272,
      "outputs": []
    },
    {
      "cell_type": "code",
      "source": [
        "#After\n",
        "print(df['text'][203])"
      ],
      "metadata": {
        "id": "hiFfPc-bkMfF",
        "outputId": "6da1889c-6ee5-45d2-a8b4-f2e9a15f4384",
        "colab": {
          "base_uri": "https://localhost:8080/"
        }
      },
      "execution_count": 273,
      "outputs": [
        {
          "output_type": "stream",
          "name": "stdout",
          "text": [
            "ওরে বাপরে জান নিয়া পালাই এমনিতেই পঞ্চাশ ভোটের অধিকার কেড়ে নিয়েছে আওয়ামীলীগ\n"
          ]
        }
      ]
    },
    {
      "cell_type": "code",
      "source": [
        "df.isna().sum()"
      ],
      "metadata": {
        "colab": {
          "base_uri": "https://localhost:8080/",
          "height": 178
        },
        "id": "pkLjha1iS88h",
        "outputId": "cff7a05d-7945-426c-a684-5eee42e552b4"
      },
      "execution_count": 274,
      "outputs": [
        {
          "output_type": "execute_result",
          "data": {
            "text/plain": [
              "text      0\n",
              "label     0\n",
              "target    0\n",
              "dtype: int64"
            ],
            "text/html": [
              "<div>\n",
              "<style scoped>\n",
              "    .dataframe tbody tr th:only-of-type {\n",
              "        vertical-align: middle;\n",
              "    }\n",
              "\n",
              "    .dataframe tbody tr th {\n",
              "        vertical-align: top;\n",
              "    }\n",
              "\n",
              "    .dataframe thead th {\n",
              "        text-align: right;\n",
              "    }\n",
              "</style>\n",
              "<table border=\"1\" class=\"dataframe\">\n",
              "  <thead>\n",
              "    <tr style=\"text-align: right;\">\n",
              "      <th></th>\n",
              "      <th>0</th>\n",
              "    </tr>\n",
              "  </thead>\n",
              "  <tbody>\n",
              "    <tr>\n",
              "      <th>text</th>\n",
              "      <td>0</td>\n",
              "    </tr>\n",
              "    <tr>\n",
              "      <th>label</th>\n",
              "      <td>0</td>\n",
              "    </tr>\n",
              "    <tr>\n",
              "      <th>target</th>\n",
              "      <td>0</td>\n",
              "    </tr>\n",
              "  </tbody>\n",
              "</table>\n",
              "</div><br><label><b>dtype:</b> int64</label>"
            ]
          },
          "metadata": {},
          "execution_count": 274
        }
      ]
    },
    {
      "cell_type": "code",
      "source": [
        "df = df.fillna(method= 'pad')"
      ],
      "metadata": {
        "id": "Cd7eoSe0ICNx"
      },
      "execution_count": 275,
      "outputs": []
    },
    {
      "cell_type": "code",
      "source": [
        "df.isna().sum()"
      ],
      "metadata": {
        "colab": {
          "base_uri": "https://localhost:8080/",
          "height": 178
        },
        "id": "FxXyBNfSHW9v",
        "outputId": "885f1164-4257-45de-cb74-9679cc248f40"
      },
      "execution_count": 276,
      "outputs": [
        {
          "output_type": "execute_result",
          "data": {
            "text/plain": [
              "text      0\n",
              "label     0\n",
              "target    0\n",
              "dtype: int64"
            ],
            "text/html": [
              "<div>\n",
              "<style scoped>\n",
              "    .dataframe tbody tr th:only-of-type {\n",
              "        vertical-align: middle;\n",
              "    }\n",
              "\n",
              "    .dataframe tbody tr th {\n",
              "        vertical-align: top;\n",
              "    }\n",
              "\n",
              "    .dataframe thead th {\n",
              "        text-align: right;\n",
              "    }\n",
              "</style>\n",
              "<table border=\"1\" class=\"dataframe\">\n",
              "  <thead>\n",
              "    <tr style=\"text-align: right;\">\n",
              "      <th></th>\n",
              "      <th>0</th>\n",
              "    </tr>\n",
              "  </thead>\n",
              "  <tbody>\n",
              "    <tr>\n",
              "      <th>text</th>\n",
              "      <td>0</td>\n",
              "    </tr>\n",
              "    <tr>\n",
              "      <th>label</th>\n",
              "      <td>0</td>\n",
              "    </tr>\n",
              "    <tr>\n",
              "      <th>target</th>\n",
              "      <td>0</td>\n",
              "    </tr>\n",
              "  </tbody>\n",
              "</table>\n",
              "</div><br><label><b>dtype:</b> int64</label>"
            ]
          },
          "metadata": {},
          "execution_count": 276
        }
      ]
    },
    {
      "cell_type": "code",
      "source": [
        "df.info()"
      ],
      "metadata": {
        "colab": {
          "base_uri": "https://localhost:8080/"
        },
        "id": "X2rcoEObTIHR",
        "outputId": "6f60b326-78dd-4900-d5ef-8deb7b3f88be"
      },
      "execution_count": 277,
      "outputs": [
        {
          "output_type": "stream",
          "name": "stdout",
          "text": [
            "<class 'pandas.core.frame.DataFrame'>\n",
            "RangeIndex: 5698 entries, 0 to 5697\n",
            "Data columns (total 3 columns):\n",
            " #   Column  Non-Null Count  Dtype \n",
            "---  ------  --------------  ----- \n",
            " 0   text    5698 non-null   object\n",
            " 1   label   5698 non-null   object\n",
            " 2   target  5698 non-null   int64 \n",
            "dtypes: int64(1), object(2)\n",
            "memory usage: 133.7+ KB\n"
          ]
        }
      ]
    },
    {
      "cell_type": "code",
      "source": [
        "nltk.download('stopwords')\n",
        "from nltk.corpus import stopwords\n",
        "\",\".join(stopwords.words('bengali'))\n",
        "stop_words=set(stopwords.words('bengali'))"
      ],
      "metadata": {
        "colab": {
          "base_uri": "https://localhost:8080/"
        },
        "id": "sGrum7j1Xw2J",
        "outputId": "57539da4-6d1f-49ff-fe23-420aa45732df"
      },
      "execution_count": 278,
      "outputs": [
        {
          "output_type": "stream",
          "name": "stderr",
          "text": [
            "[nltk_data] Downloading package stopwords to /root/nltk_data...\n",
            "[nltk_data]   Package stopwords is already up-to-date!\n"
          ]
        }
      ]
    },
    {
      "cell_type": "code",
      "source": [
        "\" ,\".join(stopwords.words('bengali'))"
      ],
      "metadata": {
        "colab": {
          "base_uri": "https://localhost:8080/",
          "height": 243
        },
        "id": "2jqoFC1nYCfl",
        "outputId": "105323d5-2727-479f-a450-138d3fa884fe"
      },
      "execution_count": 279,
      "outputs": [
        {
          "output_type": "execute_result",
          "data": {
            "text/plain": [
              "'অতএব ,অথচ ,অথবা ,অনুযায়ী ,অনেক ,অনেকে ,অনেকেই ,অন্তত ,অন্য ,অবধি ,অবশ্য ,অর্থাত ,আই ,আগামী ,আগে ,আগেই ,আছে ,আজ ,আদ্যভাগে ,আপনার ,আপনি ,আবার ,আমরা ,আমাকে ,আমাদের ,আমার ,আমি ,আর ,আরও ,ই ,ইত্যাদি ,ইহা ,উচিত ,উত্তর ,উনি ,উপর ,উপরে ,এ ,এঁদের ,এঁরা ,এই ,একই ,একটি ,একবার ,একে ,এক্ ,এখন ,এখনও ,এখানে ,এখানেই ,এটা ,এটাই ,এটি ,এত ,এতটাই ,এতে ,এদের ,এব ,এবং ,এবার ,এমন ,এমনকী ,এমনি ,এর ,এরা ,এল ,এস ,এসে ,ঐ ,ও ,ওঁদের ,ওঁর ,ওঁরা ,ওই ,ওকে ,ওখানে ,ওদের ,ওর ,ওরা ,কখনও ,কত ,কবে ,কমনে ,কয়েক ,কয়েকটি ,করছে ,করছেন ,করতে ,করবে ,করবেন ,করলে ,করলেন ,করা ,করাই ,করায় ,করার ,করি ,করিতে ,করিয়া ,করিয়ে ,করে ,করেই ,করেছিলেন ,করেছে ,করেছেন ,করেন ,কাউকে ,কাছ ,কাছে ,কাজ ,কাজে ,কারও ,কারণ ,কি ,কিংবা ,কিছু ,কিছুই ,কিন্তু ,কী ,কে ,কেউ ,কেউই ,কেখা ,কেন ,কোটি ,কোন ,কোনও ,কোনো ,ক্ষেত্রে ,কয়েক ,খুব ,গিয়ে ,গিয়েছে ,গিয়ে ,গুলি ,গেছে ,গেল ,গেলে ,গোটা ,চলে ,চান ,চায় ,চার ,চালু ,চেয়ে ,চেষ্টা ,ছাড়া ,ছাড়াও ,ছিল ,ছিলেন ,জন ,জনকে ,জনের ,জন্য ,জন্যওজে ,জানতে ,জানা ,জানানো ,জানায় ,জানিয়ে ,জানিয়েছে ,জে ,জ্নজন ,টি ,ঠিক ,তখন ,তত ,তথা ,তবু ,তবে ,তা ,তাঁকে ,তাঁদের ,তাঁর ,তাঁরা ,তাঁাহারা ,তাই ,তাও ,তাকে ,তাতে ,তাদের ,তার ,তারপর ,তারা ,তারৈ ,তাহলে ,তাহা ,তাহাতে ,তাহার ,তিনঐ ,তিনি ,তিনিও ,তুমি ,তুলে ,তেমন ,তো ,তোমার ,থাকবে ,থাকবেন ,থাকা ,থাকায় ,থাকে ,থাকেন ,থেকে ,থেকেই ,থেকেও ,দিকে ,দিতে ,দিন ,দিয়ে ,দিয়েছে ,দিয়েছেন ,দিলেন ,দু ,দুই ,দুটি ,দুটো ,দেওয়া ,দেওয়ার ,দেওয়া ,দেখতে ,দেখা ,দেখে ,দেন ,দেয় ,দ্বারা ,ধরা ,ধরে ,ধামার ,নতুন ,নয় ,না ,নাই ,নাকি ,নাগাদ ,নানা ,নিজে ,নিজেই ,নিজেদের ,নিজের ,নিতে ,নিয়ে ,নিয়ে ,নেই ,নেওয়া ,নেওয়ার ,নেওয়া ,নয় ,পক্ষে ,পর ,পরে ,পরেই ,পরেও ,পর্যন্ত ,পাওয়া ,পাচ ,পারি ,পারে ,পারেন ,পি ,পেয়ে ,পেয়্র্ ,প্রতি ,প্রথম ,প্রভৃতি ,প্রযন্ত ,প্রাথমিক ,প্রায় ,প্রায় ,ফলে ,ফিরে ,ফের ,বক্তব্য ,বদলে ,বন ,বরং ,বলতে ,বলল ,বললেন ,বলা ,বলে ,বলেছেন ,বলেন ,বসে ,বহু ,বা ,বাদে ,বার ,বি ,বিনা ,বিভিন্ন ,বিশেষ ,বিষয়টি ,বেশ ,বেশি ,ব্যবহার ,ব্যাপারে ,ভাবে ,ভাবেই ,মতো ,মতোই ,মধ্যভাগে ,মধ্যে ,মধ্যেই ,মধ্যেও ,মনে ,মাত্র ,মাধ্যমে ,মোট ,মোটেই ,যখন ,যত ,যতটা ,যথেষ্ট ,যদি ,যদিও ,যা ,যাঁর ,যাঁরা ,যাওয়া ,যাওয়ার ,যাওয়া ,যাকে ,যাচ্ছে ,যাতে ,যাদের ,যান ,যাবে ,যায় ,যার ,যারা ,যিনি ,যে ,যেখানে ,যেতে ,যেন ,যেমন ,র ,রকম ,রয়েছে ,রাখা ,রেখে ,লক্ষ ,শুধু ,শুরু ,সঙ্গে ,সঙ্গেও ,সব ,সবার ,সমস্ত ,সম্প্রতি ,সহ ,সহিত ,সাধারণ ,সামনে ,সি ,সুতরাং ,সে ,সেই ,সেখান ,সেখানে ,সেটা ,সেটাই ,সেটাও ,সেটি ,স্পষ্ট ,স্বয়ং ,হইতে ,হইবে ,হইয়া ,হওয়া ,হওয়ায় ,হওয়ার ,হচ্ছে ,হত ,হতে ,হতেই ,হন ,হবে ,হবেন ,হয় ,হয়তো ,হয়নি ,হয়ে ,হয়েই ,হয়েছিল ,হয়েছে ,হয়েছেন ,হল ,হলে ,হলেই ,হলেও ,হলো ,হাজার ,হিসাবে ,হৈলে ,হোক ,হয়'"
            ],
            "application/vnd.google.colaboratory.intrinsic+json": {
              "type": "string"
            }
          },
          "metadata": {},
          "execution_count": 279
        }
      ]
    },
    {
      "cell_type": "code",
      "source": [
        "def remove_stop(x):\n",
        "  return \" \".join([word for word in str(x).split()if word not in stop_words])\n",
        "df['text']=df['text'].apply(lambda x : remove_stop(x))"
      ],
      "metadata": {
        "id": "NI0fIXGeYEtU"
      },
      "execution_count": 280,
      "outputs": []
    },
    {
      "cell_type": "code",
      "source": [
        "df"
      ],
      "metadata": {
        "colab": {
          "base_uri": "https://localhost:8080/",
          "height": 423
        },
        "id": "KSkgYDh1YTAP",
        "outputId": "12c331dc-5577-4c9a-86e7-058bc486aa8f"
      },
      "execution_count": 281,
      "outputs": [
        {
          "output_type": "execute_result",
          "data": {
            "text/plain": [
              "                                                   text         label  target\n",
              "0            বৌদির দুধ দেকে চোখ ছিলো পোলাপান চোখ কিভাবে      Personal       0\n",
              "1     সরকার নির্লজ্জের মত সাপোর্ট দিয়েছে বছরের বছর আ...     Political       1\n",
              "2     পিলখানা হত্যাকান্ড বাংলাদেশের প্রতিরক্ষা ব্যবস...  Geopolitical       3\n",
              "3     ভারতের অর্থনীতি আপনাদের ভাবতে না। ভারতের অর্থন...  Geopolitical       3\n",
              "4                   খানকির পুলা মালায়নদের মেরে সাফা ফেল      Personal       0\n",
              "...                                                 ...           ...     ...\n",
              "5693  জুতা যতই দামি স্থান পায়ে স্থান কখনো মাথায় হয...      Personal       0\n",
              "5694  দেশ ছোট ভারতের পিছিয়ে মুতার জন্যও তোদের সাথে স...  Geopolitical       3\n",
              "5695           হিন্দুদের এগুলো বাস্তব প্রমাণ সবাই মতামত      Personal       0\n",
              "5696                 দেখলে শালী একটা অস্ট্রেলিয়ান গাভী      Personal       0\n",
              "5697  ভাই সাথে একমত। নারী নেতৃত্বে থাকতে চাই না। ভিপ...     Political       1\n",
              "\n",
              "[5698 rows x 3 columns]"
            ],
            "text/html": [
              "\n",
              "  <div id=\"df-e3def96e-6c53-4bcb-a2d6-0ca66af94ab7\" class=\"colab-df-container\">\n",
              "    <div>\n",
              "<style scoped>\n",
              "    .dataframe tbody tr th:only-of-type {\n",
              "        vertical-align: middle;\n",
              "    }\n",
              "\n",
              "    .dataframe tbody tr th {\n",
              "        vertical-align: top;\n",
              "    }\n",
              "\n",
              "    .dataframe thead th {\n",
              "        text-align: right;\n",
              "    }\n",
              "</style>\n",
              "<table border=\"1\" class=\"dataframe\">\n",
              "  <thead>\n",
              "    <tr style=\"text-align: right;\">\n",
              "      <th></th>\n",
              "      <th>text</th>\n",
              "      <th>label</th>\n",
              "      <th>target</th>\n",
              "    </tr>\n",
              "  </thead>\n",
              "  <tbody>\n",
              "    <tr>\n",
              "      <th>0</th>\n",
              "      <td>বৌদির দুধ দেকে চোখ ছিলো পোলাপান চোখ কিভাবে</td>\n",
              "      <td>Personal</td>\n",
              "      <td>0</td>\n",
              "    </tr>\n",
              "    <tr>\n",
              "      <th>1</th>\n",
              "      <td>সরকার নির্লজ্জের মত সাপোর্ট দিয়েছে বছরের বছর আ...</td>\n",
              "      <td>Political</td>\n",
              "      <td>1</td>\n",
              "    </tr>\n",
              "    <tr>\n",
              "      <th>2</th>\n",
              "      <td>পিলখানা হত্যাকান্ড বাংলাদেশের প্রতিরক্ষা ব্যবস...</td>\n",
              "      <td>Geopolitical</td>\n",
              "      <td>3</td>\n",
              "    </tr>\n",
              "    <tr>\n",
              "      <th>3</th>\n",
              "      <td>ভারতের অর্থনীতি আপনাদের ভাবতে না। ভারতের অর্থন...</td>\n",
              "      <td>Geopolitical</td>\n",
              "      <td>3</td>\n",
              "    </tr>\n",
              "    <tr>\n",
              "      <th>4</th>\n",
              "      <td>খানকির পুলা মালায়নদের মেরে সাফা ফেল</td>\n",
              "      <td>Personal</td>\n",
              "      <td>0</td>\n",
              "    </tr>\n",
              "    <tr>\n",
              "      <th>...</th>\n",
              "      <td>...</td>\n",
              "      <td>...</td>\n",
              "      <td>...</td>\n",
              "    </tr>\n",
              "    <tr>\n",
              "      <th>5693</th>\n",
              "      <td>জুতা যতই দামি স্থান পায়ে স্থান কখনো মাথায় হয...</td>\n",
              "      <td>Personal</td>\n",
              "      <td>0</td>\n",
              "    </tr>\n",
              "    <tr>\n",
              "      <th>5694</th>\n",
              "      <td>দেশ ছোট ভারতের পিছিয়ে মুতার জন্যও তোদের সাথে স...</td>\n",
              "      <td>Geopolitical</td>\n",
              "      <td>3</td>\n",
              "    </tr>\n",
              "    <tr>\n",
              "      <th>5695</th>\n",
              "      <td>হিন্দুদের এগুলো বাস্তব প্রমাণ সবাই মতামত</td>\n",
              "      <td>Personal</td>\n",
              "      <td>0</td>\n",
              "    </tr>\n",
              "    <tr>\n",
              "      <th>5696</th>\n",
              "      <td>দেখলে শালী একটা অস্ট্রেলিয়ান গাভী</td>\n",
              "      <td>Personal</td>\n",
              "      <td>0</td>\n",
              "    </tr>\n",
              "    <tr>\n",
              "      <th>5697</th>\n",
              "      <td>ভাই সাথে একমত। নারী নেতৃত্বে থাকতে চাই না। ভিপ...</td>\n",
              "      <td>Political</td>\n",
              "      <td>1</td>\n",
              "    </tr>\n",
              "  </tbody>\n",
              "</table>\n",
              "<p>5698 rows × 3 columns</p>\n",
              "</div>\n",
              "    <div class=\"colab-df-buttons\">\n",
              "\n",
              "  <div class=\"colab-df-container\">\n",
              "    <button class=\"colab-df-convert\" onclick=\"convertToInteractive('df-e3def96e-6c53-4bcb-a2d6-0ca66af94ab7')\"\n",
              "            title=\"Convert this dataframe to an interactive table.\"\n",
              "            style=\"display:none;\">\n",
              "\n",
              "  <svg xmlns=\"http://www.w3.org/2000/svg\" height=\"24px\" viewBox=\"0 -960 960 960\">\n",
              "    <path d=\"M120-120v-720h720v720H120Zm60-500h600v-160H180v160Zm220 220h160v-160H400v160Zm0 220h160v-160H400v160ZM180-400h160v-160H180v160Zm440 0h160v-160H620v160ZM180-180h160v-160H180v160Zm440 0h160v-160H620v160Z\"/>\n",
              "  </svg>\n",
              "    </button>\n",
              "\n",
              "  <style>\n",
              "    .colab-df-container {\n",
              "      display:flex;\n",
              "      gap: 12px;\n",
              "    }\n",
              "\n",
              "    .colab-df-convert {\n",
              "      background-color: #E8F0FE;\n",
              "      border: none;\n",
              "      border-radius: 50%;\n",
              "      cursor: pointer;\n",
              "      display: none;\n",
              "      fill: #1967D2;\n",
              "      height: 32px;\n",
              "      padding: 0 0 0 0;\n",
              "      width: 32px;\n",
              "    }\n",
              "\n",
              "    .colab-df-convert:hover {\n",
              "      background-color: #E2EBFA;\n",
              "      box-shadow: 0px 1px 2px rgba(60, 64, 67, 0.3), 0px 1px 3px 1px rgba(60, 64, 67, 0.15);\n",
              "      fill: #174EA6;\n",
              "    }\n",
              "\n",
              "    .colab-df-buttons div {\n",
              "      margin-bottom: 4px;\n",
              "    }\n",
              "\n",
              "    [theme=dark] .colab-df-convert {\n",
              "      background-color: #3B4455;\n",
              "      fill: #D2E3FC;\n",
              "    }\n",
              "\n",
              "    [theme=dark] .colab-df-convert:hover {\n",
              "      background-color: #434B5C;\n",
              "      box-shadow: 0px 1px 3px 1px rgba(0, 0, 0, 0.15);\n",
              "      filter: drop-shadow(0px 1px 2px rgba(0, 0, 0, 0.3));\n",
              "      fill: #FFFFFF;\n",
              "    }\n",
              "  </style>\n",
              "\n",
              "    <script>\n",
              "      const buttonEl =\n",
              "        document.querySelector('#df-e3def96e-6c53-4bcb-a2d6-0ca66af94ab7 button.colab-df-convert');\n",
              "      buttonEl.style.display =\n",
              "        google.colab.kernel.accessAllowed ? 'block' : 'none';\n",
              "\n",
              "      async function convertToInteractive(key) {\n",
              "        const element = document.querySelector('#df-e3def96e-6c53-4bcb-a2d6-0ca66af94ab7');\n",
              "        const dataTable =\n",
              "          await google.colab.kernel.invokeFunction('convertToInteractive',\n",
              "                                                    [key], {});\n",
              "        if (!dataTable) return;\n",
              "\n",
              "        const docLinkHtml = 'Like what you see? Visit the ' +\n",
              "          '<a target=\"_blank\" href=https://colab.research.google.com/notebooks/data_table.ipynb>data table notebook</a>'\n",
              "          + ' to learn more about interactive tables.';\n",
              "        element.innerHTML = '';\n",
              "        dataTable['output_type'] = 'display_data';\n",
              "        await google.colab.output.renderOutput(dataTable, element);\n",
              "        const docLink = document.createElement('div');\n",
              "        docLink.innerHTML = docLinkHtml;\n",
              "        element.appendChild(docLink);\n",
              "      }\n",
              "    </script>\n",
              "  </div>\n",
              "\n",
              "\n",
              "<div id=\"df-6fb2d0ed-16b2-45ac-be66-8c8b0fc63366\">\n",
              "  <button class=\"colab-df-quickchart\" onclick=\"quickchart('df-6fb2d0ed-16b2-45ac-be66-8c8b0fc63366')\"\n",
              "            title=\"Suggest charts\"\n",
              "            style=\"display:none;\">\n",
              "\n",
              "<svg xmlns=\"http://www.w3.org/2000/svg\" height=\"24px\"viewBox=\"0 0 24 24\"\n",
              "     width=\"24px\">\n",
              "    <g>\n",
              "        <path d=\"M19 3H5c-1.1 0-2 .9-2 2v14c0 1.1.9 2 2 2h14c1.1 0 2-.9 2-2V5c0-1.1-.9-2-2-2zM9 17H7v-7h2v7zm4 0h-2V7h2v10zm4 0h-2v-4h2v4z\"/>\n",
              "    </g>\n",
              "</svg>\n",
              "  </button>\n",
              "\n",
              "<style>\n",
              "  .colab-df-quickchart {\n",
              "      --bg-color: #E8F0FE;\n",
              "      --fill-color: #1967D2;\n",
              "      --hover-bg-color: #E2EBFA;\n",
              "      --hover-fill-color: #174EA6;\n",
              "      --disabled-fill-color: #AAA;\n",
              "      --disabled-bg-color: #DDD;\n",
              "  }\n",
              "\n",
              "  [theme=dark] .colab-df-quickchart {\n",
              "      --bg-color: #3B4455;\n",
              "      --fill-color: #D2E3FC;\n",
              "      --hover-bg-color: #434B5C;\n",
              "      --hover-fill-color: #FFFFFF;\n",
              "      --disabled-bg-color: #3B4455;\n",
              "      --disabled-fill-color: #666;\n",
              "  }\n",
              "\n",
              "  .colab-df-quickchart {\n",
              "    background-color: var(--bg-color);\n",
              "    border: none;\n",
              "    border-radius: 50%;\n",
              "    cursor: pointer;\n",
              "    display: none;\n",
              "    fill: var(--fill-color);\n",
              "    height: 32px;\n",
              "    padding: 0;\n",
              "    width: 32px;\n",
              "  }\n",
              "\n",
              "  .colab-df-quickchart:hover {\n",
              "    background-color: var(--hover-bg-color);\n",
              "    box-shadow: 0 1px 2px rgba(60, 64, 67, 0.3), 0 1px 3px 1px rgba(60, 64, 67, 0.15);\n",
              "    fill: var(--button-hover-fill-color);\n",
              "  }\n",
              "\n",
              "  .colab-df-quickchart-complete:disabled,\n",
              "  .colab-df-quickchart-complete:disabled:hover {\n",
              "    background-color: var(--disabled-bg-color);\n",
              "    fill: var(--disabled-fill-color);\n",
              "    box-shadow: none;\n",
              "  }\n",
              "\n",
              "  .colab-df-spinner {\n",
              "    border: 2px solid var(--fill-color);\n",
              "    border-color: transparent;\n",
              "    border-bottom-color: var(--fill-color);\n",
              "    animation:\n",
              "      spin 1s steps(1) infinite;\n",
              "  }\n",
              "\n",
              "  @keyframes spin {\n",
              "    0% {\n",
              "      border-color: transparent;\n",
              "      border-bottom-color: var(--fill-color);\n",
              "      border-left-color: var(--fill-color);\n",
              "    }\n",
              "    20% {\n",
              "      border-color: transparent;\n",
              "      border-left-color: var(--fill-color);\n",
              "      border-top-color: var(--fill-color);\n",
              "    }\n",
              "    30% {\n",
              "      border-color: transparent;\n",
              "      border-left-color: var(--fill-color);\n",
              "      border-top-color: var(--fill-color);\n",
              "      border-right-color: var(--fill-color);\n",
              "    }\n",
              "    40% {\n",
              "      border-color: transparent;\n",
              "      border-right-color: var(--fill-color);\n",
              "      border-top-color: var(--fill-color);\n",
              "    }\n",
              "    60% {\n",
              "      border-color: transparent;\n",
              "      border-right-color: var(--fill-color);\n",
              "    }\n",
              "    80% {\n",
              "      border-color: transparent;\n",
              "      border-right-color: var(--fill-color);\n",
              "      border-bottom-color: var(--fill-color);\n",
              "    }\n",
              "    90% {\n",
              "      border-color: transparent;\n",
              "      border-bottom-color: var(--fill-color);\n",
              "    }\n",
              "  }\n",
              "</style>\n",
              "\n",
              "  <script>\n",
              "    async function quickchart(key) {\n",
              "      const quickchartButtonEl =\n",
              "        document.querySelector('#' + key + ' button');\n",
              "      quickchartButtonEl.disabled = true;  // To prevent multiple clicks.\n",
              "      quickchartButtonEl.classList.add('colab-df-spinner');\n",
              "      try {\n",
              "        const charts = await google.colab.kernel.invokeFunction(\n",
              "            'suggestCharts', [key], {});\n",
              "      } catch (error) {\n",
              "        console.error('Error during call to suggestCharts:', error);\n",
              "      }\n",
              "      quickchartButtonEl.classList.remove('colab-df-spinner');\n",
              "      quickchartButtonEl.classList.add('colab-df-quickchart-complete');\n",
              "    }\n",
              "    (() => {\n",
              "      let quickchartButtonEl =\n",
              "        document.querySelector('#df-6fb2d0ed-16b2-45ac-be66-8c8b0fc63366 button');\n",
              "      quickchartButtonEl.style.display =\n",
              "        google.colab.kernel.accessAllowed ? 'block' : 'none';\n",
              "    })();\n",
              "  </script>\n",
              "</div>\n",
              "\n",
              "  <div id=\"id_8ccd3604-e584-43b6-9a61-e12d2e75212c\">\n",
              "    <style>\n",
              "      .colab-df-generate {\n",
              "        background-color: #E8F0FE;\n",
              "        border: none;\n",
              "        border-radius: 50%;\n",
              "        cursor: pointer;\n",
              "        display: none;\n",
              "        fill: #1967D2;\n",
              "        height: 32px;\n",
              "        padding: 0 0 0 0;\n",
              "        width: 32px;\n",
              "      }\n",
              "\n",
              "      .colab-df-generate:hover {\n",
              "        background-color: #E2EBFA;\n",
              "        box-shadow: 0px 1px 2px rgba(60, 64, 67, 0.3), 0px 1px 3px 1px rgba(60, 64, 67, 0.15);\n",
              "        fill: #174EA6;\n",
              "      }\n",
              "\n",
              "      [theme=dark] .colab-df-generate {\n",
              "        background-color: #3B4455;\n",
              "        fill: #D2E3FC;\n",
              "      }\n",
              "\n",
              "      [theme=dark] .colab-df-generate:hover {\n",
              "        background-color: #434B5C;\n",
              "        box-shadow: 0px 1px 3px 1px rgba(0, 0, 0, 0.15);\n",
              "        filter: drop-shadow(0px 1px 2px rgba(0, 0, 0, 0.3));\n",
              "        fill: #FFFFFF;\n",
              "      }\n",
              "    </style>\n",
              "    <button class=\"colab-df-generate\" onclick=\"generateWithVariable('df')\"\n",
              "            title=\"Generate code using this dataframe.\"\n",
              "            style=\"display:none;\">\n",
              "\n",
              "  <svg xmlns=\"http://www.w3.org/2000/svg\" height=\"24px\"viewBox=\"0 0 24 24\"\n",
              "       width=\"24px\">\n",
              "    <path d=\"M7,19H8.4L18.45,9,17,7.55,7,17.6ZM5,21V16.75L18.45,3.32a2,2,0,0,1,2.83,0l1.4,1.43a1.91,1.91,0,0,1,.58,1.4,1.91,1.91,0,0,1-.58,1.4L9.25,21ZM18.45,9,17,7.55Zm-12,3A5.31,5.31,0,0,0,4.9,8.1,5.31,5.31,0,0,0,1,6.5,5.31,5.31,0,0,0,4.9,4.9,5.31,5.31,0,0,0,6.5,1,5.31,5.31,0,0,0,8.1,4.9,5.31,5.31,0,0,0,12,6.5,5.46,5.46,0,0,0,6.5,12Z\"/>\n",
              "  </svg>\n",
              "    </button>\n",
              "    <script>\n",
              "      (() => {\n",
              "      const buttonEl =\n",
              "        document.querySelector('#id_8ccd3604-e584-43b6-9a61-e12d2e75212c button.colab-df-generate');\n",
              "      buttonEl.style.display =\n",
              "        google.colab.kernel.accessAllowed ? 'block' : 'none';\n",
              "\n",
              "      buttonEl.onclick = () => {\n",
              "        google.colab.notebook.generateWithVariable('df');\n",
              "      }\n",
              "      })();\n",
              "    </script>\n",
              "  </div>\n",
              "\n",
              "    </div>\n",
              "  </div>\n"
            ],
            "application/vnd.google.colaboratory.intrinsic+json": {
              "type": "dataframe",
              "variable_name": "df",
              "summary": "{\n  \"name\": \"df\",\n  \"rows\": 5698,\n  \"fields\": [\n    {\n      \"column\": \"text\",\n      \"properties\": {\n        \"dtype\": \"string\",\n        \"num_unique_values\": 5686,\n        \"samples\": [\n          \"\\u0997\\u09c1\\u09a6\\u09c7\\u09b0 \\u09ae\\u09a7\\u09cd\\u09af \\u09ae\\u09cb\\u099f\\u09be \\u09ac\\u09be\\u09b6 \\u09a6\\u09bf\\u09df\\u09c7 \\u0997\\u09c2\\u09a4\\u09bf\\u09df\\u09c7 \\u09b0\\u0995\\u09cd\\u09a4 \\u09ac\\u09c7\\u09b0\",\n          \"\\u09a4\\u09c1\\u0987 \\u09ae\\u09be\\u0997\\u09bf\\u09b0 \\u09ac\\u09be\\u099a\\u099b\\u09be \\u09b0\\u09c7 \\u0997\\u09b0\\u09c1\\u09b0 \\u09ae\\u09b2 \\u09ae\\u09c1\\u09a4 \\u0996\\u09cd\\u09af\\u09be\\u0995\\u09cd\\u09af\\u09be \\u09ae\\u09be\\u09b2\\u09be\\u0989\\u09a8 \\u0995\\u09c1\\u09b0\\u0986\\u09a8\\u09c7\\u09b0 \\u09ac\\u09b0\\u09cd\\u09a3 \\u09ad\\u09c1\\u09b2 \\u09aa\\u09be\\u09b8 \\u0995\\u09b0 \\u09a4\\u09c1\\u0987 \\u09ae\\u09be\\u09b2\\u09be\\u0989\\u09a8\",\n          \"\\u09ad\\u09be\\u09b0\\u09a4\\u09c7\\u09b0\\u09c7 \\u09b9\\u09cb\\u0997\\u09be \\u09ae\\u09be\\u0987\\u09b0\\u09be \\u09aa\\u09be\\u09a8\\u09bf\\u09a4\\u09c7 \\u09ab\\u09be\\u09b2\\u09be\\u09df \\u0989\\u099a\\u09bf\\u09ce\"\n        ],\n        \"semantic_type\": \"\",\n        \"description\": \"\"\n      }\n    },\n    {\n      \"column\": \"label\",\n      \"properties\": {\n        \"dtype\": \"category\",\n        \"num_unique_values\": 4,\n        \"samples\": [\n          \"Political\",\n          \"Religious\",\n          \"Personal\"\n        ],\n        \"semantic_type\": \"\",\n        \"description\": \"\"\n      }\n    },\n    {\n      \"column\": \"target\",\n      \"properties\": {\n        \"dtype\": \"number\",\n        \"std\": 1,\n        \"min\": 0,\n        \"max\": 3,\n        \"num_unique_values\": 4,\n        \"samples\": [\n          1,\n          2,\n          0\n        ],\n        \"semantic_type\": \"\",\n        \"description\": \"\"\n      }\n    }\n  ]\n}"
            }
          },
          "metadata": {},
          "execution_count": 281
        }
      ]
    },
    {
      "cell_type": "code",
      "source": [
        "\n",
        "#Drop column --> axis= 1 ; row --> axis= 0\n",
        "#x = df.drop(columns = ['target','label'], axis= 1)\n",
        "#y = df[['target','label']]\n",
        "x= df[['text','label']].values\n",
        "y= df.target.values"
      ],
      "metadata": {
        "id": "l3q4uuCgMebY"
      },
      "execution_count": 282,
      "outputs": []
    },
    {
      "cell_type": "code",
      "source": [
        "print(x)"
      ],
      "metadata": {
        "colab": {
          "base_uri": "https://localhost:8080/"
        },
        "collapsed": true,
        "id": "hvVOeOdl2Qth",
        "outputId": "01603eee-c69c-45b3-9f1e-a229a5546f15"
      },
      "execution_count": 283,
      "outputs": [
        {
          "output_type": "stream",
          "name": "stdout",
          "text": [
            "[['বৌদির দুধ দেকে চোখ ছিলো পোলাপান চোখ কিভাবে' 'Personal']\n",
            " ['সরকার নির্লজ্জের মত সাপোর্ট দিয়েছে বছরের বছর আরো রাস্তায় রাস্তায় কাঁদতে'\n",
            "  'Political']\n",
            " ['পিলখানা হত্যাকান্ড বাংলাদেশের প্রতিরক্ষা ব্যবস্থা ধ্বংসের ভারতের প্রত্যক্ষ সহযোগিতায় হত্যাকা ঘটানো হয়েছিল'\n",
            "  'Geopolitical']\n",
            " ...\n",
            " ['হিন্দুদের এগুলো বাস্তব প্রমাণ সবাই মতামত' 'Personal']\n",
            " ['দেখলে শালী একটা অস্ট্রেলিয়ান গাভী' 'Personal']\n",
            " ['ভাই সাথে একমত। নারী নেতৃত্বে থাকতে চাই না। ভিপি নুর মত সৎ সাহসী একজন নেতা চাই।'\n",
            "  'Political']]\n"
          ]
        }
      ]
    },
    {
      "cell_type": "code",
      "source": [
        "print(y)"
      ],
      "metadata": {
        "colab": {
          "base_uri": "https://localhost:8080/"
        },
        "collapsed": true,
        "id": "V_HPfvl02T67",
        "outputId": "be73df4f-1689-41d0-f756-bad354b6f891"
      },
      "execution_count": 284,
      "outputs": [
        {
          "output_type": "stream",
          "name": "stdout",
          "text": [
            "[0 1 3 ... 0 0 1]\n"
          ]
        }
      ]
    },
    {
      "cell_type": "code",
      "source": [
        "from sklearn.model_selection import train_test_split\n",
        "from sklearn.feature_extraction.text import CountVectorizer\n",
        "from sklearn.naive_bayes import MultinomialNB\n",
        "from sklearn.linear_model import LogisticRegression"
      ],
      "metadata": {
        "id": "w_66YljStoRI"
      },
      "execution_count": 285,
      "outputs": []
    },
    {
      "cell_type": "code",
      "source": [
        "xtrain,xtest,ytrain,ytest = train_test_split(x,y,test_size=0.2)"
      ],
      "metadata": {
        "id": "ypbljK2nt1Qe"
      },
      "execution_count": 286,
      "outputs": []
    },
    {
      "cell_type": "code",
      "source": [
        "#cv= CountVectorizer()\n",
        "#x_train = cv.fit_transform(xtrain)\n",
        "#x_test = cv.transform(xtest)"
      ],
      "metadata": {
        "id": "vHFu9TGMuhhE"
      },
      "execution_count": 287,
      "outputs": []
    },
    {
      "cell_type": "code",
      "source": [
        "!pip install scipy"
      ],
      "metadata": {
        "id": "HWoPS9C38hsI",
        "outputId": "aa6ed8aa-d3e0-4976-a231-7208fd298b98",
        "colab": {
          "base_uri": "https://localhost:8080/"
        }
      },
      "execution_count": 288,
      "outputs": [
        {
          "output_type": "stream",
          "name": "stdout",
          "text": [
            "Requirement already satisfied: scipy in /usr/local/lib/python3.10/dist-packages (1.13.1)\n",
            "Requirement already satisfied: numpy<2.3,>=1.22.4 in /usr/local/lib/python3.10/dist-packages (from scipy) (1.26.4)\n"
          ]
        }
      ]
    },
    {
      "cell_type": "code",
      "source": [
        "from scipy.sparse import hstack"
      ],
      "metadata": {
        "id": "ETla8pF8FTZM"
      },
      "execution_count": 289,
      "outputs": []
    },
    {
      "cell_type": "code",
      "source": [
        "print(\"Shape of x_train:\", x_train.shape)\n",
        "print(\"Shape of ytrain:\", ytrain.shape)\n",
        "print(\"Shape of x_test:\", x_test.shape)\n",
        "print(\"Shape of ytest:\", ytest.shape)"
      ],
      "metadata": {
        "id": "7x4XkeLY4573",
        "outputId": "716c0ef3-832d-4c05-9626-28fefa2a9664",
        "colab": {
          "base_uri": "https://localhost:8080/"
        }
      },
      "execution_count": 295,
      "outputs": [
        {
          "output_type": "stream",
          "name": "stdout",
          "text": [
            "Shape of x_train: (9116, 2264)\n",
            "Shape of ytrain: (4558,)\n",
            "Shape of x_test: (2280, 2264)\n",
            "Shape of ytest: (1140,)\n"
          ]
        }
      ]
    },
    {
      "cell_type": "markdown",
      "source": [
        "## **Model Algorithm**"
      ],
      "metadata": {
        "id": "DcXnohfkThUP"
      }
    },
    {
      "cell_type": "code",
      "source": [
        "model = MultinomialNB()\n",
        "model.fit(x_train,ytrain)"
      ],
      "metadata": {
        "collapsed": true,
        "id": "yz2sO2Dj3Uva"
      },
      "execution_count": null,
      "outputs": []
    },
    {
      "cell_type": "code",
      "source": [
        "labels = model.score(x_test, ytest)\n",
        "print(labels)"
      ],
      "metadata": {
        "id": "WTNNaZ8SKaGb"
      },
      "execution_count": null,
      "outputs": []
    },
    {
      "cell_type": "code",
      "source": [
        "model = LogisticRegression()\n",
        "model.fit(x_train, ytrain)"
      ],
      "metadata": {
        "id": "m5cCmvK0Zj-C"
      },
      "execution_count": null,
      "outputs": []
    },
    {
      "cell_type": "code",
      "source": [
        "labels = model.score(x_test, ytest)\n",
        "print(labels)"
      ],
      "metadata": {
        "id": "O5ixBXiDZq9J"
      },
      "execution_count": null,
      "outputs": []
    },
    {
      "cell_type": "markdown",
      "source": [
        "**TF-IDF**"
      ],
      "metadata": {
        "id": "DxDPd3jKUZlH"
      }
    },
    {
      "cell_type": "code",
      "source": [
        "from sklearn.feature_extraction.text import TfidfVectorizer"
      ],
      "metadata": {
        "id": "tNG3M2acZBs2"
      },
      "execution_count": null,
      "outputs": []
    },
    {
      "cell_type": "code",
      "source": [
        "vectorizer = TfidfVectorizer()\n",
        "\n",
        "x_train = vectorizer.fit_transform(xtrain)\n",
        "x_test = vectorizer.transform(xtest)"
      ],
      "metadata": {
        "id": "BhVv8VAUmJJ8"
      },
      "execution_count": null,
      "outputs": []
    },
    {
      "cell_type": "code",
      "source": [
        "model = MultinomialNB()\n",
        "model.fit(x_train,ytrain)"
      ],
      "metadata": {
        "id": "lGhY4Cwfkip8"
      },
      "execution_count": null,
      "outputs": []
    },
    {
      "cell_type": "code",
      "source": [
        "labels = model.score(x_test, ytest)\n",
        "print(labels)"
      ],
      "metadata": {
        "id": "fHsE4spDS-3u"
      },
      "execution_count": null,
      "outputs": []
    },
    {
      "cell_type": "code",
      "source": [
        "model = LogisticRegression()\n",
        "model.fit(x_train, ytrain)"
      ],
      "metadata": {
        "id": "0RwqhSo9SDZM"
      },
      "execution_count": null,
      "outputs": []
    },
    {
      "cell_type": "code",
      "source": [
        "labels = model.score(x_test, ytest)\n",
        "print(labels)"
      ],
      "metadata": {
        "id": "kVl_6kinSGUv"
      },
      "execution_count": null,
      "outputs": []
    },
    {
      "cell_type": "markdown",
      "source": [
        "# **Draft Code**"
      ],
      "metadata": {
        "id": "iYZtadhdUDux"
      }
    }
  ]
}